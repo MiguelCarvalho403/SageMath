{
 "cells": [
  {
   "cell_type": "code",
   "execution_count": 1,
   "metadata": {
    "tags": []
   },
   "outputs": [],
   "source": [
    "# load(sage.env.SAGE_STARTUP_FILE)\n",
    "%display latex\n",
    "from matplotlib import rc\n",
    "rc('text', usetex=True)\n",
    "import matplotlib.pyplot as plt\n",
    "cmaps = [plt.get_cmap(c) for c in ['viridis', 'plasma', 'inferno', 'magma', 'cividis']]+[colormaps.YlGnBu]\n",
    "mcolor = [colormaps.Set1(k)[:3] for k in range(9)]"
   ]
  },
  {
   "cell_type": "markdown",
   "metadata": {
    "tags": []
   },
   "source": [
    "# Scalar perturbation in black hole spacetimes"
   ]
  },
  {
   "cell_type": "markdown",
   "metadata": {},
   "source": [
    "- Isolated BH $\\to$ not really realistic\n",
    "    - BH are surrounded by fields (scalar, fermions, electromagnetic, gravitational, ...) coming from neibouring matter or other compact objects."
   ]
  },
  {
   "cell_type": "markdown",
   "metadata": {},
   "source": [
    "- Perturbation $\\to$ add fields to the BH spacetime"
   ]
  },
  {
   "cell_type": "markdown",
   "metadata": {},
   "source": [
    "- Hypothesis: perturbations are small (no backreaction)"
   ]
  },
  {
   "cell_type": "markdown",
   "metadata": {},
   "source": [
    "- The perturbation dynamics is given by the field equations\n",
    "    - For spin 0,1/2 and 1 we can use the minimal coupling principle\n",
    "    - For spin 2 we must use the gravitational field equations"
   ]
  },
  {
   "cell_type": "markdown",
   "metadata": {
    "tags": []
   },
   "source": [
    "## Schwarzschild space-time in rational-polynomial coordinates"
   ]
  },
  {
   "cell_type": "markdown",
   "metadata": {},
   "source": [
    "We shall use the so called rational polynomial coordinates"
   ]
  },
  {
   "cell_type": "code",
   "execution_count": 2,
   "metadata": {},
   "outputs": [],
   "source": [
    "var('M', domain='positive')\n",
    "Scw.<t,r,θ,ϕ> = manifolds.Kerr(m=M,a=0)\n",
    "chart = Scw.default_chart()\n",
    "g = Scw.metric()"
   ]
  },
  {
   "cell_type": "code",
   "execution_count": 3,
   "metadata": {},
   "outputs": [
    {
     "data": {
      "text/html": [
       "<html>\\(\\displaystyle \\left\\{\\begin{array}{lcl} t & = & t \\\\ r & = & r \\\\ {\\chi} & = & \\cos\\left({\\theta}\\right) \\\\ {\\phi} & = & {\\phi} \\end{array}\\right. \\verb| |\\verb|\t|\\verb| |\\verb|\t|\\verb| |\\verb|\t|\\verb| |\\verb|\t|\\verb| |\\verb|\t|\\verb| |\\verb|\t|\\verb| |\\verb|\t|\\verb| |\\verb|\t|\\verb| |\\verb|\t|\\verb| |\\verb|\t| \\begin{array}{lcl} {g}_{ \\, t \\, t }^{ \\phantom{\\, t}\\phantom{\\, t} } & = & \\frac{2 \\, M - r}{r} \\\\ {g}_{ \\, r \\, r }^{ \\phantom{\\, r}\\phantom{\\, r} } & = & -\\frac{r}{2 \\, M - r} \\\\ {g}_{ \\, {\\chi} \\, {\\chi} }^{ \\phantom{\\, {\\chi}}\\phantom{\\, {\\chi}} } & = & -\\frac{r^{2}}{{\\chi}^{2} - 1} \\\\ {g}_{ \\, {\\phi} \\, {\\phi} }^{ \\phantom{\\, {\\phi}}\\phantom{\\, {\\phi}} } & = & -r^{2} {\\chi}^{2} + r^{2} \\end{array}\\)</html>"
      ],
      "text/latex": [
       "$\\displaystyle \\left\\{\\begin{array}{lcl} t & = & t \\\\ r & = & r \\\\ {\\chi} & = & \\cos\\left({\\theta}\\right) \\\\ {\\phi} & = & {\\phi} \\end{array}\\right. \\verb| |\\verb|\t|\\verb| |\\verb|\t|\\verb| |\\verb|\t|\\verb| |\\verb|\t|\\verb| |\\verb|\t|\\verb| |\\verb|\t|\\verb| |\\verb|\t|\\verb| |\\verb|\t|\\verb| |\\verb|\t|\\verb| |\\verb|\t| \\begin{array}{lcl} {g}_{ \\, t \\, t }^{ \\phantom{\\, t}\\phantom{\\, t} } & = & \\frac{2 \\, M - r}{r} \\\\ {g}_{ \\, r \\, r }^{ \\phantom{\\, r}\\phantom{\\, r} } & = & -\\frac{r}{2 \\, M - r} \\\\ {g}_{ \\, {\\chi} \\, {\\chi} }^{ \\phantom{\\, {\\chi}}\\phantom{\\, {\\chi}} } & = & -\\frac{r^{2}}{{\\chi}^{2} - 1} \\\\ {g}_{ \\, {\\phi} \\, {\\phi} }^{ \\phantom{\\, {\\phi}}\\phantom{\\, {\\phi}} } & = & -r^{2} {\\chi}^{2} + r^{2} \\end{array}$"
      ],
      "text/plain": [
       "t = t\n",
       "r = r\n",
       "χ = cos(θ)\n",
       "ϕ = ϕ ' \\t \\t \\t \\t \\t \\t \\t \\t \\t \\t' g_tt = (2*M - r)/r \n",
       "g_rr = -r/(2*M - r) \n",
       "g_χχ = -r^2/(χ^2 - 1) \n",
       "g_ϕϕ = -r^2*χ^2 + r^2 "
      ]
     },
     "metadata": {},
     "output_type": "display_data"
    }
   ],
   "source": [
    "PR.<t,r,χ,ϕ> = Scw.chart(r't r:(0,oo) χ:[-1,1]:\\chi ϕ:[-pi,pi]:periodic:\\phi')\n",
    "SC_to_PR = PR.transition_map(chart, [t,r,arccos(χ),ϕ])\n",
    "Scw.set_default_chart(PR)\n",
    "Scw.set_default_frame(PR.frame())\n",
    "show(SC_to_PR.inverse().display(),10*' \\t',g.display_comp())"
   ]
  },
  {
   "cell_type": "markdown",
   "metadata": {
    "tags": []
   },
   "source": [
    "## Scalar field and Klein-Gordon equation"
   ]
  },
  {
   "cell_type": "markdown",
   "metadata": {},
   "source": [
    "When quantizing the energy-momentum relation of Special Relativity, we get\n",
    "\n",
    "$$E^2 = p^2 + m^2 → Ê^2 = p̂^2 + m^2\\mathbb{I},$$\n",
    "\n",
    "where $Ê = iℏ ∂_t$ , $p̂ = −iℏ ∇$ and $\\mathbb{I}$ is the identity operator. "
   ]
  },
  {
   "cell_type": "markdown",
   "metadata": {},
   "source": [
    "Applying\n",
    "the identity to a scalar field $Φ$, we find the Klein–Gordon (KG) equation\n",
    "in the Minkowski spacetime\n",
    "\n",
    "$$(−∂_t^2 + ∇^2 − µ^2) Φ = (\\Box{} − µ^2)Φ = 0,$$\n",
    "with $µ = m/ℏ$."
   ]
  },
  {
   "cell_type": "markdown",
   "metadata": {},
   "source": [
    "The solutions of the Klein-Gordon equation are modes of frequency $ω$, orbital number $ℓ ∈ N$ and azimuthal $m ∈ Z$, with $−ℓ ≤ m ≤ ℓ$\n",
    "\n",
    "$$Φ_{ωℓm}(t, r, χ, ϕ) = \\exp(−iωt + imϕ) R_{ωℓ}(r)S_{ℓm}(χ)$$"
   ]
  },
  {
   "cell_type": "markdown",
   "metadata": {},
   "source": [
    "Since the KG is linear, any linear combination of modes is also a solution\n",
    "\n",
    "$$Φ(t, r, χ, ϕ) = \\int_{-\\infty}^\\infty dω \\sum_{\\ell=0}^\\infty \\sum_{m=-\\ell}^\\ell a_{ℓmω}\\exp(−iωt + imϕ) R_{ωℓ}(r) S_{ℓm}(χ)$$\n",
    "\n",
    "where $a_{ℓmω}$ are arbitrary functions of $ω$ for any given pair $(ℓ, m)$. "
   ]
  },
  {
   "cell_type": "markdown",
   "metadata": {},
   "source": [
    "The functions $a_{ℓmω}$ can be determined from the initial conditions associated with the problem under investigation."
   ]
  },
  {
   "cell_type": "markdown",
   "metadata": {},
   "source": [
    "**Taking into account the axisymmetry and the stationarity of the metric, we intrduce the following ansatz:**"
   ]
  },
  {
   "cell_type": "code",
   "execution_count": 4,
   "metadata": {},
   "outputs": [],
   "source": [
    "var('m μ λ', domain='positive') # μ = M / ħ, λ = sep_constant\n",
    "var('ω')\n",
    "R, S = function('R'),function('S')\n",
    "Φ = Scw.scalar_field(exp(-i*ω*t+i*m*ϕ)*R(r)*S(χ),name='Φ',latex_name=r'\\Phi')\n"
   ]
  },
  {
   "cell_type": "markdown",
   "metadata": {},
   "source": [
    "**And we calculate the left hand side of the Klein-Gordon equation:**"
   ]
  },
  {
   "cell_type": "code",
   "execution_count": 5,
   "metadata": {},
   "outputs": [
    {
     "data": {
      "text/html": [
       "<html>\\(\\displaystyle -\\frac{{\\left(r^{3} {\\chi}^{2} R\\left(r\\right) - r^{3} R\\left(r\\right)\\right)} ω^{2} S\\left({\\chi}\\right) - {\\left({\\left(2 \\, M r^{2} - r^{3}\\right)} μ^{2} R\\left(r\\right) - {\\left({\\left(2 \\, M r^{2} - r^{3}\\right)} μ^{2} R\\left(r\\right) + 2 \\, {\\left(2 \\, M^{2} - 3 \\, M r + r^{2}\\right)} \\frac{\\partial}{\\partial r}R\\left(r\\right) + {\\left(4 \\, M^{2} r - 4 \\, M r^{2} + r^{3}\\right)} \\frac{\\partial^{2}}{(\\partial r)^{2}}R\\left(r\\right)\\right)} {\\chi}^{2} + {\\left(2 \\, M m^{2} - m^{2} r\\right)} R\\left(r\\right) + 2 \\, {\\left(2 \\, M^{2} - 3 \\, M r + r^{2}\\right)} \\frac{\\partial}{\\partial r}R\\left(r\\right) + {\\left(4 \\, M^{2} r - 4 \\, M r^{2} + r^{3}\\right)} \\frac{\\partial^{2}}{(\\partial r)^{2}}R\\left(r\\right)\\right)} S\\left({\\chi}\\right) + 2 \\, {\\left({\\left(2 \\, M - r\\right)} {\\chi}^{3} R\\left(r\\right) - {\\left(2 \\, M - r\\right)} {\\chi} R\\left(r\\right)\\right)} \\frac{\\partial}{\\partial {\\chi}}S\\left({\\chi}\\right) + {\\left({\\left(2 \\, M - r\\right)} {\\chi}^{4} R\\left(r\\right) - 2 \\, {\\left(2 \\, M - r\\right)} {\\chi}^{2} R\\left(r\\right) + {\\left(2 \\, M - r\\right)} R\\left(r\\right)\\right)} \\frac{\\partial^{2}}{(\\partial {\\chi})^{2}}S\\left({\\chi}\\right)}{{\\left({\\left(2 \\, M r^{2} - r^{3}\\right)} {\\chi}^{2} R\\left(r\\right) - {\\left(2 \\, M r^{2} - r^{3}\\right)} R\\left(r\\right)\\right)} S\\left({\\chi}\\right)}\\)</html>"
      ],
      "text/latex": [
       "$\\displaystyle -\\frac{{\\left(r^{3} {\\chi}^{2} R\\left(r\\right) - r^{3} R\\left(r\\right)\\right)} ω^{2} S\\left({\\chi}\\right) - {\\left({\\left(2 \\, M r^{2} - r^{3}\\right)} μ^{2} R\\left(r\\right) - {\\left({\\left(2 \\, M r^{2} - r^{3}\\right)} μ^{2} R\\left(r\\right) + 2 \\, {\\left(2 \\, M^{2} - 3 \\, M r + r^{2}\\right)} \\frac{\\partial}{\\partial r}R\\left(r\\right) + {\\left(4 \\, M^{2} r - 4 \\, M r^{2} + r^{3}\\right)} \\frac{\\partial^{2}}{(\\partial r)^{2}}R\\left(r\\right)\\right)} {\\chi}^{2} + {\\left(2 \\, M m^{2} - m^{2} r\\right)} R\\left(r\\right) + 2 \\, {\\left(2 \\, M^{2} - 3 \\, M r + r^{2}\\right)} \\frac{\\partial}{\\partial r}R\\left(r\\right) + {\\left(4 \\, M^{2} r - 4 \\, M r^{2} + r^{3}\\right)} \\frac{\\partial^{2}}{(\\partial r)^{2}}R\\left(r\\right)\\right)} S\\left({\\chi}\\right) + 2 \\, {\\left({\\left(2 \\, M - r\\right)} {\\chi}^{3} R\\left(r\\right) - {\\left(2 \\, M - r\\right)} {\\chi} R\\left(r\\right)\\right)} \\frac{\\partial}{\\partial {\\chi}}S\\left({\\chi}\\right) + {\\left({\\left(2 \\, M - r\\right)} {\\chi}^{4} R\\left(r\\right) - 2 \\, {\\left(2 \\, M - r\\right)} {\\chi}^{2} R\\left(r\\right) + {\\left(2 \\, M - r\\right)} R\\left(r\\right)\\right)} \\frac{\\partial^{2}}{(\\partial {\\chi})^{2}}S\\left({\\chi}\\right)}{{\\left({\\left(2 \\, M r^{2} - r^{3}\\right)} {\\chi}^{2} R\\left(r\\right) - {\\left(2 \\, M r^{2} - r^{3}\\right)} R\\left(r\\right)\\right)} S\\left({\\chi}\\right)}$"
      ],
      "text/plain": [
       "-((r^3*χ^2*R(r) - r^3*R(r))*ω^2*S(χ) - ((2*M*r^2 - r^3)*μ^2*R(r) - ((2*M*r^2 - r^3)*μ^2*R(r) + 2*(2*M^2 - 3*M*r + r^2)*diff(R(r), r) + (4*M^2*r - 4*M*r^2 + r^3)*diff(R(r), r, r))*χ^2 + (2*M*m^2 - m^2*r)*R(r) + 2*(2*M^2 - 3*M*r + r^2)*diff(R(r), r) + (4*M^2*r - 4*M*r^2 + r^3)*diff(R(r), r, r))*S(χ) + 2*((2*M - r)*χ^3*R(r) - (2*M - r)*χ*R(r))*diff(S(χ), χ) + ((2*M - r)*χ^4*R(r) - 2*(2*M - r)*χ^2*R(r) + (2*M - r)*R(r))*diff(S(χ), χ, χ))/(((2*M*r^2 - r^3)*χ^2*R(r) - (2*M*r^2 - r^3)*R(r))*S(χ))"
      ]
     },
     "execution_count": 5,
     "metadata": {},
     "output_type": "execute_result"
    }
   ],
   "source": [
    "dal_Φ = Φ.dalembertian()\n",
    "KG = (dal_Φ/Φ -μ^2).expr()\n",
    "KG"
   ]
  },
  {
   "cell_type": "code",
   "execution_count": 6,
   "metadata": {},
   "outputs": [],
   "source": [
    "Parallelism().set(nproc=12)"
   ]
  },
  {
   "cell_type": "markdown",
   "metadata": {
    "tags": []
   },
   "source": [
    "## Separating the equation"
   ]
  },
  {
   "cell_type": "code",
   "execution_count": 7,
   "metadata": {},
   "outputs": [],
   "source": [
    "from de_tools_copy1 import separate_pde"
   ]
  },
  {
   "cell_type": "markdown",
   "metadata": {},
   "source": [
    "**We now separate $r$ and $\\chi$ variables**"
   ]
  },
  {
   "cell_type": "code",
   "execution_count": 8,
   "metadata": {},
   "outputs": [
    {
     "name": "stdout",
     "output_type": "stream",
     "text": [
      "[2*M*m^2/((2*M - r)*r^2*(χ + 1)*(χ - 1)) - m^2/((2*M - r)*r*(χ + 1)*(χ - 1)) - 2*(χ^2*diff(S(χ), χ, χ) + 2*χ*diff(S(χ), χ) - diff(S(χ), χ, χ))*M/((2*M - r)*r^2*S(χ)) + (χ^2*diff(S(χ), χ, χ) + 2*χ*diff(S(χ), χ) - diff(S(χ), χ, χ))/((2*M - r)*r*S(χ)), -(2*M*μ^2 - r*μ^2 + r*ω^2)/(2*M - r) + (4*M*diff(R(r), r, r) - r*diff(R(r), r, r) - 2*diff(R(r), r))/((2*M - r)*R(r)) - 2*(2*M*diff(R(r), r, r) - 3*diff(R(r), r))*M/((2*M - r)*r*R(r)) - 4*M^2*diff(R(r), r)/((2*M - r)*r^2*R(r)), 0]\n",
      "work!!\n",
      "Partial_pde[m^2/(r^2*(χ + 1)*(χ - 1)) - (χ^2*diff(S(χ), χ, χ) + 2*χ*diff(S(χ), χ) - diff(S(χ), χ, χ))/(r^2*S(χ)), 0, 0]\n",
      "[m^2/(r^2*(χ + 1)*(χ - 1)) - (χ^2*diff(S(χ), χ, χ) + 2*χ*diff(S(χ), χ) - diff(S(χ), χ, χ))/(r^2*S(χ)), -(2*M*μ^2 - r*μ^2 + r*ω^2)/(2*M - r) + (4*M*diff(R(r), r, r) - r*diff(R(r), r, r) - 2*diff(R(r), r))/((2*M - r)*R(r)) - 2*(2*M*diff(R(r), r, r) - 3*diff(R(r), r))*M/((2*M - r)*r*R(r)) - 4*M^2*diff(R(r), r)/((2*M - r)*r^2*R(r)), 0]\n",
      "[-(2*M*r^2*μ^2 - r^3*μ^2 + r^3*ω^2)/(2*M - r) - (4*M^2*r*diff(R(r), r, r) - 4*M*r^2*diff(R(r), r, r) + r^3*diff(R(r), r, r) + 4*M^2*diff(R(r), r) - 6*M*r*diff(R(r), r) + 2*r^2*diff(R(r), r))/((2*M - r)*R(r)), m^2/((χ + 1)*(χ - 1)) - (χ^4*diff(S(χ), χ, χ) + 2*χ^3*diff(S(χ), χ) - 2*χ^2*diff(S(χ), χ, χ) - 2*χ*diff(S(χ), χ) + diff(S(χ), χ, χ))/((χ + 1)*(χ - 1)*S(χ))]\n",
      "initial_de: -2*M*r^2*μ^2*R(r) + r^3*μ^2*R(r) - r^3*ω^2*R(r) - 4*M^2*r*diff(R(r), r, r) + 4*M*r^2*diff(R(r), r, r) - r^3*diff(R(r), r, r) - (2*M - r)*λ*R(r) - 4*M^2*diff(R(r), r) + 6*M*r*diff(R(r), r) - 2*r^2*diff(R(r), r) == 0\n",
      "initial_de: -2*M*r^2*μ^2*R(r) + r^3*μ^2*R(r) - r^3*ω^2*R(r) - 4*M^2*r*diff(R(r), r, r) + 4*M*r^2*diff(R(r), r, r) - r^3*diff(R(r), r, r) - (2*M - r)*λ*R(r) - 4*M^2*diff(R(r), r) + 6*M*r*diff(R(r), r) - 2*r^2*diff(R(r), r) == 0\n",
      "new_de*coeff_2: -(2*M - r)^2*r*(2*(M - r)*diff(R(r), r)/((2*M - r)*r) + (2*M*r^2*μ^2 - r^3*μ^2 + r^3*ω^2 + 2*M*λ - r*λ)*R(r)/((2*M - r)^2*r) + diff(R(r), r, r)) == 0\n",
      "initial_de: -χ^4*diff(S(χ), χ, χ) + λ*(χ + 1)*(χ - 1)*S(χ) - 2*χ^3*diff(S(χ), χ) + m^2*S(χ) + 2*χ^2*diff(S(χ), χ, χ) + 2*χ*diff(S(χ), χ) - diff(S(χ), χ, χ) == 0\n",
      "initial_de: -χ^4*diff(S(χ), χ, χ) + λ*(χ + 1)*(χ - 1)*S(χ) - 2*χ^3*diff(S(χ), χ) + m^2*S(χ) + 2*χ^2*diff(S(χ), χ, χ) + 2*χ*diff(S(χ), χ) - diff(S(χ), χ, χ) == 0\n",
      "new_de*coeff_2: -(χ + 1)^2*(χ - 1)^2*(2*χ*diff(S(χ), χ)/((χ + 1)*(χ - 1)) - (λ*χ^2 + m^2 - λ)*S(χ)/((χ + 1)^2*(χ - 1)^2) + diff(S(χ), χ, χ)) == 0\n",
      "partially_separated_pde: [-(2*M*r^2*μ^2 - r^3*μ^2 + r^3*ω^2)/(2*M - r) - (4*M^2*r*diff(R(r), r, r) - 4*M*r^2*diff(R(r), r, r) + r^3*diff(R(r), r, r) + 4*M^2*diff(R(r), r) - 6*M*r*diff(R(r), r) + 2*r^2*diff(R(r), r))/((2*M - r)*R(r)), m^2/((χ + 1)*(χ - 1)) - (χ^4*diff(S(χ), χ, χ) + 2*χ^3*diff(S(χ), χ) - 2*χ^2*diff(S(χ), χ, χ) - 2*χ*diff(S(χ), χ) + diff(S(χ), χ, χ))/((χ + 1)*(χ - 1)*S(χ))]\n",
      "Equações: [2*(M - r)*diff(R(r), r)/((2*M - r)*r) + (2*M*r^2*μ^2 - r^3*μ^2 + r^3*ω^2 + 2*M*λ - r*λ)*R(r)/((2*M - r)^2*r) + diff(R(r), r, r) == 0, 2*χ*diff(S(χ), χ)/((χ + 1)*(χ - 1)) - (λ*χ^2 + m^2 - λ)*S(χ)/((χ + 1)^2*(χ - 1)^2) + diff(S(χ), χ, χ) == 0]\n",
      "sep_constant: λ\n"
     ]
    },
    {
     "data": {
      "text/html": [
       "<br>"
      ],
      "text/plain": [
       "<br>"
      ]
     },
     "metadata": {},
     "output_type": "display_data"
    },
    {
     "data": {
      "text/html": [
       "\\(\\large \\color{green}{\\text{Equations separated}}\\)"
      ],
      "text/plain": [
       "\\(\\large \\color{green}{\\text{Equations separated}}\\)"
      ]
     },
     "metadata": {},
     "output_type": "display_data"
    },
    {
     "data": {
      "text/html": [
       " "
      ],
      "text/plain": [
       " "
      ]
     },
     "metadata": {},
     "output_type": "display_data"
    },
    {
     "data": {
      "text/html": [
       "\\(\\text{Parameters:} \\left(M, r, λ, μ, ω\\right) \\)"
      ],
      "text/plain": [
       "\\(\\text{Parameters:} \\left(M, r, λ, μ, ω\\right) \\)"
      ]
     },
     "metadata": {},
     "output_type": "display_data"
    },
    {
     "data": {
      "text/html": [
       " "
      ],
      "text/plain": [
       " "
      ]
     },
     "metadata": {},
     "output_type": "display_data"
    },
    {
     "data": {
      "text/html": [
       "\\(\\large \\frac{2 \\, {\\left(M - r\\right)} \\frac{\\partial\\,R}{\\partial r}}{{\\left(2 \\, M - r\\right)} r} + \\frac{{\\left(2 \\, M r^{2} μ^{2} - r^{3} μ^{2} + r^{3} ω^{2} + 2 \\, M λ - r λ\\right)} R\\left(r\\right)}{{\\left(2 \\, M - r\\right)}^{2} r} + \\frac{\\partial^2\\,R}{\\partial r ^ 2} = 0 \\)"
      ],
      "text/plain": [
       "\\(\\large \\frac{2 \\, {\\left(M - r\\right)} \\frac{\\partial\\,R}{\\partial r}}{{\\left(2 \\, M - r\\right)} r} + \\frac{{\\left(2 \\, M r^{2} μ^{2} - r^{3} μ^{2} + r^{3} ω^{2} + 2 \\, M λ - r λ\\right)} R\\left(r\\right)}{{\\left(2 \\, M - r\\right)}^{2} r} + \\frac{\\partial^2\\,R}{\\partial r ^ 2} = 0 \\)"
      ]
     },
     "metadata": {},
     "output_type": "display_data"
    },
    {
     "data": {
      "text/html": [
       "<br>"
      ],
      "text/plain": [
       "<br>"
      ]
     },
     "metadata": {},
     "output_type": "display_data"
    },
    {
     "data": {
      "text/html": [
       "\\(\\text{Parameters:} \\left(m, λ, {\\chi}\\right) \\)"
      ],
      "text/plain": [
       "\\(\\text{Parameters:} \\left(m, λ, {\\chi}\\right) \\)"
      ]
     },
     "metadata": {},
     "output_type": "display_data"
    },
    {
     "data": {
      "text/html": [
       " "
      ],
      "text/plain": [
       " "
      ]
     },
     "metadata": {},
     "output_type": "display_data"
    },
    {
     "data": {
      "text/html": [
       "\\(\\large \\frac{2 \\, {\\chi} \\frac{\\partial\\,S}{\\partial {\\chi}}}{{\\left({\\chi} + 1\\right)} {\\left({\\chi} - 1\\right)}} - \\frac{{\\left(λ {\\chi}^{2} + m^{2} - λ\\right)} S\\left({\\chi}\\right)}{{\\left({\\chi} + 1\\right)}^{2} {\\left({\\chi} - 1\\right)}^{2}} + \\frac{\\partial^2\\,S}{\\partial {\\chi} ^ 2} = 0 \\)"
      ],
      "text/plain": [
       "\\(\\large \\frac{2 \\, {\\chi} \\frac{\\partial\\,S}{\\partial {\\chi}}}{{\\left({\\chi} + 1\\right)} {\\left({\\chi} - 1\\right)}} - \\frac{{\\left(λ {\\chi}^{2} + m^{2} - λ\\right)} S\\left({\\chi}\\right)}{{\\left({\\chi} + 1\\right)}^{2} {\\left({\\chi} - 1\\right)}^{2}} + \\frac{\\partial^2\\,S}{\\partial {\\chi} ^ 2} = 0 \\)"
      ]
     },
     "metadata": {},
     "output_type": "display_data"
    },
    {
     "data": {
      "text/html": [
       "<br>"
      ],
      "text/plain": [
       "<br>"
      ]
     },
     "metadata": {},
     "output_type": "display_data"
    }
   ],
   "source": [
    "λ = var('λ')\n",
    "KG1 = separate_pde(KG, (R(r),S(χ)), (r,χ), λ, show_log=False)"
   ]
  },
  {
   "cell_type": "code",
   "execution_count": 9,
   "metadata": {},
   "outputs": [
    {
     "data": {
      "text/html": [
       "<html>\\(\\displaystyle \\left[\\frac{2 \\, {\\left(M - r\\right)} \\frac{\\partial}{\\partial r}R\\left(r\\right)}{{\\left(2 \\, M - r\\right)} r} + \\frac{{\\left(2 \\, M r^{2} μ^{2} - r^{3} μ^{2} + r^{3} ω^{2} + 2 \\, M λ - r λ\\right)} R\\left(r\\right)}{{\\left(2 \\, M - r\\right)}^{2} r} + \\frac{\\partial^{2}}{(\\partial r)^{2}}R\\left(r\\right) = 0, \\frac{2 \\, {\\chi} \\frac{\\partial}{\\partial {\\chi}}S\\left({\\chi}\\right)}{{\\left({\\chi} + 1\\right)} {\\left({\\chi} - 1\\right)}} - \\frac{{\\left(λ {\\chi}^{2} + m^{2} - λ\\right)} S\\left({\\chi}\\right)}{{\\left({\\chi} + 1\\right)}^{2} {\\left({\\chi} - 1\\right)}^{2}} + \\frac{\\partial^{2}}{(\\partial {\\chi})^{2}}S\\left({\\chi}\\right) = 0\\right]\\)</html>"
      ],
      "text/latex": [
       "$\\displaystyle \\left[\\frac{2 \\, {\\left(M - r\\right)} \\frac{\\partial}{\\partial r}R\\left(r\\right)}{{\\left(2 \\, M - r\\right)} r} + \\frac{{\\left(2 \\, M r^{2} μ^{2} - r^{3} μ^{2} + r^{3} ω^{2} + 2 \\, M λ - r λ\\right)} R\\left(r\\right)}{{\\left(2 \\, M - r\\right)}^{2} r} + \\frac{\\partial^{2}}{(\\partial r)^{2}}R\\left(r\\right) = 0, \\frac{2 \\, {\\chi} \\frac{\\partial}{\\partial {\\chi}}S\\left({\\chi}\\right)}{{\\left({\\chi} + 1\\right)} {\\left({\\chi} - 1\\right)}} - \\frac{{\\left(λ {\\chi}^{2} + m^{2} - λ\\right)} S\\left({\\chi}\\right)}{{\\left({\\chi} + 1\\right)}^{2} {\\left({\\chi} - 1\\right)}^{2}} + \\frac{\\partial^{2}}{(\\partial {\\chi})^{2}}S\\left({\\chi}\\right) = 0\\right]$"
      ],
      "text/plain": [
       "[2*(M - r)*diff(R(r), r)/((2*M - r)*r) + (2*M*r^2*μ^2 - r^3*μ^2 + r^3*ω^2 + 2*M*λ - r*λ)*R(r)/((2*M - r)^2*r) + diff(R(r), r, r) == 0,\n",
       " 2*χ*diff(S(χ), χ)/((χ + 1)*(χ - 1)) - (λ*χ^2 + m^2 - λ)*S(χ)/((χ + 1)^2*(χ - 1)^2) + diff(S(χ), χ, χ) == 0]"
      ]
     },
     "execution_count": 9,
     "metadata": {},
     "output_type": "execute_result"
    }
   ],
   "source": [
    "KG1"
   ]
  },
  {
   "cell_type": "markdown",
   "metadata": {},
   "source": [
    "Note that the second equation is the associated Legendre equation, with\n",
    "\n",
    "$$Y_{\\ell m}(\\theta, \\phi) = S_{\\ell m}(\\theta)e^{im\\phi}$$"
   ]
  },
  {
   "cell_type": "markdown",
   "metadata": {},
   "source": [
    "If we require that its solutions are non - singular at $\\chi = -1$ and $\\chi =   1$ (equivalently, at $\\theta = 0$ and $\\theta = \\pi$), the separation constant must be $\\lambda =  \\ell(\\ell + 1)$, where $\\ell$ is an integer."
   ]
  },
  {
   "cell_type": "markdown",
   "metadata": {
    "tags": []
   },
   "source": [
    "## Transformation of the radial equation to a Schroedinger-like equation"
   ]
  },
  {
   "cell_type": "markdown",
   "metadata": {},
   "source": [
    "**First we do $\\displaystyle R(r) = \\frac{\\psi(r)}{r}$**"
   ]
  },
  {
   "cell_type": "code",
   "execution_count": 10,
   "metadata": {},
   "outputs": [],
   "source": [
    "ψ(r) = function('ψ', latex_name=r'\\psi_{_{\\omega \\ell}}')(r)"
   ]
  },
  {
   "cell_type": "code",
   "execution_count": 11,
   "metadata": {},
   "outputs": [],
   "source": [
    "from de_tools import change_function\n",
    "from sage.manifolds.utilities import ExpressionNice as disp"
   ]
  },
  {
   "cell_type": "code",
   "execution_count": 12,
   "metadata": {},
   "outputs": [
    {
     "name": "stderr",
     "output_type": "stream",
     "text": [
      "/home/carvalho/Jupyter_projects/de_tools.py:221: DeprecationWarning: is_SymbolicEquation is deprecated; use 'isinstance(x, sage.structure.element.Expression) and x.is_relational()' instead\n",
      "See https://github.com/sagemath/sage/issues/35505 for details.\n",
      "  coefficients = get_de_coefficients(initial_de, fun, variable)\n"
     ]
    },
    {
     "data": {
      "text/html": [
       "<html>\\(\\displaystyle -\\frac{2 \\, M \\frac{\\partial\\,\\psi_{_{\\omega \\ell}}}{\\partial r}}{{\\left(2 \\, M - r\\right)} r} + \\frac{{\\left(2 \\, M r^{3} μ^{2} - r^{4} μ^{2} + r^{4} ω^{2} + 2 \\, M r {\\left(ℓ + 1\\right)} ℓ - r^{2} {\\left(ℓ + 1\\right)} ℓ + 4 \\, M^{2} - 2 \\, M r\\right)} \\psi_{_{\\omega \\ell}}\\left(r\\right)}{{\\left(2 \\, M - r\\right)}^{2} r^{2}} + \\frac{\\partial^2\\,\\psi_{_{\\omega \\ell}}}{\\partial r ^ 2} = 0\\)</html>"
      ],
      "text/latex": [
       "$\\displaystyle -\\frac{2 \\, M \\frac{\\partial\\,\\psi_{_{\\omega \\ell}}}{\\partial r}}{{\\left(2 \\, M - r\\right)} r} + \\frac{{\\left(2 \\, M r^{3} μ^{2} - r^{4} μ^{2} + r^{4} ω^{2} + 2 \\, M r {\\left(ℓ + 1\\right)} ℓ - r^{2} {\\left(ℓ + 1\\right)} ℓ + 4 \\, M^{2} - 2 \\, M r\\right)} \\psi_{_{\\omega \\ell}}\\left(r\\right)}{{\\left(2 \\, M - r\\right)}^{2} r^{2}} + \\frac{\\partial^2\\,\\psi_{_{\\omega \\ell}}}{\\partial r ^ 2} = 0$"
      ],
      "text/plain": [
       "-2*M*d(ψ)/dr/((2*M - r)*r) + (2*M*r^3*μ^2 - r^4*μ^2 + r^4*ω^2 + 2*M*r*(ℓ + 1)*ℓ - r^2*(ℓ + 1)*ℓ + 4*M^2 - 2*M*r)*ψ(r)/((2*M - r)^2*r^2) + d^2(ψ)/dr^2 == 0"
      ]
     },
     "execution_count": 12,
     "metadata": {},
     "output_type": "execute_result"
    }
   ],
   "source": [
    "ℓ = var('ℓ', domain='positive')\n",
    "eq_ψ_0 = change_function(KG1[0], R(r), ψ(r), ψ(r)/r, r).subs({λ:ℓ*(ℓ+1)})\n",
    "disp(eq_ψ_0)"
   ]
  },
  {
   "cell_type": "markdown",
   "metadata": {},
   "source": [
    "**Introducing the tortoise coordinate $r_\\star$, so that $\\dfrac{dr_\\star}{dr} = \\dfrac{r^2}{(r^2 - 2 Mr)}$. Therefore $\\dfrac{d\\psi_{_{\\omega \\ell}}}{dr} = \\dfrac{d\\psi_{_{\\omega \\ell}}}{dr_\\star}\\dfrac{dr_\\star}{dr}$ and $\\dfrac{d^2 \\psi_{_{\\omega \\ell}}}{dr^2} = \\dfrac{d\\psi_{_{\\omega \\ell}}}{dr_\\star}\\dfrac{d^2 r_\\star}{dr^2} + \\dfrac{d^2 \\psi_{_{\\omega \\ell}}}{dr_\\star^2}\\left(\\dfrac{dr_\\star}{dr}\\right)^2$.**"
   ]
  },
  {
   "cell_type": "code",
   "execution_count": 13,
   "metadata": {},
   "outputs": [],
   "source": [
    "rtr = function('rt', latex_name=r'r_\\star')(r)\n",
    "drt = r^2/(r^2-2*M*r)\n",
    "rt = var('rt', latex_name=r'r_\\star', domain='real')"
   ]
  },
  {
   "cell_type": "code",
   "execution_count": 14,
   "metadata": {},
   "outputs": [],
   "source": [
    "from de_tools import change_variable"
   ]
  },
  {
   "cell_type": "code",
   "execution_count": 15,
   "metadata": {},
   "outputs": [
    {
     "name": "stderr",
     "output_type": "stream",
     "text": [
      "/home/carvalho/Jupyter_projects/de_tools.py:231: DeprecationWarning: is_SymbolicEquation is deprecated; use 'isinstance(x, sage.structure.element.Expression) and x.is_relational()' instead\n",
      "See https://github.com/sagemath/sage/issues/35505 for details.\n",
      "  check_result(initial_de, new_de*coeff_2, step_message=f'canonicalize_de for {fun}: ', show_log=show_log)\n"
     ]
    },
    {
     "data": {
      "text/html": [
       "<html>\\(\\displaystyle \\frac{{\\left(2 \\, M r^{3} μ^{2} - r^{4} μ^{2} + r^{4} ω^{2} + 2 \\, M r ℓ^{2} - r^{2} ℓ^{2} + 2 \\, M r ℓ - r^{2} ℓ + 4 \\, M^{2} - 2 \\, M r\\right)} \\psi_{_{\\omega \\ell}}\\left({r_\\star}\\right)}{r^{4}} + \\frac{\\partial^2\\,\\psi_{_{\\omega \\ell}}}{\\partial {r_\\star} ^ 2} = 0\\)</html>"
      ],
      "text/latex": [
       "$\\displaystyle \\frac{{\\left(2 \\, M r^{3} μ^{2} - r^{4} μ^{2} + r^{4} ω^{2} + 2 \\, M r ℓ^{2} - r^{2} ℓ^{2} + 2 \\, M r ℓ - r^{2} ℓ + 4 \\, M^{2} - 2 \\, M r\\right)} \\psi_{_{\\omega \\ell}}\\left({r_\\star}\\right)}{r^{4}} + \\frac{\\partial^2\\,\\psi_{_{\\omega \\ell}}}{\\partial {r_\\star} ^ 2} = 0$"
      ],
      "text/plain": [
       "(2*M*r^3*μ^2 - r^4*μ^2 + r^4*ω^2 + 2*M*r*ℓ^2 - r^2*ℓ^2 + 2*M*r*ℓ - r^2*ℓ + 4*M^2 - 2*M*r)*ψ(rt)/r^4 + d^2(ψ)/drt^2 == 0"
      ]
     },
     "execution_count": 15,
     "metadata": {},
     "output_type": "execute_result"
    }
   ],
   "source": [
    "eq_ψ  = change_variable(eq_ψ_0, ψ, r, rtr, rt, drt, expand=True, show_log=False)\n",
    "disp(eq_ψ)"
   ]
  },
  {
   "cell_type": "markdown",
   "metadata": {},
   "source": [
    "**Comparing the expression above with $$\\left(\\omega^2-V\\right)\\psi+\\psi''=0$$ we find the potential.**"
   ]
  },
  {
   "cell_type": "code",
   "execution_count": 16,
   "metadata": {},
   "outputs": [],
   "source": [
    "from de_tools import get_de_coefficients\n",
    "# get_de_coefficients(eq_ψ, ψ(rt), rt)"
   ]
  },
  {
   "cell_type": "code",
   "execution_count": 17,
   "metadata": {},
   "outputs": [
    {
     "name": "stderr",
     "output_type": "stream",
     "text": [
      "/tmp/ipykernel_44044/497392531.py:1: DeprecationWarning: is_SymbolicEquation is deprecated; use 'isinstance(x, sage.structure.element.Expression) and x.is_relational()' instead\n",
      "See https://github.com/sagemath/sage/issues/35505 for details.\n",
      "  __tmp__=var(\"r\"); V = symbolic_expression(ω**Integer(2)-get_de_coefficients(eq_ψ, ψ(rt), rt)[Integer(0)].expand()).function(r)\n"
     ]
    },
    {
     "data": {
      "text/html": [
       "<html>\\(\\displaystyle V_\\ell(r) =  -\\frac{2 \\, M μ^{2}}{r} + μ^{2} - \\frac{2 \\, M ℓ^{2}}{r^{3}} + \\frac{ℓ^{2}}{r^{2}} - \\frac{2 \\, M ℓ}{r^{3}} + \\frac{ℓ}{r^{2}} - \\frac{4 \\, M^{2}}{r^{4}} + \\frac{2 \\, M}{r^{3}}\\)</html>"
      ],
      "text/latex": [
       "$\\displaystyle V_\\ell(r) =  -\\frac{2 \\, M μ^{2}}{r} + μ^{2} - \\frac{2 \\, M ℓ^{2}}{r^{3}} + \\frac{ℓ^{2}}{r^{2}} - \\frac{2 \\, M ℓ}{r^{3}} + \\frac{ℓ}{r^{2}} - \\frac{4 \\, M^{2}}{r^{4}} + \\frac{2 \\, M}{r^{3}}$"
      ],
      "text/plain": [
       "V_\\ell(r) =  -2*M*μ^2/r + μ^2 - 2*M*ℓ^2/r^3 + ℓ^2/r^2 - 2*M*ℓ/r^3 + ℓ/r^2 - 4*M^2/r^4 + 2*M/r^3"
      ]
     },
     "metadata": {},
     "output_type": "display_data"
    }
   ],
   "source": [
    "V(r) = ω^2-get_de_coefficients(eq_ψ, ψ(rt), rt)[0].expand()\n",
    "show(LatexExpr(r'V_\\ell(r) = '),V(r))"
   ]
  },
  {
   "cell_type": "markdown",
   "metadata": {
    "tags": []
   },
   "source": [
    "## Bosonic field master equation"
   ]
  },
  {
   "cell_type": "markdown",
   "metadata": {},
   "source": [
    "Separating the equations describing massless spin 1 and spin 2 perturbations in the Schwarzschild background is not as easy as separating the angular dependence for the scalar field. "
   ]
  },
  {
   "cell_type": "markdown",
   "metadata": {},
   "source": [
    "A remarkable result is that perturbations induced by any of these bosonic fields satisfy a single “master equation”,\n",
    "\n",
    "$$\\dfrac{d^2 \\Psi^s_\\ell}{d r_\\star^2} + \\left[\\omega^2-V^s_\\ell\\right]\\Psi^s_\\ell= 0$$\n",
    "\n",
    "where\n",
    "\n",
    "$$V^s_\\ell = \\left(1-\\frac{2M}{r}\\right)\\left(\\frac{\\ell(\\ell+1)}{r^2}+\\frac{2M(1-s^2)}{r^3}\\right)$$\n",
    "\n",
    "and $s = 0, 1, 2$ is the spin of the perturbing field."
   ]
  },
  {
   "cell_type": "markdown",
   "metadata": {
    "tags": []
   },
   "source": [
    "## Plotting the potential"
   ]
  },
  {
   "cell_type": "markdown",
   "metadata": {},
   "source": [
    "We can eliminate the explicit mass dependence with with $r\\to \\dfrac{r}{M}$ and $\\mu \\to \\mu M$"
   ]
  },
  {
   "cell_type": "code",
   "execution_count": 18,
   "metadata": {},
   "outputs": [
    {
     "data": {
      "text/html": [
       "<html>\\(\\displaystyle V_\\ell(r) =  μ^{2} - \\frac{2 \\, μ^{2}}{r} + \\frac{{\\left(ℓ + 1\\right)} ℓ}{r^{2}} - \\frac{2 \\, {\\left(ℓ^{2} + ℓ - 1\\right)}}{r^{3}} - \\frac{4}{r^{4}}\\)</html>"
      ],
      "text/latex": [
       "$\\displaystyle V_\\ell(r) =  μ^{2} - \\frac{2 \\, μ^{2}}{r} + \\frac{{\\left(ℓ + 1\\right)} ℓ}{r^{2}} - \\frac{2 \\, {\\left(ℓ^{2} + ℓ - 1\\right)}}{r^{3}} - \\frac{4}{r^{4}}$"
      ],
      "text/plain": [
       "V_\\ell(r) =  μ^2 - 2*μ^2/r + (ℓ + 1)*ℓ/r^2 - 2*(ℓ^2 + ℓ - 1)/r^3 - 4/r^4"
      ]
     },
     "metadata": {},
     "output_type": "display_data"
    }
   ],
   "source": [
    "V(r) = sum(map(factor,(V(r).subs({r:r*M}).subs({μ:μ/M})*M^2).expand().combine().operands()))\n",
    "show(LatexExpr(r'V_\\ell(r) = '),V(r))"
   ]
  },
  {
   "cell_type": "code",
   "execution_count": 19,
   "metadata": {},
   "outputs": [
    {
     "ename": "NameError",
     "evalue": "name 'f3d' is not defined",
     "output_type": "error",
     "traceback": [
      "\u001b[0;31m---------------------------------------------------------------------------\u001b[0m",
      "\u001b[0;31mNameError\u001b[0m                                 Traceback (most recent call last)",
      "Cell \u001b[0;32mIn[19], line 1\u001b[0m\n\u001b[0;32m----> 1\u001b[0m pot_BHPt \u001b[38;5;241m=\u001b[39m \u001b[43mf3d\u001b[49m(plot3d(V(r)\u001b[38;5;241m.\u001b[39msubs({M:Integer(\u001b[38;5;241m1\u001b[39m),ℓ:Integer(\u001b[38;5;241m1\u001b[39m)}),(r,Integer(\u001b[38;5;241m2\u001b[39m),Integer(\u001b[38;5;241m30\u001b[39m)), (μ,Integer(\u001b[38;5;241m0\u001b[39m),RealNumber(\u001b[38;5;124m'\u001b[39m\u001b[38;5;124m.5\u001b[39m\u001b[38;5;124m'\u001b[39m)),theme\u001b[38;5;241m=\u001b[39m\u001b[38;5;124m'\u001b[39m\u001b[38;5;124mdark\u001b[39m\u001b[38;5;124m'\u001b[39m,frame3d\u001b[38;5;241m=\u001b[39m\u001b[38;5;28;01mFalse\u001b[39;00m, \n\u001b[1;32m      2\u001b[0m            color\u001b[38;5;241m=\u001b[39m(\u001b[38;5;28;01mlambda\u001b[39;00m x,y: \u001b[38;5;28mfloat\u001b[39m((RealNumber(\u001b[38;5;124m'\u001b[39m\u001b[38;5;124m.25\u001b[39m\u001b[38;5;124m'\u001b[39m)\u001b[38;5;241m-\u001b[39mV(r\u001b[38;5;241m=\u001b[39mx,μ\u001b[38;5;241m=\u001b[39my)\u001b[38;5;241m.\u001b[39msubs({M:Integer(\u001b[38;5;241m1\u001b[39m), ℓ:RealNumber(\u001b[38;5;124m'\u001b[39m\u001b[38;5;124m1.1\u001b[39m\u001b[38;5;124m'\u001b[39m)}))\u001b[38;5;241m/\u001b[39mRealNumber(\u001b[38;5;124m'\u001b[39m\u001b[38;5;124m.25\u001b[39m\u001b[38;5;124m'\u001b[39m)), cmaps[Integer(\u001b[38;5;241m1\u001b[39m)]), plot_points\u001b[38;5;241m=\u001b[39mInteger(\u001b[38;5;241m100\u001b[39m)), \n\u001b[1;32m      3\u001b[0m             alpha\u001b[38;5;241m=\u001b[39mRealNumber(\u001b[38;5;124m'\u001b[39m\u001b[38;5;124m.15\u001b[39m\u001b[38;5;124m'\u001b[39m), label_names\u001b[38;5;241m=\u001b[39m[\u001b[38;5;124m'\u001b[39m\u001b[38;5;124mr/2M\u001b[39m\u001b[38;5;124m'\u001b[39m,\u001b[38;5;124m'\u001b[39m\u001b[38;5;124mμM\u001b[39m\u001b[38;5;124m'\u001b[39m,\u001b[38;5;124m'\u001b[39m\u001b[38;5;124mM² V\u001b[39m\u001b[38;5;124m'\u001b[39m], resize_factor\u001b[38;5;241m=\u001b[39m\u001b[38;5;28mfloat\u001b[39m(RealNumber(\u001b[38;5;124m'\u001b[39m\u001b[38;5;124m1.3\u001b[39m\u001b[38;5;124m'\u001b[39m)))\n\u001b[1;32m      4\u001b[0m pot_BHPt\u001b[38;5;241m.\u001b[39msave(\u001b[38;5;124m'\u001b[39m\u001b[38;5;124mpot_BHPt.html\u001b[39m\u001b[38;5;124m'\u001b[39m)\n\u001b[1;32m      7\u001b[0m get_ipython()\u001b[38;5;241m.\u001b[39mrun_line_magic(\u001b[38;5;124m'\u001b[39m\u001b[38;5;124mdisplay\u001b[39m\u001b[38;5;124m'\u001b[39m, \u001b[38;5;124m'\u001b[39m\u001b[38;5;124mplain\u001b[39m\u001b[38;5;124m'\u001b[39m)\n",
      "\u001b[0;31mNameError\u001b[0m: name 'f3d' is not defined"
     ]
    }
   ],
   "source": [
    "pot_BHPt = f3d(plot3d(V(r).subs({M:1,ℓ:1}),(r,2,30), (μ,0,.5),theme='dark',frame3d=False, \n",
    "           color=(lambda x,y: float((.25-V(r=x,μ=y).subs({M:1, ℓ:1.1}))/.25), cmaps[1]), plot_points=100), \n",
    "            alpha=.15, label_names=['r/2M','μM','M² V'], resize_factor=float(1.3))\n",
    "pot_BHPt.save('pot_BHPt.html')\n",
    "\n",
    "\n",
    "%display plain\n",
    "import IPython\n",
    "from IPython.display import IFrame\n",
    "url = './pot_BHPt.html'\n",
    "# iframe = '<iframe src=' + url + ' width=980 height=650></iframe>'\n",
    "IFrame(url,1282,700)"
   ]
  },
  {
   "cell_type": "code",
   "execution_count": null,
   "metadata": {},
   "outputs": [],
   "source": [
    "%display latex"
   ]
  },
  {
   "cell_type": "code",
   "execution_count": null,
   "metadata": {},
   "outputs": [],
   "source": [
    "LV = [V(r).subs({ℓ:1,μ:k,M:1}) for k in srange(0,6/10,1/10)]\n",
    "plot(LV,r,2,30, color=mcolor, gridlines=True, axes_labels=[r'${r}/{M}$','$M^2 V_1$'], frame=True, axes=False, legend_label=[r'$\\mu = $' + str(QQ(k)) for k in srange(0,6/10,1/10)])"
   ]
  },
  {
   "cell_type": "markdown",
   "metadata": {},
   "source": [
    "**In terms of tortoise coordinates $r_\\star$ (by integrating and setting the constant $C = -2M\\log(2M)$)**"
   ]
  },
  {
   "cell_type": "code",
   "execution_count": null,
   "metadata": {},
   "outputs": [],
   "source": [
    "tortoise = (integral(drt,r)-2*M*log(2*M)).simplify_log()\n",
    "show(rt, '\\t = \\t', tortoise)"
   ]
  },
  {
   "cell_type": "code",
   "execution_count": null,
   "metadata": {},
   "outputs": [],
   "source": [
    "fast_tortoise = fast_callable(tortoise.subs({M:1}), vars=[r])\n",
    "\n",
    "fast_V = fast_callable(V(r).subs({M:1, ℓ:1, μ:.1}), vars=[r])\n",
    "fast_V0 = fast_callable(V(r).subs({M:1, ℓ:1, μ:0}), vars=[r])\n",
    "\n",
    "import numpy as np\n",
    "\n",
    "r1 = np.arange(2+10**-5, 2+10**-3,10**-5)\n",
    "r2 = np.arange(2+2*10**-3, 2+1*10**-1,10**-3)\n",
    "r3 = np.arange(2+2*10**-1,50, 10**-1)\n",
    "\n",
    "rr = np.concatenate((r1,r2,r3))\n",
    "# display(rr.max(),rr.min())\n",
    "\n",
    "tt = fast_tortoise(rr)\n",
    "# display(tt.max(),tt.min())\n",
    "\n",
    "vr = fast_V(rr)\n",
    "# display(vr.max(),vr.min())\n",
    "\n",
    "vr2 = fast_V(tt)\n",
    "\n",
    "plot_points = list(zip(tt,vr))"
   ]
  },
  {
   "cell_type": "code",
   "execution_count": null,
   "metadata": {},
   "outputs": [],
   "source": [
    "rrtt = list(zip(tt,rr))"
   ]
  },
  {
   "cell_type": "code",
   "execution_count": null,
   "metadata": {},
   "outputs": [],
   "source": [
    "r_to_tort = list_plot(list(zip(rr,tt)), plotjoined=True, gridlines=True,axes_labels=[r'${r}/{M}$',r'$r_\\star/M$'], frame=True, axes=False)\n",
    "tort_to_r = list_plot(rrtt, plotjoined=True, gridlines=True,axes_labels=[r'${r_\\star}/{M}$','$r/M$'], frame=True, axes=False)\n",
    "graphics_array([r_to_tort, tort_to_r]).show(figsize=[7,3])"
   ]
  },
  {
   "cell_type": "markdown",
   "metadata": {},
   "source": [
    "**Plot parameters $(\\ell=1, \\mu=.1)$**"
   ]
  },
  {
   "cell_type": "code",
   "execution_count": null,
   "metadata": {},
   "outputs": [],
   "source": [
    "plot_potential = list_plot(plot_points, plotjoined=True, gridlines=True,axes_labels=[r'${r_\\star}/{M}$','$M^2 V_1$'], frame=True, axes=False)\n",
    "plot_potential"
   ]
  },
  {
   "cell_type": "markdown",
   "metadata": {
    "tags": []
   },
   "source": [
    "## Asymptotic solutions"
   ]
  },
  {
   "cell_type": "markdown",
   "metadata": {},
   "source": [
    "**Near the event horizon (r=2M)**"
   ]
  },
  {
   "cell_type": "code",
   "execution_count": null,
   "metadata": {},
   "outputs": [],
   "source": [
    "show(rt,LatexExpr(r'\\xrightarrow{r \\to 2M}'),limit(tortoise,r=2*M, dir='+'))"
   ]
  },
  {
   "cell_type": "code",
   "execution_count": null,
   "metadata": {},
   "outputs": [],
   "source": [
    "show(LatexExpr(r'V(r)\\xrightarrow{r \\to 2M}'),limit(V(r),r=2, dir='+'))"
   ]
  },
  {
   "cell_type": "code",
   "execution_count": null,
   "metadata": {},
   "outputs": [],
   "source": [
    "eq_ψ_H = limit(eq_ψ,r=2*M, dir='+')(r=rt)\n",
    "show(dal_Φ, LatexExpr(r'-\\mu^2\\Phi=0 \\xrightarrow{r \\to 2M}'), eq_ψ_H)"
   ]
  },
  {
   "cell_type": "code",
   "execution_count": null,
   "metadata": {},
   "outputs": [],
   "source": [
    "assume(ω>0)\n",
    "ψ_H0 = desolve(eq_ψ_H,ψ(rt), ivar=rt).maxima_methods().exponentialize().expand()\n",
    "# ψ_H0"
   ]
  },
  {
   "cell_type": "code",
   "execution_count": null,
   "metadata": {},
   "outputs": [],
   "source": [
    "k1,k2 = ψ_H0.variables()[:2]"
   ]
  },
  {
   "cell_type": "code",
   "execution_count": null,
   "metadata": {},
   "outputs": [],
   "source": [
    "var('A_1', latex_name=r'A_\\text{in}')\n",
    "var('A_2', latex_name=r'A_\\text{out}')\n",
    "aux1 = solve(A_2 == -1/2*I*k1+1/2*k2, k1, solution_dict=True)\n",
    "aux2 = solve(A_1 == 1/2*I*k1+1/2*k2, k2, solution_dict=True)"
   ]
  },
  {
   "cell_type": "markdown",
   "metadata": {},
   "source": [
    "Solution near horizon"
   ]
  },
  {
   "cell_type": "code",
   "execution_count": null,
   "metadata": {},
   "outputs": [],
   "source": [
    "w0 = SR.wild(0) #wilds card\n",
    "s1 = sum(ψ_H0.find(w0*exp(i*rt*ω))).subs(aux1).expand()\n",
    "s2 = sum(ψ_H0.find(w0*exp(-i*rt*ω))).subs(aux2).expand()\n",
    "ψ_H = s1+s2\n",
    "show(ψ(rt), LatexExpr(r'\\xrightarrow{r \\to 2M}'), ψ_H)"
   ]
  },
  {
   "cell_type": "markdown",
   "metadata": {},
   "source": [
    "- $A_{in}$ represents the amplitude of a wave that enters the black hole \n",
    "- $A_{out}$ represents the amplitude of a wave that exits the black hole."
   ]
  },
  {
   "cell_type": "markdown",
   "metadata": {},
   "source": [
    "**Far away from the black hole, i.e. when $r → ∞$**"
   ]
  },
  {
   "cell_type": "code",
   "execution_count": null,
   "metadata": {},
   "outputs": [],
   "source": [
    "show(rt,LatexExpr(r'\\xrightarrow{r \\to \\infty}'),limit(tortoise,r=oo))"
   ]
  },
  {
   "cell_type": "code",
   "execution_count": null,
   "metadata": {},
   "outputs": [],
   "source": [
    "show(LatexExpr(r'V(r)\\xrightarrow{r \\to \\infty}'),limit(V(r),r=oo))"
   ]
  },
  {
   "cell_type": "code",
   "execution_count": null,
   "metadata": {},
   "outputs": [],
   "source": [
    "from de_tools import canonicalize_de"
   ]
  },
  {
   "cell_type": "code",
   "execution_count": null,
   "metadata": {},
   "outputs": [],
   "source": [
    "eq_ψ_oo = limit(eq_ψ,r=oo)(r=rt)\n",
    "show(dal_Φ,LatexExpr(r'-\\mu^2\\Phi=0 \\xrightarrow{r \\to \\infty}'), canonicalize_de(eq_ψ_oo, ψ(rt),rt, show_log=False))"
   ]
  },
  {
   "cell_type": "code",
   "execution_count": null,
   "metadata": {},
   "outputs": [],
   "source": [
    "assume(ω-μ>0)\n",
    "ψ_oo0 = desolve(eq_ψ_oo,ψ(rt), ivar=rt).maxima_methods().exponentialize().expand()\n",
    "# ψ_oo0"
   ]
  },
  {
   "cell_type": "markdown",
   "metadata": {},
   "source": [
    "Asymptotic solution"
   ]
  },
  {
   "cell_type": "code",
   "execution_count": null,
   "metadata": {},
   "outputs": [],
   "source": [
    "var('B_1', latex_name=r'B_\\text{in}')\n",
    "var('B_2', latex_name=r'B_\\text{out}')\n",
    "s1 = sum(ψ_oo0.find(w0*exp(i*rt*sqrt(ω^2-μ^2)))).subs(aux1).expand()\n",
    "s2 = sum(ψ_oo0.find(w0*exp(-i*rt*sqrt(ω^2-μ^2)))).subs(aux2).expand()\n",
    "ψ_oo = (s1+s2).subs({A_1:B_1, A_2:B_2})\n",
    "show(ψ(rt),LatexExpr(r'\\xrightarrow{r \\to \\infty}'), ψ_oo)"
   ]
  },
  {
   "cell_type": "markdown",
   "metadata": {},
   "source": [
    "- If $ω > µ:$\n",
    "    - $B_\\text{in}$ represents the amplitude of an incoming wave at infinity;\n",
    "    - $B_\\text{out}$ represents the amplitude of an outgoing wave at infinity.\n",
    "- If $ω < µ:$\n",
    "    - $B_\\text{in}$ represents an exponential growing mode at infinity;\n",
    "    - $B_\\text{out}$ represents an exponential decaying mode at infinity."
   ]
  },
  {
   "cell_type": "markdown",
   "metadata": {
    "tags": []
   },
   "source": [
    "## Plot asymptotic solutions"
   ]
  },
  {
   "cell_type": "code",
   "execution_count": null,
   "metadata": {},
   "outputs": [],
   "source": [
    "f1(x,y) = .005*sin(3*x)+y\n",
    "y1, y2 = .06,.08\n",
    "xAmin, xAmax = -20,-12\n",
    "arrow_waveA1 = plot(f1(x,y1),xAmin,xAmax, color=mcolor[1])+arrow((xAmin,f1(xAmin,y1)),(xAmin-2,f1(xAmin,y1)), color=mcolor[1],arrowsize=1.5, width=1.5)\n",
    "arrow_waveA2 = plot(f1(x,y2),xAmin,xAmax, color=mcolor[1])+arrow((xAmax,f1(xAmax,y2)),(xAmax+2,f1(xAmax,y2)), color=mcolor[1],arrowsize=1.5, width=1.5)\n",
    "tA1 = text(r'$A_\\mathrm{in}e^{-i\\omega r_\\star}$',((xAmax-xAmin)/2+xAmin,y1-.01), color='lightgray')\n",
    "tA2 = text(r'$A_\\mathrm{out}e^{+i\\omega r_\\star}$',((xAmax-xAmin)/2+xAmin,y2+.01), color='lightgray')\n",
    "wA1 = arrow_waveA1 + tA1\n",
    "wA2 = arrow_waveA2 + tA2\n",
    "arrow_waveA = wA1 + wA2#arrow_waveA1 + arrow_waveA2 + tA1 + tA2"
   ]
  },
  {
   "cell_type": "code",
   "execution_count": null,
   "metadata": {},
   "outputs": [],
   "source": [
    "xBmin, xBmax = 40,48\n",
    "arrow_waveB1 = plot(f1(x,y1),xBmin,xBmax, color=mcolor[1])+arrow((xBmin,f1(xBmin,y1)),(xBmin-2,f1(xBmin,y1)), color=mcolor[1],arrowsize=1.5, width=1.5)\n",
    "arrow_waveB2 = plot(f1(x,y2),xBmin,xBmax, color=mcolor[1])+arrow((xBmax,f1(xBmax,y2)),(xBmax+2,f1(xBmax,y2)), color=mcolor[1],arrowsize=1.5, width=1.5)\n",
    "tB1 = text(r'$B_\\mathrm{in}e^{-i\\omega r_\\star}$',((xBmax-xBmin)/2+xBmin,y1-.01), color='lightgray')\n",
    "tB2 = text(r'$B_\\mathrm{out}e^{+i\\omega r_\\star}$',((xBmax-xBmin)/2+xBmin,y2+.01), color='lightgray')\n",
    "wB1 = arrow_waveB1 + tB1\n",
    "wB2 = arrow_waveB2 + tB2\n",
    "arrow_waveB = wB1 + wB2\n",
    "#arrow_waveB = arrow_waveB1 + arrow_waveB2 + tB1 + tB2"
   ]
  },
  {
   "cell_type": "code",
   "execution_count": null,
   "metadata": {},
   "outputs": [],
   "source": [
    "plot_arrow = plot_potential+arrow_waveA+arrow_waveB"
   ]
  },
  {
   "cell_type": "code",
   "execution_count": null,
   "metadata": {},
   "outputs": [],
   "source": [
    "plot_arrow"
   ]
  },
  {
   "cell_type": "markdown",
   "metadata": {
    "tags": []
   },
   "source": [
    "## Boundary conditions"
   ]
  },
  {
   "cell_type": "markdown",
   "metadata": {},
   "source": [
    "We want to study three types of problem: scattering, quasinormal modes, and quasibound states."
   ]
  },
  {
   "cell_type": "markdown",
   "metadata": {},
   "source": [
    "Recalling\n",
    "$$ψ_{ωℓ} (r_\\star) \\to \\left\\{\\begin{align}\n",
    "&A_\\text{in} \\exp (−i ω r_\\star ) + A_\\text{out} \\exp (+i ω r_\\star ) ,& r_\\star → −∞, \\quad (r\\to 2M)\\\\\n",
    " &B_\\text{in} \\exp{\\left(-i \\, \\sqrt{-μ^{2} + ω^{2}} {r_\\star}\\right)} + B_{\\text{out}} \\exp{\\left(i \\, \\sqrt{-μ^{2} + ω^{2}} {r_\\star}\\right)} ,& r_\\star → +∞, \\quad (r\\to \\infty)\n",
    "\\end{align}\\right.$$"
   ]
  },
  {
   "cell_type": "markdown",
   "metadata": {
    "tags": []
   },
   "source": [
    "- **At the event horizon:** classically, nothing can escape the black hole $\\Longrightarrow A_\\text{out}=0$"
   ]
  },
  {
   "cell_type": "code",
   "execution_count": null,
   "metadata": {
    "tags": []
   },
   "outputs": [],
   "source": [
    "ψ_H = ψ_H.subs({A_2:0})\n",
    "show(ψ(rt),LatexExpr(r'\\xrightarrow{r \\to 2M}'),ψ_H)"
   ]
  },
  {
   "cell_type": "markdown",
   "metadata": {},
   "source": [
    "- **Scattering:** a frequency $ω ∈ \\mathbb{R}$, with $ω > µ$, is given. We choose the amplitude $B_1$ of the incoming wave from infinity and determine the amplitudes $A_1$ and $B_2$."
   ]
  },
  {
   "cell_type": "markdown",
   "metadata": {},
   "source": [
    "- **Quasinormal modes (QNMs) and quasibound states (QBSs):** we\n",
    "impose a boundary condition at infinity $\\to$ only outgoing waves\n",
    "(QNM) or only exponentially decaying solution (QBS). Due to the\n",
    "extra boundary condition, the frequency $ω ∈ \\mathbb{C}$ is unknown."
   ]
  },
  {
   "cell_type": "markdown",
   "metadata": {
    "tags": []
   },
   "source": [
    "### Scattering modes"
   ]
  },
  {
   "cell_type": "markdown",
   "metadata": {},
   "source": [
    "We can understand black hole scattering by making an analogy with 1-D problems from QM. Assuming that $ω ∈ \\mathbb{R}$, with $ω > µ$, we have\n",
    "\n",
    "$$ψ_{ωℓ} (r_\\star) \\xrightarrow{r_\\star \\to \\pm\\infty} \\left\\{\\begin{align}\n",
    "&A_\\text{in} \\exp (−i ω r_\\star )  ,& r_\\star \\xrightarrow{r \\to 2M} −∞\\\\\n",
    " &B_{\\text{in}} \\exp{\\left(-i \\, \\sqrt{-μ^{2} + ω^{2}} {r_\\star}\\right)} + B_{\\text{out}} \\exp{\\left(i \\, \\sqrt{-μ^{2} + ω^{2}} {r_\\star}\\right)} ,& r_\\star \\xrightarrow{r \\to \\infty} +∞\n",
    "\\end{align}\\right.$$"
   ]
  },
  {
   "cell_type": "code",
   "execution_count": null,
   "metadata": {},
   "outputs": [],
   "source": [
    "p_scattering = plot_potential + wA1 + wB1 + wB2\n",
    "p_scattering"
   ]
  },
  {
   "cell_type": "markdown",
   "metadata": {},
   "source": [
    "Note that if $ψ_{ωℓ}$ , with $ω ∈ \\mathbb{R}$, is a solution of the differential equation\n",
    "\n",
    "$$ψ_{ωℓ}'' + [ω − V(r)] ψ_{ωℓ} = 0,$$\n",
    "\n",
    "then $ψ_{ωℓ}^*$ is also a solution of the same equation. "
   ]
  },
  {
   "cell_type": "markdown",
   "metadata": {
    "tags": []
   },
   "source": [
    "### Wronskian"
   ]
  },
  {
   "cell_type": "markdown",
   "metadata": {},
   "source": [
    "The second-order ordinary differential equation\n",
    "\n",
    "$$Ψ''+ p(x)Ψ'+ q(x)Ψ = 0$$\n",
    "\n",
    "in general, admits two linearly independent solutions $Ψ_1$, $Ψ_2$ . "
   ]
  },
  {
   "cell_type": "markdown",
   "metadata": {},
   "source": [
    "The Wronskian $W$ has the property\n",
    "\n",
    "$$W' = pW,$$\n",
    "\n",
    "which gives\n",
    "\n",
    "$$W(\\Psi_1,\\Psi_2,x) = W(\\Psi_1,\\Psi_2,x_0)\\exp\\left(-\\int_{x_0}^2p(x)dx\\right).$$\n",
    "\n",
    "We then see that the Wronskian is constant whenever $p(x) = 0$, as in the case of the\n",
    "master equation."
   ]
  },
  {
   "cell_type": "markdown",
   "metadata": {},
   "source": [
    "Therefore,\n",
    "\n",
    "$$W (ψ_{ωℓ}, ψ_{ωℓ}^*) = \\text{constant}$$"
   ]
  },
  {
   "cell_type": "markdown",
   "metadata": {},
   "source": [
    "Equating the wronskian at the horizon and at infinity\n",
    "$$W|_{r \\to 2M} = W|_{r \\to \\infty}$$"
   ]
  },
  {
   "cell_type": "code",
   "execution_count": null,
   "metadata": {},
   "outputs": [],
   "source": [
    "assume(A_1,A_2,B_1,B_2,'complex')\n",
    "\n",
    "W_oo = wronskian(ψ_oo, conjugate(ψ_oo),rt).canonicalize_radical()\n",
    "W_H = wronskian(ψ_H, conjugate(ψ_H),rt).canonicalize_radical()\n",
    "show(W_H, '\\t = \\t' ,W_oo.full_simplify())"
   ]
  },
  {
   "cell_type": "code",
   "execution_count": null,
   "metadata": {},
   "outputs": [],
   "source": [
    "eq_W =W_H/((B_1)*conjugate(B_1)) ==W_oo/((B_1)*conjugate(B_1))"
   ]
  },
  {
   "cell_type": "code",
   "execution_count": null,
   "metadata": {},
   "outputs": [],
   "source": [
    "eq_W.expand()"
   ]
  },
  {
   "cell_type": "code",
   "execution_count": null,
   "metadata": {},
   "outputs": [],
   "source": []
  },
  {
   "cell_type": "code",
   "execution_count": null,
   "metadata": {},
   "outputs": [],
   "source": [
    "R_ω = (B_2/B_1)*conjugate(B_2/B_1)"
   ]
  },
  {
   "cell_type": "markdown",
   "metadata": {},
   "source": [
    "Since $B_\\text{in}$ is the amplitude of the incoming wave, \n",
    "\n",
    "$$R_ω =\\left|\\frac{B_\\text{out}}{B_\\text{in}}\\right|^2$$\n",
    "\n",
    "and by\n",
    "\n",
    "$$R_\\omega + T_\\omega = 1$$\n",
    "\n",
    "we find\n",
    "\n",
    "$$T_ω = \\frac{ω}{\\sqrt{\\omega^2-\\mu^2}}\\left|\\frac{A_\\text{in}}{B_\\text{in}}\\right|^2$$"
   ]
  },
  {
   "cell_type": "markdown",
   "metadata": {
    "tags": []
   },
   "source": [
    "### QNM"
   ]
  },
  {
   "cell_type": "markdown",
   "metadata": {},
   "source": [
    "Normal modes are the characteristic modes of oscillation of a system\n",
    "(as in the cases of a mass-spring system and a string with fixed ends).\n",
    "- Due to the boundary conditions, normal modes do not exist for black holes. \n",
    "- For black holes, the characteristic oscillations are always associated with dissipation, originating QNMs. \n",
    "- The QNMs are the natural modes of relaxation of a black hole. \n",
    "- They are characterized by the absence incoming waves from infinity."
   ]
  },
  {
   "cell_type": "code",
   "execution_count": null,
   "metadata": {},
   "outputs": [],
   "source": [
    "p_qnm = plot_potential + wA1 + wB2\n",
    "p_qnm"
   ]
  },
  {
   "cell_type": "markdown",
   "metadata": {},
   "source": [
    "Taking $ω = ω_R + iω_I$ and $k = \\sqrt{\\omega^2-\\mu^2}=  k_R + ik_I$, assumim $ω_R > 0$ and $k_R > 0$ (without loss of generality), at $r → ∞$ we have:"
   ]
  },
  {
   "cell_type": "markdown",
   "metadata": {},
   "source": [
    "$$ϕ_{ωℓm} ∝ \\exp(−iωt + ik r) = \\exp\\left[−i ω_R \\left(t − \\frac{k_R}{ω_R}r\\right)\\right]\\exp (ω_I t) \\exp(−k_I r)$$"
   ]
  },
  {
   "cell_type": "markdown",
   "metadata": {},
   "source": [
    "- QNMs are characterized by $ω_I < 0$, leading to energy dissipation. If $ω_I > 0$, the corresponding mode is an unstable mode."
   ]
  },
  {
   "cell_type": "markdown",
   "metadata": {
    "tags": []
   },
   "source": [
    "### QNM frequency"
   ]
  },
  {
   "cell_type": "markdown",
   "metadata": {},
   "source": [
    "In terms of the complex frequency $ω$, $ω_R$ is related to the period $T$ (or frequency) of the oscillation and $ω_I$ gives the characteristic timescale $τ$ as\n",
    "\n",
    "$$ω = ω_R + iω_I = 2\\pi f-\\frac i \\tau$$"
   ]
  },
  {
   "cell_type": "markdown",
   "metadata": {},
   "source": [
    "It allows to identify the BH parameters from the observational data (ringdown phase of GW, for exemple)."
   ]
  },
  {
   "cell_type": "markdown",
   "metadata": {
    "tags": []
   },
   "source": [
    "#### Schwarzschild"
   ]
  },
  {
   "cell_type": "markdown",
   "metadata": {},
   "source": [
    "The first gravitational quasinormal mode frequency of a Schwarzschild black hole corresponds to the $ℓ = 2$ mode and is given, in geometrical units ($c=G=1$), by\n",
    "\n",
    "$$M ω = 0.37367 − 0.08896i$$"
   ]
  },
  {
   "cell_type": "markdown",
   "metadata": {},
   "source": [
    "That is \n",
    "\n",
    "$$f = \\frac{0.037367}{M} \\qquad \\text{and} \\qquad  \\tau = \\frac{M}{0.08896}.$$"
   ]
  },
  {
   "cell_type": "markdown",
   "metadata": {},
   "source": [
    "Converting to Hertz,\n",
    "\n",
    "$$f = \\frac{0.037367}{M}\\times \\frac{c^3}{2\\pi GM_\\odot}\\frac{M_\\odot}{M} \\qquad \\text{and} \\qquad  \\tau = \\frac{M}{0.08896} \\times \\left(\\frac{c^3}{2\\pi GM_\\odot}\\frac{M_\\odot}{M}\\right)^{-1}.$$"
   ]
  },
  {
   "cell_type": "markdown",
   "metadata": {},
   "source": [
    "#### Kerr"
   ]
  },
  {
   "cell_type": "markdown",
   "metadata": {},
   "source": [
    "gravitational quasinormal mode frequencies of the Kerr black hole:\n",
    "\n",
    "$$\\omega \\approx \\frac{1}{3\\sqrt{3M}}\\left[\\left(\\ell+\\frac12\\right)+\\frac{2am}{3\\sqrt{3M}} -i\\left(n+\\frac12\\right) \\right]$$"
   ]
  },
  {
   "cell_type": "markdown",
   "metadata": {},
   "source": [
    "**There are still a lot of space for alternative theories!**"
   ]
  },
  {
   "cell_type": "code",
   "execution_count": null,
   "metadata": {},
   "outputs": [],
   "source": [
    "# ff = 0.37367\n",
    "# taut = 1/0.08896\n",
    "# from scipy.constants import speed_of_light, gravitational_constant\n",
    "# solar_mass = 1.9884099e30\n",
    "# (speed_of_light^3/(gravitational_constant*solar_mass)/(2*pi)).n()^-1 * taut"
   ]
  },
  {
   "cell_type": "markdown",
   "metadata": {
    "tags": []
   },
   "source": [
    "## Stability"
   ]
  },
  {
   "cell_type": "markdown",
   "metadata": {},
   "source": [
    "Physics BH stability\n",
    "\n",
    "- perturbations that do not perturb $M$ or $J$, to these vacuum solutions will be:\n",
    "    - radiated away \n",
    "    - asymptotically decay to leave the final metric in the same family of solutions."
   ]
  },
  {
   "cell_type": "markdown",
   "metadata": {},
   "source": [
    "- Mode stability, assumes that the metric is stable if the linear perturbation, $h_{µν}$, is able to be written as a super position of harmonic modes (Regge-Wheeler). \n",
    "    - **Closed for Schwarzschild and Kerr family**"
   ]
  },
  {
   "cell_type": "markdown",
   "metadata": {},
   "source": [
    "- Linear stability, assumes that the metric is stable if the linear perturbations, $h_{µν}$ is bounded in any timescale and decay asymptotically (Kay-Wald). \n",
    "    - **Closed for Schwarzschild**"
   ]
  },
  {
   "cell_type": "markdown",
   "metadata": {},
   "source": [
    "- Non-linear stability, the most general, makes no assumptions on the form of the perturbation and is still currently an open problem.\n",
    "    - **Closed only for the Minkowski metric**"
   ]
  },
  {
   "cell_type": "markdown",
   "metadata": {
    "tags": []
   },
   "source": [
    "### QBSs"
   ]
  },
  {
   "cell_type": "markdown",
   "metadata": {},
   "source": [
    "Unlike QNMs, the QBSs are localized in space (far away from the black\n",
    "hole, they decay exponentially). The QBSs remain localized inside the\n",
    "potential well generated by the mass of the field:"
   ]
  },
  {
   "cell_type": "code",
   "execution_count": null,
   "metadata": {},
   "outputs": [],
   "source": [
    "list_fast_V = [fast_callable(V(r).subs({M:1, ℓ:1, μ:k}), vars=[r]) for k in srange(0,.6,.1)]\n",
    "list_plot_points = [list(zip(tt,vk(rr))) for vk in list_fast_V]\n",
    "pts = [list_plot(k, plotjoined=True, gridlines=True,axes_labels=[r'${r_\\star}/{M}$',r'$M^2V$'], \n",
    "                 frame=True, axes=False, color=mcolor[q], \n",
    "                 legend_label=r'$\\mu = ' + str(QQ(q/10))+'$') for q,k in enumerate(list_plot_points)]\n",
    "sum(pts)"
   ]
  },
  {
   "cell_type": "markdown",
   "metadata": {},
   "source": [
    "**$(\\ell=1, \\mu=.4)$**"
   ]
  },
  {
   "cell_type": "code",
   "execution_count": null,
   "metadata": {},
   "outputs": [],
   "source": [
    "fast_V2 = fast_callable(V(r).subs({M:1, ℓ:1, μ:.4}), vars=[r])\n",
    "\n",
    "vr2 = fast_V2(rr)\n",
    "# display(vr2.max(),vr2.min())\n",
    "\n",
    "plot_points2 = list(zip(tt,vr2))\n",
    "\n",
    "plot_potential2 = list_plot(plot_points2, plotjoined=True, gridlines=True,axes_labels=[r'${r_\\star}/{M}$','$M^2 V_1$'], frame=True, axes=False)"
   ]
  },
  {
   "cell_type": "code",
   "execution_count": null,
   "metadata": {},
   "outputs": [],
   "source": [
    "r1 = find_root(V(r).subs({M:1, ℓ:1, μ:.4})-.15, 0,10)\n",
    "r2 = find_root(V(r).subs({M:1, ℓ:1, μ:.4})-.15, 20,30)\n",
    "# display(r1,r2)\n",
    "\n",
    "level = line(((fast_tortoise(r1), fast_V2(r1)),(fast_tortoise(r2), fast_V2(r2))), linestyle='--', color=mcolor[5])\n",
    "\n",
    "plot_potential2+level"
   ]
  },
  {
   "cell_type": "markdown",
   "metadata": {},
   "source": [
    "As in the case of QNMs, due to the boundary conditions the frequency of the QBSs are complex numbers."
   ]
  },
  {
   "cell_type": "markdown",
   "metadata": {},
   "source": [
    "$$ϕ_{ωℓm} ∝ \\exp(−iωt + ik r_\\star) = \\exp\\left[−i ω_R \\left(t − \\frac{k_R}{ω_R}r\\right)\\right]\\exp (ω_I t) \\exp(−k_I r)$$"
   ]
  },
  {
   "cell_type": "markdown",
   "metadata": {},
   "source": [
    "QBSs have $ω_I < 0$. If $ω_I > 0$, the corresponding mode is unstable."
   ]
  },
  {
   "cell_type": "markdown",
   "metadata": {
    "tags": []
   },
   "source": [
    "## Numerical solution of the radial equation"
   ]
  },
  {
   "cell_type": "code",
   "execution_count": null,
   "metadata": {},
   "outputs": [],
   "source": [
    "Rp(r) = function(\"Rp\", latex_name=r\"R'\")(r)"
   ]
  },
  {
   "cell_type": "code",
   "execution_count": null,
   "metadata": {},
   "outputs": [],
   "source": [
    "KG1[0].subs({λ:ℓ*(ℓ+1)})"
   ]
  },
  {
   "cell_type": "markdown",
   "metadata": {},
   "source": [
    "$\\mu=0, \\ell=1$ and $\\omega = \\omega_R = \\dfrac{\\log 3}{8\\pi}$"
   ]
  },
  {
   "cell_type": "code",
   "execution_count": null,
   "metadata": {},
   "outputs": [],
   "source": [
    "pl = []\n",
    "for k in range(1,5):\n",
    "    KGn = [diff(R(r),r)-Rp(r)==0, KG1[0].subs({diff(R(r),r):Rp(r), diff(R(r),r,2):diff(Rp(r),r)})]\n",
    "    KGn[1] = KGn[1].subs(M=1,μ=0, ω=(log(3)/(8*pi)), λ=k*(k+1))\n",
    "    KGn2 = [0,0]\n",
    "    KGn2[0] = solve(KGn[0],diff(R(r),r))[0].right()\n",
    "    KGn2[1] = solve(KGn[1],diff(Rp,r))[0].right()\n",
    "    var('x,y')\n",
    "    KGn2[0] = KGn2[0].subs({Rp(r):y})\n",
    "    KGn2[1] = KGn2[1].subs({Rp(r):y, R(r):x})\n",
    "    radsol = desolve_system_rk4(KGn2, [x,y], ics =[3.2 ,1 ,0.5], ivar=r, end_points=1000, step=1)\n",
    "    rm = np.linspace(3.2,60,len(radsol))\n",
    "    pl.append(list_plot(list(zip(rm,[ j  for i ,j,k  in radsol ])), axes_labels =['$r/M$' , '$R$'], color='red', \n",
    "              legend_label = r'$\\ell='+str(k)+'$', gridlines=True, frame=True, axes=False, plotjoined=True))"
   ]
  },
  {
   "cell_type": "code",
   "execution_count": null,
   "metadata": {},
   "outputs": [],
   "source": [
    "ga = graphics_array(pl, nrows=2)\n",
    "ga.show(figsize=[8,5])"
   ]
  },
  {
   "cell_type": "code",
   "execution_count": null,
   "metadata": {},
   "outputs": [],
   "source": []
  }
 ],
 "metadata": {
  "kernelspec": {
   "display_name": "SageMath 10.6",
   "language": "sage",
   "name": "sagemath"
  },
  "language_info": {
   "codemirror_mode": {
    "name": "ipython",
    "version": 3
   },
   "file_extension": ".py",
   "mimetype": "text/x-python",
   "name": "python",
   "nbconvert_exporter": "python",
   "pygments_lexer": "ipython3",
   "version": "3.11.12"
  }
 },
 "nbformat": 4,
 "nbformat_minor": 4
}
