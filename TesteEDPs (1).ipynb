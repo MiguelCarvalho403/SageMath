{
 "cells": [
  {
   "cell_type": "code",
   "execution_count": 115,
   "id": "af47faf9-cf10-49d7-abc5-15b8197244cf",
   "metadata": {},
   "outputs": [],
   "source": [
    "F = function('F')\n",
    "X,Y,V = function('X')(x), function('Y')(y), function('V')(x)\n",
    "x,y = var('x,y') \n",
    "α,β,λ,k,i,m,h = var('α,β,λ,k,i,m,h')\n",
    "F = X * Y"
   ]
  },
  {
   "cell_type": "code",
   "execution_count": 116,
   "id": "54a49f68-93ae-4d1f-aae3-5c4bce9aae02",
   "metadata": {},
   "outputs": [],
   "source": [
    "eq1 = diff(F, x, 2) + diff(F, y ,2) + k**2 * F == 0 # equac¸ao de Helmholtz em coordenadas cartesianas\n",
    "eq2 = diff(x*diff(F, x), x)/x + diff(F, y, 2)/x**2 + k**2 * F == 0 # equac¸ao de Helmholtz em coordenadas polares\n",
    "\n",
    "eq3 = diff(F, x, 2) + diff(F, y, 2) == 0 # equação de laplace potencial eletrostatico \n",
    "eq4 = diff(F, y) == k*diff(F, x, 2) # eq. do calor\n",
    "eq5 = diff(F, y, 2) == k**2 * diff(F, x, 2) # eq. de onda\n",
    "\n",
    "eq6 = i*h*diff(F, y) == -h**2 * diff(F, x, 2)/(2*m) + V*F # Equação de Schrödinger independente do tempo):\n",
    "\n",
    "eq7 = x*diff(F, y) + y*diff(F, x) == 0"
   ]
  },
  {
   "cell_type": "markdown",
   "id": "8cbf0cbc-0314-4c56-92f5-d874ea01dabb",
   "metadata": {},
   "source": [
    "Nessas equações como não há fator comum para dividir, o algoritmo retorna a função parcialmente separada. Entretanto ela pode ser separada ao dividi-la por um fator $X(x)Y(y)$"
   ]
  },
  {
   "cell_type": "markdown",
   "id": "7651998f-e69b-4008-a42d-dab74bbec3c8",
   "metadata": {},
   "source": [
    "As equações (eq1, eq2) podem ser resolvidas com a adição da nova função"
   ]
  },
  {
   "cell_type": "code",
   "execution_count": 117,
   "id": "143c3af3-0f1a-4b1a-829c-7edcd0269a30",
   "metadata": {},
   "outputs": [
    {
     "data": {
      "text/html": [
       "<html>\\(\\displaystyle \\verb|equation|\\verb| |\\verb|1:|\\verb| |\\verb|\t| k^{2} X\\left(x\\right) Y\\left(y\\right) + Y\\left(y\\right) \\frac{\\partial^{2}}{(\\partial x)^{2}}X\\left(x\\right) + X\\left(x\\right) \\frac{\\partial^{2}}{(\\partial y)^{2}}Y\\left(y\\right) = 0\\)</html>"
      ],
      "text/latex": [
       "$\\displaystyle \\verb|equation|\\verb| |\\verb|1:|\\verb| |\\verb|\t| k^{2} X\\left(x\\right) Y\\left(y\\right) + Y\\left(y\\right) \\frac{\\partial^{2}}{(\\partial x)^{2}}X\\left(x\\right) + X\\left(x\\right) \\frac{\\partial^{2}}{(\\partial y)^{2}}Y\\left(y\\right) = 0$"
      ],
      "text/plain": [
       "'equation 1: \\t' k^2*X(x)*Y(y) + Y(y)*diff(X(x), x, x) + X(x)*diff(Y(y), y, y) == 0"
      ]
     },
     "metadata": {},
     "output_type": "display_data"
    },
    {
     "data": {
      "text/html": [
       "<html>\\(\\displaystyle \\verb|equation|\\verb| |\\verb|2:|\\verb| |\\verb|\t| k^{2} X\\left(x\\right) Y\\left(y\\right) + \\frac{x Y\\left(y\\right) \\frac{\\partial^{2}}{(\\partial x)^{2}}X\\left(x\\right) + Y\\left(y\\right) \\frac{\\partial}{\\partial x}X\\left(x\\right)}{x} + \\frac{X\\left(x\\right) \\frac{\\partial^{2}}{(\\partial y)^{2}}Y\\left(y\\right)}{x^{2}} = 0\\)</html>"
      ],
      "text/latex": [
       "$\\displaystyle \\verb|equation|\\verb| |\\verb|2:|\\verb| |\\verb|\t| k^{2} X\\left(x\\right) Y\\left(y\\right) + \\frac{x Y\\left(y\\right) \\frac{\\partial^{2}}{(\\partial x)^{2}}X\\left(x\\right) + Y\\left(y\\right) \\frac{\\partial}{\\partial x}X\\left(x\\right)}{x} + \\frac{X\\left(x\\right) \\frac{\\partial^{2}}{(\\partial y)^{2}}Y\\left(y\\right)}{x^{2}} = 0$"
      ],
      "text/plain": [
       "'equation 2: \\t' k^2*X(x)*Y(y) + (x*Y(y)*diff(X(x), x, x) + Y(y)*diff(X(x), x))/x + X(x)*diff(Y(y), y, y)/x^2 == 0"
      ]
     },
     "metadata": {},
     "output_type": "display_data"
    },
    {
     "data": {
      "text/html": [
       "<html>\\(\\displaystyle \\verb|equation|\\verb| |\\verb|3:|\\verb| |\\verb|\t| Y\\left(y\\right) \\frac{\\partial^{2}}{(\\partial x)^{2}}X\\left(x\\right) + X\\left(x\\right) \\frac{\\partial^{2}}{(\\partial y)^{2}}Y\\left(y\\right) = 0\\)</html>"
      ],
      "text/latex": [
       "$\\displaystyle \\verb|equation|\\verb| |\\verb|3:|\\verb| |\\verb|\t| Y\\left(y\\right) \\frac{\\partial^{2}}{(\\partial x)^{2}}X\\left(x\\right) + X\\left(x\\right) \\frac{\\partial^{2}}{(\\partial y)^{2}}Y\\left(y\\right) = 0$"
      ],
      "text/plain": [
       "'equation 3: \\t' Y(y)*diff(X(x), x, x) + X(x)*diff(Y(y), y, y) == 0"
      ]
     },
     "metadata": {},
     "output_type": "display_data"
    }
   ],
   "source": [
    "show(\"equation 1: \\t\", eq1)\n",
    "show(\"equation 2: \\t\", eq2)\n",
    "show(\"equation 3: \\t\", eq3)"
   ]
  },
  {
   "cell_type": "code",
   "execution_count": 123,
   "id": "82924e0f-f674-4b1c-b6ef-b1e0f198304a",
   "metadata": {},
   "outputs": [
    {
     "data": {
      "text/plain": [
       "<module 'de_tools_copy1' from '/home/carvalho/Jupyter_projects/de_tools_copy1.py'>"
      ]
     },
     "execution_count": 123,
     "metadata": {},
     "output_type": "execute_result"
    }
   ],
   "source": [
    "import importlib\n",
    "import de_tools_copy1\n",
    "importlib.reload(de_tools_copy1)"
   ]
  },
  {
   "cell_type": "markdown",
   "id": "90099817-c7ed-4193-9476-19b9d0277dfe",
   "metadata": {},
   "source": [
    "## Modulo original"
   ]
  },
  {
   "cell_type": "code",
   "execution_count": 119,
   "id": "4434c9b2-8236-4197-8c13-df2899989cce",
   "metadata": {},
   "outputs": [
    {
     "name": "stdout",
     "output_type": "stream",
     "text": [
      "\u001b[95minitialized\u001b[39m\n",
      "pre_separate test: \u001b[32mpassed!\u001b[39m\n",
      "partial_separate test: \u001b[32mpassed!\u001b[39m\n",
      "\u001b[94mfactor 1 eliminated\u001b[39m\n",
      "eliminate_common_factor test: \u001b[32mpassed!\u001b[39m\n"
     ]
    },
    {
     "ename": "UnboundLocalError",
     "evalue": "cannot access local variable 'message' where it is not associated with a value",
     "output_type": "error",
     "traceback": [
      "\u001b[0;31m---------------------------------------------------------------------------\u001b[0m",
      "\u001b[0;31mUnboundLocalError\u001b[0m                         Traceback (most recent call last)",
      "Cell \u001b[0;32mIn[119], line 3\u001b[0m\n\u001b[1;32m      1\u001b[0m \u001b[38;5;28;01mfrom\u001b[39;00m\u001b[38;5;250m \u001b[39m\u001b[38;5;21;01mde_tools\u001b[39;00m\u001b[38;5;250m \u001b[39m\u001b[38;5;28;01mimport\u001b[39;00m separate_pde \u001b[38;5;66;03m# substituir por de_tools para código original\u001b[39;00m\n\u001b[1;32m      2\u001b[0m eqt \u001b[38;5;241m=\u001b[39m eq1\n\u001b[0;32m----> 3\u001b[0m eqs \u001b[38;5;241m=\u001b[39m \u001b[43mseparate_pde\u001b[49m\u001b[43m(\u001b[49m\u001b[43mpde\u001b[49m\u001b[38;5;241;43m=\u001b[39;49m\u001b[43meqt\u001b[49m\u001b[43m,\u001b[49m\n\u001b[1;32m      4\u001b[0m \u001b[43m                 \u001b[49m\u001b[43mfuncs\u001b[49m\u001b[38;5;241;43m=\u001b[39;49m\u001b[43m(\u001b[49m\u001b[43mX\u001b[49m\u001b[43m,\u001b[49m\u001b[43mY\u001b[49m\u001b[43m)\u001b[49m\u001b[43m,\u001b[49m\n\u001b[1;32m      5\u001b[0m \u001b[43m                 \u001b[49m\u001b[43msep_variables\u001b[49m\u001b[38;5;241;43m=\u001b[39;49m\u001b[43m(\u001b[49m\u001b[43mx\u001b[49m\u001b[43m,\u001b[49m\u001b[43my\u001b[49m\u001b[43m)\u001b[49m\u001b[43m,\u001b[49m\n\u001b[1;32m      6\u001b[0m \u001b[43m                 \u001b[49m\u001b[43msep_constant\u001b[49m\u001b[38;5;241;43m=\u001b[39;49m\u001b[43mγ\u001b[49m\u001b[43m,\u001b[49m\n\u001b[1;32m      7\u001b[0m \u001b[43m                 \u001b[49m\u001b[43mis_list\u001b[49m\u001b[43m \u001b[49m\u001b[38;5;241;43m=\u001b[39;49m\u001b[43m \u001b[49m\u001b[38;5;28;43;01mFalse\u001b[39;49;00m\u001b[43m,\u001b[49m\n\u001b[1;32m      8\u001b[0m \u001b[43m                 \u001b[49m\u001b[43mfactor\u001b[49m\u001b[38;5;241;43m=\u001b[39;49m\u001b[43mInteger\u001b[49m\u001b[43m(\u001b[49m\u001b[38;5;241;43m1\u001b[39;49m\u001b[43m)\u001b[49m\u001b[43m,\u001b[49m\n\u001b[1;32m      9\u001b[0m \u001b[43m                 \u001b[49m\u001b[43mcheck\u001b[49m\u001b[38;5;241;43m=\u001b[39;49m\u001b[38;5;28;43;01mTrue\u001b[39;49;00m\u001b[43m,\u001b[49m\n\u001b[1;32m     10\u001b[0m \u001b[43m                 \u001b[49m\u001b[43mshow_log\u001b[49m\u001b[38;5;241;43m=\u001b[39;49m\u001b[38;5;28;43;01mTrue\u001b[39;49;00m\u001b[43m,\u001b[49m\n\u001b[1;32m     11\u001b[0m \u001b[43m                 \u001b[49m\u001b[43mshow_eqs\u001b[49m\u001b[38;5;241;43m=\u001b[39;49m\u001b[38;5;28;43;01mTrue\u001b[39;49;00m\u001b[43m,\u001b[49m\n\u001b[1;32m     12\u001b[0m \u001b[43m                 \u001b[49m\u001b[43minitial_pde\u001b[49m\u001b[38;5;241;43m=\u001b[39;49m\u001b[38;5;28;43;01mNone\u001b[39;49;00m\u001b[43m)\u001b[49m\n\u001b[1;32m     13\u001b[0m show(eqs)\n",
      "File \u001b[0;32m~/Jupyter_projects/de_tools.py:441\u001b[0m, in \u001b[0;36mseparate_pde\u001b[0;34m(pde, funcs, sep_variables, sep_constant, is_list, factor, check, show_log, show_eqs, initial_pde)\u001b[0m\n\u001b[1;32m    431\u001b[0m \u001b[38;5;28;01mdef\u001b[39;00m\u001b[38;5;250m \u001b[39m\u001b[38;5;21mseparate_pde\u001b[39m(pde,\n\u001b[1;32m    432\u001b[0m                  funcs,\n\u001b[1;32m    433\u001b[0m                  sep_variables,\n\u001b[0;32m   (...)\u001b[0m\n\u001b[1;32m    439\u001b[0m                  show_eqs\u001b[38;5;241m=\u001b[39m\u001b[38;5;28;01mTrue\u001b[39;00m,\n\u001b[1;32m    440\u001b[0m                  initial_pde\u001b[38;5;241m=\u001b[39m\u001b[38;5;28;01mNone\u001b[39;00m):\n\u001b[0;32m--> 441\u001b[0m     separated_equations \u001b[38;5;241m=\u001b[39m \u001b[43m_separate_pde\u001b[49m\u001b[43m(\u001b[49m\u001b[43mpde\u001b[49m\u001b[43m,\u001b[49m\n\u001b[1;32m    442\u001b[0m \u001b[43m                                        \u001b[49m\u001b[43mfuncs\u001b[49m\u001b[43m,\u001b[49m\n\u001b[1;32m    443\u001b[0m \u001b[43m                                        \u001b[49m\u001b[43msep_variables\u001b[49m\u001b[43m,\u001b[49m\n\u001b[1;32m    444\u001b[0m \u001b[43m                                        \u001b[49m\u001b[43msep_constant\u001b[49m\u001b[43m,\u001b[49m\n\u001b[1;32m    445\u001b[0m \u001b[43m                                        \u001b[49m\u001b[43mis_list\u001b[49m\u001b[43m,\u001b[49m\n\u001b[1;32m    446\u001b[0m \u001b[43m                                        \u001b[49m\u001b[43mfactor\u001b[49m\u001b[43m,\u001b[49m\n\u001b[1;32m    447\u001b[0m \u001b[43m                                        \u001b[49m\u001b[43mcheck\u001b[49m\u001b[43m,\u001b[49m\n\u001b[1;32m    448\u001b[0m \u001b[43m                                        \u001b[49m\u001b[43mshow_log\u001b[49m\u001b[43m,\u001b[49m\n\u001b[1;32m    449\u001b[0m \u001b[43m                                        \u001b[49m\u001b[43mshow_eqs\u001b[49m\u001b[43m,\u001b[49m\n\u001b[1;32m    450\u001b[0m \u001b[43m                                        \u001b[49m\u001b[43minitial_pde\u001b[49m\u001b[43m)\u001b[49m\n\u001b[1;32m    451\u001b[0m     \u001b[38;5;28;01mreturn\u001b[39;00m separated_equations\n",
      "File \u001b[0;32m~/Jupyter_projects/de_tools.py:424\u001b[0m, in \u001b[0;36m_separate_pde\u001b[0;34m(pde, funcs, sep_variables, sep_constant, is_list, factor, check, show_log, show_eqs, initial_pde)\u001b[0m\n\u001b[1;32m    422\u001b[0m \u001b[38;5;28;01melse\u001b[39;00m:\n\u001b[1;32m    423\u001b[0m     common_factor\u001b[38;5;241m=\u001b[39m\u001b[38;5;241m1\u001b[39m\n\u001b[0;32m--> 424\u001b[0m     common_factor, partially_separated_pde \u001b[38;5;241m=\u001b[39m \u001b[43mpartial_common_factor\u001b[49m\u001b[43m(\u001b[49m\u001b[43mpartially_separated_pde\u001b[49m\u001b[43m,\u001b[49m\u001b[43m \u001b[49m\u001b[43msep_variables\u001b[49m\u001b[43m,\u001b[49m\u001b[43m \u001b[49m\u001b[43mcheck\u001b[49m\u001b[38;5;241;43m=\u001b[39;49m\u001b[43mcheck\u001b[49m\u001b[43m,\u001b[49m\u001b[43m \u001b[49m\u001b[43mshow_log\u001b[49m\u001b[38;5;241;43m=\u001b[39;49m\u001b[43mshow_log\u001b[49m\u001b[43m)\u001b[49m\n\u001b[1;32m    425\u001b[0m     \u001b[38;5;28;01mif\u001b[39;00m \u001b[38;5;129;01mnot\u001b[39;00m common_factor\u001b[38;5;241m==\u001b[39m\u001b[38;5;241m1\u001b[39m:\n\u001b[1;32m    426\u001b[0m         \u001b[38;5;28;01mreturn\u001b[39;00m _separate_pde(\u001b[38;5;28msum\u001b[39m(partially_separated_pde), funcs, sep_variables, sep_constant, check\u001b[38;5;241m=\u001b[39mcheck, show_log\u001b[38;5;241m=\u001b[39mshow_log, show_eqs\u001b[38;5;241m=\u001b[39mshow_eqs, initial_pde\u001b[38;5;241m=\u001b[39minitial_pde\u001b[38;5;241m/\u001b[39mcommon_factor)\n",
      "File \u001b[0;32m~/Jupyter_projects/de_tools.py:176\u001b[0m, in \u001b[0;36mpartial_common_factor\u001b[0;34m(partially_separated_pde, sep_variables, check, show_log)\u001b[0m\n\u001b[1;32m    174\u001b[0m     new_partially_separated_pde \u001b[38;5;241m=\u001b[39m partially_separated_pde\n\u001b[1;32m    175\u001b[0m \u001b[38;5;28;01mif\u001b[39;00m show_log: \n\u001b[0;32m--> 176\u001b[0m     \u001b[38;5;28mprint\u001b[39m(\u001b[43mmessage\u001b[49m)\n\u001b[1;32m    177\u001b[0m \u001b[38;5;28;01mif\u001b[39;00m check:\n\u001b[1;32m    178\u001b[0m     check_result(\u001b[38;5;28msum\u001b[39m(partially_separated_pde), \u001b[38;5;28msum\u001b[39m(new_partially_separated_pde)\u001b[38;5;241m*\u001b[39mcommon_factor, \u001b[38;5;124m'\u001b[39m\u001b[38;5;124mpartial_common_factor test: \u001b[39m\u001b[38;5;124m'\u001b[39m, show_log)\n",
      "\u001b[0;31mUnboundLocalError\u001b[0m: cannot access local variable 'message' where it is not associated with a value"
     ]
    }
   ],
   "source": [
    "from de_tools import separate_pde # substituir por de_tools para código original\n",
    "eqt = eq1\n",
    "eqs = separate_pde(pde=eqt,\n",
    "                 funcs=(X,Y),\n",
    "                 sep_variables=(x,y),\n",
    "                 sep_constant=γ,\n",
    "                 is_list = False,\n",
    "                 factor=1,\n",
    "                 check=True,\n",
    "                 show_log=True,\n",
    "                 show_eqs=True,\n",
    "                 initial_pde=None)\n",
    "show(eqs)"
   ]
  },
  {
   "cell_type": "markdown",
   "id": "91e698a9-eff8-405b-94ee-65d1ead35460",
   "metadata": {},
   "source": [
    "Erros na versão originial corrigidos:\n",
    "\n",
    "ERROS: \"cannot access local variable 'message' where it is not associated with a value\" e \"cannot access local variable 'new_partially_separated_pde' where it is not associated with a value\""
   ]
  },
  {
   "cell_type": "code",
   "execution_count": null,
   "id": "0e34503c-3d69-4816-af92-89e34faec494",
   "metadata": {},
   "outputs": [],
   "source": []
  },
  {
   "cell_type": "markdown",
   "id": "2b24c10d-b85a-4eee-97d6-728168e106e7",
   "metadata": {},
   "source": [
    "## Modulo com bugs corrigido"
   ]
  },
  {
   "cell_type": "markdown",
   "id": "cb142b12-6990-4b44-9dbe-6716e4f4bce4",
   "metadata": {},
   "source": [
    "O modulo não é capaz de resolver EDPs como as escritas no notebook, pois não encontra um fator comum, então retorna a EDP parcialmente separada"
   ]
  },
  {
   "cell_type": "code",
   "execution_count": 58,
   "id": "cfe9d618-36a9-4a29-9df0-126a58708f9d",
   "metadata": {},
   "outputs": [
    {
     "name": "stdout",
     "output_type": "stream",
     "text": [
      "\u001b[95minitialized\u001b[39m\n",
      "pre_separate test: \u001b[32mpassed!\u001b[39m\n",
      "[k^2*X(x)*Y(y) + Y(y)*diff(X(x), x, x) + X(x)*diff(Y(y), y, y), 0, 0]\n",
      "work!!\n",
      "pre_separate test: \u001b[32mpassed!\u001b[39m\n",
      "Partial_pde[k^2*X(x)*Y(y) + Y(y)*diff(X(x), x, x) + X(x)*diff(Y(y), y, y), 0, 0]\n",
      "[k^2*X(x)*Y(y) + Y(y)*diff(X(x), x, x) + X(x)*diff(Y(y), y, y), 0, 0]\n",
      "partial_separate test: \u001b[32mpassed!\u001b[39m\n",
      "\u001b[94mfactor 1 eliminated\u001b[39m\n",
      "eliminate_common_factor test: \u001b[32mpassed!\u001b[39m\n",
      "common factor: 1\n",
      "common factor is rational expression [k^2*X(x)*Y(y) + Y(y)*diff(X(x), x, x) + X(x)*diff(Y(y), y, y), 0, 0]\n",
      "[0, 1]\n",
      "\u001b[33mcommon factor 1 ignored\u001b[39m\n",
      "partial_common_factor test: \u001b[32mpassed!\u001b[39m\n"
     ]
    },
    {
     "data": {
      "text/html": [
       "<html>\\(\\displaystyle \\left[k^{2} X\\left(x\\right) Y\\left(y\\right) + Y\\left(y\\right) \\frac{\\partial^{2}}{(\\partial x)^{2}}X\\left(x\\right) + X\\left(x\\right) \\frac{\\partial^{2}}{(\\partial y)^{2}}Y\\left(y\\right), 0, 0\\right]\\)</html>"
      ],
      "text/latex": [
       "$\\displaystyle \\left[k^{2} X\\left(x\\right) Y\\left(y\\right) + Y\\left(y\\right) \\frac{\\partial^{2}}{(\\partial x)^{2}}X\\left(x\\right) + X\\left(x\\right) \\frac{\\partial^{2}}{(\\partial y)^{2}}Y\\left(y\\right), 0, 0\\right]$"
      ],
      "text/plain": [
       "[k^2*X(x)*Y(y) + Y(y)*diff(X(x), x, x) + X(x)*diff(Y(y), y, y), 0, 0]"
      ]
     },
     "metadata": {},
     "output_type": "display_data"
    }
   ],
   "source": [
    "from de_tools_copy1 import separate_pde # substituir por de_tools para código original\n",
    "eqt = eq1\n",
    "eqs = separate_pde(pde=eqt,\n",
    "                 funcs=(X,Y),\n",
    "                 sep_variables=(x,y),\n",
    "                 sep_constant=γ,\n",
    "                 is_list = False,\n",
    "                 factor=1,\n",
    "                 check=True,\n",
    "                 show_log=True,\n",
    "                 show_eqs=True,\n",
    "                 initial_pde=None)\n",
    "show(eqs)"
   ]
  },
  {
   "cell_type": "markdown",
   "id": "3d0df9b8-ad57-444d-85b2-00cf7421044d",
   "metadata": {},
   "source": [
    "## nova função anexada"
   ]
  },
  {
   "cell_type": "code",
   "execution_count": 149,
   "id": "44fac2bf-03ee-4aab-ae0d-f27f2c8ba590",
   "metadata": {},
   "outputs": [
    {
     "data": {
      "text/html": [
       "<html>\\(\\displaystyle -k Y\\left(y\\right) \\frac{\\partial^{2}}{(\\partial x)^{2}}X\\left(x\\right) + X\\left(x\\right) \\frac{\\partial}{\\partial y}Y\\left(y\\right) = 0\\)</html>"
      ],
      "text/latex": [
       "$\\displaystyle -k Y\\left(y\\right) \\frac{\\partial^{2}}{(\\partial x)^{2}}X\\left(x\\right) + X\\left(x\\right) \\frac{\\partial}{\\partial y}Y\\left(y\\right) = 0$"
      ],
      "text/plain": [
       "-k*Y(y)*diff(X(x), x, x) + X(x)*diff(Y(y), y) == 0"
      ]
     },
     "metadata": {},
     "output_type": "display_data"
    },
    {
     "data": {
      "text/html": [
       "<html>\\(\\displaystyle -k Y\\left(y\\right)\\)</html>"
      ],
      "text/latex": [
       "$\\displaystyle -k Y\\left(y\\right)$"
      ],
      "text/plain": [
       "-k*Y(y)"
      ]
     },
     "metadata": {},
     "output_type": "display_data"
    },
    {
     "data": {
      "text/html": [
       "<html>\\(\\displaystyle X\\left(x\\right)\\)</html>"
      ],
      "text/latex": [
       "$\\displaystyle X\\left(x\\right)$"
      ],
      "text/plain": [
       "X(x)"
      ]
     },
     "metadata": {},
     "output_type": "display_data"
    },
    {
     "data": {
      "text/html": [
       "<html>\\(\\displaystyle \\frac{\\frac{\\partial^{2}}{(\\partial x)^{2}}X\\left(x\\right)}{X\\left(x\\right)} - \\frac{\\frac{\\partial}{\\partial y}Y\\left(y\\right)}{k Y\\left(y\\right)} = 0\\)</html>"
      ],
      "text/latex": [
       "$\\displaystyle \\frac{\\frac{\\partial^{2}}{(\\partial x)^{2}}X\\left(x\\right)}{X\\left(x\\right)} - \\frac{\\frac{\\partial}{\\partial y}Y\\left(y\\right)}{k Y\\left(y\\right)} = 0$"
      ],
      "text/plain": [
       "diff(X(x), x, x)/X(x) - diff(Y(y), y)/(k*Y(y)) == 0"
      ]
     },
     "metadata": {},
     "output_type": "display_data"
    }
   ],
   "source": [
    "def prod(ite):\n",
    "    p = 1\n",
    "    for x in ite:\n",
    "        p*=x\n",
    "    return p\n",
    "\n",
    "def division_separate(equation):\n",
    "    equation = equation.lhs() - equation.rhs() == 0\n",
    "    show(equation)\n",
    "    eqt = equation.expand().operands()\n",
    "    mix = eqt[0].expand().operands()\n",
    "    cox = 1\n",
    "    coy = 1\n",
    "    \n",
    "    for term in mix:\n",
    "        if diff(X, x) in term.operands() or diff(X, x, 2) in term.operands():\n",
    "            cox = prod([k for k in term.operands() if k != diff(X, x) and k != diff(X, x, 2)])\n",
    "            break\n",
    "            \n",
    "    for term in mix:\n",
    "        if diff(Y, y) in term.operands() or diff(Y, y, 2) in term.operands():\n",
    "            coy = prod([k for k in term.operands() if k != diff(Y, y) and k != diff(Y, y, 2)])\n",
    "            break\n",
    "            \n",
    "    d = (cox*coy)\n",
    "    show(cox)\n",
    "    show(coy)\n",
    "    eq_norm = (equation/d).expand()\n",
    "    return eq_norm\n",
    "\n",
    "show(division_separate(eq4))"
   ]
  },
  {
   "cell_type": "code",
   "execution_count": 153,
   "id": "52c1eb41-d641-4a08-9542-1d3057b8a8dd",
   "metadata": {},
   "outputs": [
    {
     "data": {
      "text/html": [
       "<html>\\(\\displaystyle y Y\\left(y\\right) \\frac{\\partial}{\\partial x}X\\left(x\\right) + x X\\left(x\\right) \\frac{\\partial}{\\partial y}Y\\left(y\\right) = 0\\)</html>"
      ],
      "text/latex": [
       "$\\displaystyle y Y\\left(y\\right) \\frac{\\partial}{\\partial x}X\\left(x\\right) + x X\\left(x\\right) \\frac{\\partial}{\\partial y}Y\\left(y\\right) = 0$"
      ],
      "text/plain": [
       "y*Y(y)*diff(X(x), x) + x*X(x)*diff(Y(y), y) == 0"
      ]
     },
     "metadata": {},
     "output_type": "display_data"
    },
    {
     "data": {
      "text/html": [
       "<html>\\(\\displaystyle y Y\\left(y\\right)\\)</html>"
      ],
      "text/latex": [
       "$\\displaystyle y Y\\left(y\\right)$"
      ],
      "text/plain": [
       "y*Y(y)"
      ]
     },
     "metadata": {},
     "output_type": "display_data"
    },
    {
     "data": {
      "text/html": [
       "<html>\\(\\displaystyle x X\\left(x\\right)\\)</html>"
      ],
      "text/latex": [
       "$\\displaystyle x X\\left(x\\right)$"
      ],
      "text/plain": [
       "x*X(x)"
      ]
     },
     "metadata": {},
     "output_type": "display_data"
    },
    {
     "name": "stdout",
     "output_type": "stream",
     "text": [
      "\u001b[95minitialized\u001b[39m\n",
      "pre_separate test: \u001b[32mpassed!\u001b[39m\n",
      "\u001b[32mis_trivially_separable\u001b[39m\n",
      "canonicalize_de for X(x): \u001b[32mpassed!\u001b[39m\n",
      "initial_de: -x*γ*X(x) + diff(X(x), x) == 0\n",
      "initial_de: -x*γ*X(x) + diff(X(x), x) == 0\n",
      "new_de*coeff_2: -x*γ*X(x) + diff(X(x), x) == 0\n",
      "canonicalize_de for Y(y): \u001b[32mpassed!\u001b[39m\n",
      "initial_de: y*γ*Y(y) + diff(Y(y), y) == 0\n",
      "initial_de: y*γ*Y(y) + diff(Y(y), y) == 0\n",
      "new_de*coeff_2: y*γ*Y(y) + diff(Y(y), y) == 0\n",
      "separate_equations test 1: \u001b[32mpassed!\u001b[39m\n",
      "check_mix_diff test: \u001b[32mpassed!\u001b[39m\n",
      "separate_equations test 2: \u001b[32mpassed!\u001b[39m\n"
     ]
    },
    {
     "data": {
      "text/html": [
       "<br>"
      ],
      "text/plain": [
       "<br>"
      ]
     },
     "metadata": {},
     "output_type": "display_data"
    },
    {
     "data": {
      "text/html": [
       "\\(\\large \\color{green}{\\text{Equations separated}}\\)"
      ],
      "text/plain": [
       "\\(\\large \\color{green}{\\text{Equations separated}}\\)"
      ]
     },
     "metadata": {},
     "output_type": "display_data"
    },
    {
     "data": {
      "text/html": [
       " "
      ],
      "text/plain": [
       " "
      ]
     },
     "metadata": {},
     "output_type": "display_data"
    },
    {
     "data": {
      "text/html": [
       "\\(\\text{Parameters:} \\left(x, γ\\right) \\)"
      ],
      "text/plain": [
       "\\(\\text{Parameters:} \\left(x, γ\\right) \\)"
      ]
     },
     "metadata": {},
     "output_type": "display_data"
    },
    {
     "data": {
      "text/html": [
       " "
      ],
      "text/plain": [
       " "
      ]
     },
     "metadata": {},
     "output_type": "display_data"
    },
    {
     "data": {
      "text/html": [
       "\\(\\large -x γ X\\left(x\\right) + \\frac{\\partial\\,X}{\\partial x} = 0 \\)"
      ],
      "text/plain": [
       "\\(\\large -x γ X\\left(x\\right) + \\frac{\\partial\\,X}{\\partial x} = 0 \\)"
      ]
     },
     "metadata": {},
     "output_type": "display_data"
    },
    {
     "data": {
      "text/html": [
       "<br>"
      ],
      "text/plain": [
       "<br>"
      ]
     },
     "metadata": {},
     "output_type": "display_data"
    },
    {
     "data": {
      "text/html": [
       "\\(\\text{Parameters:} \\left(y, γ\\right) \\)"
      ],
      "text/plain": [
       "\\(\\text{Parameters:} \\left(y, γ\\right) \\)"
      ]
     },
     "metadata": {},
     "output_type": "display_data"
    },
    {
     "data": {
      "text/html": [
       " "
      ],
      "text/plain": [
       " "
      ]
     },
     "metadata": {},
     "output_type": "display_data"
    },
    {
     "data": {
      "text/html": [
       "\\(\\large y γ Y\\left(y\\right) + \\frac{\\partial\\,Y}{\\partial y} = 0 \\)"
      ],
      "text/plain": [
       "\\(\\large y γ Y\\left(y\\right) + \\frac{\\partial\\,Y}{\\partial y} = 0 \\)"
      ]
     },
     "metadata": {},
     "output_type": "display_data"
    },
    {
     "data": {
      "text/html": [
       "<br>"
      ],
      "text/plain": [
       "<br>"
      ]
     },
     "metadata": {},
     "output_type": "display_data"
    },
    {
     "data": {
      "text/html": [
       "<html>\\(\\displaystyle \\left[-x γ X\\left(x\\right) + \\frac{\\partial}{\\partial x}X\\left(x\\right) = 0, y γ Y\\left(y\\right) + \\frac{\\partial}{\\partial y}Y\\left(y\\right) = 0\\right]\\)</html>"
      ],
      "text/latex": [
       "$\\displaystyle \\left[-x γ X\\left(x\\right) + \\frac{\\partial}{\\partial x}X\\left(x\\right) = 0, y γ Y\\left(y\\right) + \\frac{\\partial}{\\partial y}Y\\left(y\\right) = 0\\right]$"
      ],
      "text/plain": [
       "[-x*γ*X(x) + diff(X(x), x) == 0, y*γ*Y(y) + diff(Y(y), y) == 0]"
      ]
     },
     "metadata": {},
     "output_type": "display_data"
    }
   ],
   "source": [
    "from de_tools_copy1 import separate_pde # substituir por de_tools para código original\n",
    "eqt = division_separate(eq7)\n",
    "eqs = separate_pde(pde=eqt,\n",
    "                 funcs=(X,Y),\n",
    "                 sep_variables=(x,y),\n",
    "                 sep_constant=γ,\n",
    "                 is_list = False,\n",
    "                 factor=1,\n",
    "                 check=True,\n",
    "                 show_log=True,\n",
    "                 show_eqs=True,\n",
    "                 initial_pde=None)\n",
    "show(eqs)"
   ]
  },
  {
   "cell_type": "code",
   "execution_count": null,
   "id": "8a12b449-e969-4d19-89f5-d8dac8ece889",
   "metadata": {},
   "outputs": [],
   "source": []
  }
 ],
 "metadata": {
  "kernelspec": {
   "display_name": "SageMath 10.6",
   "language": "sage",
   "name": "sagemath"
  },
  "language_info": {
   "codemirror_mode": {
    "name": "ipython",
    "version": 3
   },
   "file_extension": ".py",
   "mimetype": "text/x-python",
   "name": "python",
   "nbconvert_exporter": "python",
   "pygments_lexer": "ipython3",
   "version": "3.11.12"
  }
 },
 "nbformat": 4,
 "nbformat_minor": 5
}
