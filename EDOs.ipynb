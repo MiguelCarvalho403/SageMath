{
 "cells": [
  {
   "cell_type": "code",
   "execution_count": 1,
   "id": "628f837d-df53-40cc-9f97-3b962ef76ec1",
   "metadata": {},
   "outputs": [],
   "source": [
    "import math as m"
   ]
  },
  {
   "cell_type": "code",
   "execution_count": 2,
   "id": "19d83e16-d57c-4413-81f0-d6530631c87a",
   "metadata": {},
   "outputs": [],
   "source": [
    "def confirm(eq, sol):\n",
    "    return eq.subs([diff(y, x, k) == diff(sol, x, k) for k in range(0,3)])"
   ]
  },
  {
   "cell_type": "code",
   "execution_count": 14,
   "id": "7d48ed60-59b5-4af6-ba65-a356590a2d9a",
   "metadata": {},
   "outputs": [],
   "source": [
    "y = function('y')(x)\n",
    "x, c1, c2 = var('x, c1, c2')"
   ]
  },
  {
   "cell_type": "markdown",
   "id": "7d2f120c-7f78-46e9-9159-9398edf94aac",
   "metadata": {
    "jp-MarkdownHeadingCollapsed": true
   },
   "source": [
    "# EQ1"
   ]
  },
  {
   "cell_type": "code",
   "execution_count": 4,
   "id": "308fff95-f2bd-44bb-b8fc-0905ab16fa2f",
   "metadata": {},
   "outputs": [
    {
     "data": {
      "text/html": [
       "<html>\\(\\displaystyle -{\\left(x^{2} - 3\\right)} \\sin\\left(2 \\, x\\right) + 4 \\, y\\left(x\\right) + \\frac{\\partial^{2}}{(\\partial x)^{2}}y\\left(x\\right) = 0\\)</html>"
      ],
      "text/latex": [
       "$\\displaystyle -{\\left(x^{2} - 3\\right)} \\sin\\left(2 \\, x\\right) + 4 \\, y\\left(x\\right) + \\frac{\\partial^{2}}{(\\partial x)^{2}}y\\left(x\\right) = 0$"
      ],
      "text/plain": [
       "-(x^2 - 3)*sin(2*x) + 4*y(x) + diff(y(x), x, x) == 0"
      ]
     },
     "metadata": {},
     "output_type": "display_data"
    }
   ],
   "source": [
    "eq1 = diff(y, 2) + 4*y - (x**2 - 3)*sin(2*x) == 0\n",
    "show(eq1)"
   ]
  },
  {
   "cell_type": "code",
   "execution_count": 5,
   "id": "67899230-60c0-463d-b5ae-fb54c82e6c03",
   "metadata": {},
   "outputs": [
    {
     "data": {
      "text/html": [
       "<html>\\(\\displaystyle -\\frac{1}{96} \\, {\\left(8 \\, x^{3} - 75 \\, x\\right)} \\cos\\left(2 \\, x\\right) + K_{2} \\cos\\left(2 \\, x\\right) + \\frac{1}{128} \\, {\\left(8 \\, x^{2} - 1\\right)} \\sin\\left(2 \\, x\\right) + K_{1} \\sin\\left(2 \\, x\\right)\\)</html>"
      ],
      "text/latex": [
       "$\\displaystyle -\\frac{1}{96} \\, {\\left(8 \\, x^{3} - 75 \\, x\\right)} \\cos\\left(2 \\, x\\right) + K_{2} \\cos\\left(2 \\, x\\right) + \\frac{1}{128} \\, {\\left(8 \\, x^{2} - 1\\right)} \\sin\\left(2 \\, x\\right) + K_{1} \\sin\\left(2 \\, x\\right)$"
      ],
      "text/plain": [
       "-1/96*(8*x^3 - 75*x)*cos(2*x) + _K2*cos(2*x) + 1/128*(8*x^2 - 1)*sin(2*x) + _K1*sin(2*x)"
      ]
     },
     "metadata": {},
     "output_type": "display_data"
    }
   ],
   "source": [
    "sol1 = desolve(eq1, y)\n",
    "show(sol1)"
   ]
  },
  {
   "cell_type": "code",
   "execution_count": 6,
   "id": "fc5e2abf-bebd-4d99-8430-a4852f9210b2",
   "metadata": {},
   "outputs": [
    {
     "data": {
      "text/plain": [
       "0 == 0"
      ]
     },
     "execution_count": 6,
     "metadata": {},
     "output_type": "execute_result"
    }
   ],
   "source": [
    "confirm(eq1, sol1).expand()"
   ]
  },
  {
   "cell_type": "markdown",
   "id": "9e599d2d-93be-474e-98c7-73496676ea1b",
   "metadata": {
    "jp-MarkdownHeadingCollapsed": true
   },
   "source": [
    "## Resultado calculado"
   ]
  },
  {
   "cell_type": "code",
   "execution_count": 16,
   "id": "9a2b1272-8788-498a-9037-f2bbbdeaeaaf",
   "metadata": {},
   "outputs": [
    {
     "data": {
      "text/html": [
       "<html>\\(\\displaystyle \\frac{1}{16} \\, x^{2} \\sin\\left(2 \\, x\\right) - \\frac{1}{96} \\, {\\left(8 \\, x^{3} - 75 \\, x\\right)} \\cos\\left(2 \\, x\\right) + c_{1} \\cos\\left(2 \\, x\\right) + c_{2} \\sin\\left(2 \\, x\\right)\\)</html>"
      ],
      "text/latex": [
       "$\\displaystyle \\frac{1}{16} \\, x^{2} \\sin\\left(2 \\, x\\right) - \\frac{1}{96} \\, {\\left(8 \\, x^{3} - 75 \\, x\\right)} \\cos\\left(2 \\, x\\right) + c_{1} \\cos\\left(2 \\, x\\right) + c_{2} \\sin\\left(2 \\, x\\right)$"
      ],
      "text/plain": [
       "1/16*x^2*sin(2*x) - 1/96*(8*x^3 - 75*x)*cos(2*x) + c1*cos(2*x) + c2*sin(2*x)"
      ]
     },
     "metadata": {},
     "output_type": "display_data"
    }
   ],
   "source": [
    "sol_1 = c1*cos(2*x) + c2*sin(2*x) - (x**3/12 - 25*x/32)*cos(2*x) + (x**2/16)*sin(2*x)\n",
    "show(sol_1)"
   ]
  },
  {
   "cell_type": "code",
   "execution_count": 18,
   "id": "eee78be1-540a-493b-b923-7c706d1022ef",
   "metadata": {},
   "outputs": [
    {
     "data": {
      "text/plain": [
       "0 == 0"
      ]
     },
     "execution_count": 18,
     "metadata": {},
     "output_type": "execute_result"
    }
   ],
   "source": [
    "confirm(eq1, sol_1).expand()"
   ]
  },
  {
   "cell_type": "markdown",
   "id": "ef898122-8887-4cfe-a710-0b9db1217603",
   "metadata": {
    "jp-MarkdownHeadingCollapsed": true
   },
   "source": [
    "# EQ2"
   ]
  },
  {
   "cell_type": "code",
   "execution_count": 7,
   "id": "a284d5da-926a-4879-bf35-b4de4c2f217b",
   "metadata": {},
   "outputs": [
    {
     "data": {
      "text/html": [
       "<html>\\(\\displaystyle 2 \\, y\\left(x\\right) + 3 \\, \\frac{\\partial}{\\partial x}y\\left(x\\right) + \\frac{\\partial^{2}}{(\\partial x)^{2}}y\\left(x\\right) - 6 = 0\\)</html>"
      ],
      "text/latex": [
       "$\\displaystyle 2 \\, y\\left(x\\right) + 3 \\, \\frac{\\partial}{\\partial x}y\\left(x\\right) + \\frac{\\partial^{2}}{(\\partial x)^{2}}y\\left(x\\right) - 6 = 0$"
      ],
      "text/plain": [
       "2*y(x) + 3*diff(y(x), x) + diff(y(x), x, x) - 6 == 0"
      ]
     },
     "metadata": {},
     "output_type": "display_data"
    }
   ],
   "source": [
    "eq2 = diff(y, x, 2) + 3*diff(y, x, 1) + 2*y - 6 == 0\n",
    "show(eq2)"
   ]
  },
  {
   "cell_type": "code",
   "execution_count": 8,
   "id": "5bb82057-1491-4a3d-957d-11824640b576",
   "metadata": {},
   "outputs": [
    {
     "data": {
      "text/html": [
       "<html>\\(\\displaystyle K_{1} e^{\\left(-x\\right)} + K_{2} e^{\\left(-2 \\, x\\right)} + 3\\)</html>"
      ],
      "text/latex": [
       "$\\displaystyle K_{1} e^{\\left(-x\\right)} + K_{2} e^{\\left(-2 \\, x\\right)} + 3$"
      ],
      "text/plain": [
       "_K1*e^(-x) + _K2*e^(-2*x) + 3"
      ]
     },
     "metadata": {},
     "output_type": "display_data"
    }
   ],
   "source": [
    "sol2 = desolve(eq2, y)\n",
    "show(sol2)"
   ]
  },
  {
   "cell_type": "code",
   "execution_count": 9,
   "id": "110eb6ca-d138-4357-b692-5e5d9571e598",
   "metadata": {},
   "outputs": [
    {
     "data": {
      "text/plain": [
       "0 == 0"
      ]
     },
     "execution_count": 9,
     "metadata": {},
     "output_type": "execute_result"
    }
   ],
   "source": [
    "confirm(eq2, sol2)"
   ]
  },
  {
   "cell_type": "markdown",
   "id": "a042657a-a6f1-403c-a8b6-11af705b7743",
   "metadata": {},
   "source": [
    "# EQ3"
   ]
  },
  {
   "cell_type": "code",
   "execution_count": 10,
   "id": "d54728d8-c221-4940-910b-abe017e91e51",
   "metadata": {},
   "outputs": [
    {
     "data": {
      "text/html": [
       "<html>\\(\\displaystyle -48 \\, x^{2} e^{\\left(3 \\, x\\right)} + 3 \\, y\\left(x\\right) + \\frac{\\partial^{2}}{(\\partial x)^{2}}y\\left(x\\right) = 0\\)</html>"
      ],
      "text/latex": [
       "$\\displaystyle -48 \\, x^{2} e^{\\left(3 \\, x\\right)} + 3 \\, y\\left(x\\right) + \\frac{\\partial^{2}}{(\\partial x)^{2}}y\\left(x\\right) = 0$"
      ],
      "text/plain": [
       "-48*x^2*e^(3*x) + 3*y(x) + diff(y(x), x, x) == 0"
      ]
     },
     "metadata": {},
     "output_type": "display_data"
    }
   ],
   "source": [
    "eq3 = diff(y, x, 2) + 3*y - 48 * x**2 * e**(3*x) == 0\n",
    "show(eq3)"
   ]
  },
  {
   "cell_type": "code",
   "execution_count": 11,
   "id": "92845203-11ee-4313-b225-10f80aa524a2",
   "metadata": {},
   "outputs": [
    {
     "data": {
      "text/html": [
       "<html>\\(\\displaystyle K_{2} \\cos\\left(\\sqrt{3} x\\right) + \\frac{4}{3} \\, {\\left(3 \\, x^{2} - 3 \\, x + 1\\right)} e^{\\left(3 \\, x\\right)} + K_{1} \\sin\\left(\\sqrt{3} x\\right)\\)</html>"
      ],
      "text/latex": [
       "$\\displaystyle K_{2} \\cos\\left(\\sqrt{3} x\\right) + \\frac{4}{3} \\, {\\left(3 \\, x^{2} - 3 \\, x + 1\\right)} e^{\\left(3 \\, x\\right)} + K_{1} \\sin\\left(\\sqrt{3} x\\right)$"
      ],
      "text/plain": [
       "_K2*cos(sqrt(3)*x) + 4/3*(3*x^2 - 3*x + 1)*e^(3*x) + _K1*sin(sqrt(3)*x)"
      ]
     },
     "metadata": {},
     "output_type": "display_data"
    }
   ],
   "source": [
    "sol3 = desolve(eq3, y)\n",
    "show(sol3)"
   ]
  },
  {
   "cell_type": "code",
   "execution_count": 12,
   "id": "67aab9bc-7f8f-4f7b-9522-721c4a07d339",
   "metadata": {},
   "outputs": [
    {
     "data": {
      "text/plain": [
       "0"
      ]
     },
     "execution_count": 12,
     "metadata": {},
     "output_type": "execute_result"
    }
   ],
   "source": [
    "confirm(eq3, sol3).lhs().expand()"
   ]
  },
  {
   "cell_type": "code",
   "execution_count": 1,
   "id": "c9774efb-3eb5-4ab4-94a4-fb43834be6a6",
   "metadata": {},
   "outputs": [
    {
     "data": {
      "image/png": "[encoded data removed]",
      "text/plain": [
       "<Figure size 1000x600 with 1 Axes>"
      ]
     },
     "metadata": {},
     "output_type": "display_data"
    },
    {
     "name": "stdout",
     "output_type": "stream",
     "text": [
      "Comparação de resultados para x = 2.00000000000000:\n",
      "  - Solução de Euler: y(2.00000000000000) ≈ 0.0145\n",
      "  - Solução Exata:    y(2.00000000000000) = 0.0733\n"
     ]
    }
   ],
   "source": [
    "import numpy as np\n",
    "import matplotlib.pyplot as plt\n",
    "\n",
    "# 1. Defina a EDO na forma dy/dx = f(x, y)\n",
    "def f(x, y):\n",
    "    \"\"\"\n",
    "    Esta é a função que representa a EDO.\n",
    "    Para o nosso exemplo: dy/dx = -2y.\n",
    "    Note que a função não depende de x neste caso específico.\n",
    "    \"\"\"\n",
    "    return -2 * y\n",
    "\n",
    "# 2. Implementação do Método de Euler\n",
    "def metodo_euler(f, x0, y0, x_final, h):\n",
    "    \"\"\"\n",
    "    Calcula a solução de uma EDO usando o Método de Euler.\n",
    "\n",
    "    Argumentos:\n",
    "    f: A função da EDO, f(x, y).\n",
    "    x0: Condição inicial para x.\n",
    "    y0: Condição inicial para y.\n",
    "    x_final: O valor final de x para o qual a solução é calculada.\n",
    "    h: O tamanho do passo.\n",
    "\n",
    "    Retorna:\n",
    "    (x_pontos, y_pontos): Tupla com as listas de pontos x e y da solução.\n",
    "    \"\"\"\n",
    "    # Cria listas para armazenar os pontos da solução, começando com os valores iniciais\n",
    "    x_pontos = [x0]\n",
    "    y_pontos = [y0]\n",
    "\n",
    "    # Define os valores atuais de x e y\n",
    "    xi = x0\n",
    "    yi = y0\n",
    "\n",
    "    # 3. Loop iterativo para calcular cada passo\n",
    "    while xi < x_final:\n",
    "        # Fórmula de Euler para encontrar o próximo y\n",
    "        yi = yi + h * f(xi, yi)\n",
    "        \n",
    "        # Incrementa x pelo tamanho do passo\n",
    "        xi = xi + h\n",
    "        \n",
    "        # Armazena os novos pontos\n",
    "        x_pontos.append(xi)\n",
    "        y_pontos.append(yi)\n",
    "        \n",
    "    return np.array(x_pontos), np.array(y_pontos)\n",
    "\n",
    "# --- Configuração do Problema ---\n",
    "X0 = 0.0          # Valor inicial de x\n",
    "Y0 = 4.0          # Valor inicial de y (y(0) = 4)\n",
    "X_FINAL = 2.0     # Valor final de x\n",
    "H = 0.2           # Tamanho do passo (experimente mudar para 0.1 ou 0.01 para ver a melhora)\n",
    "\n",
    "# --- Execução e Visualização ---\n",
    "\n",
    "# Calcula a solução aproximada usando o Método de Euler\n",
    "x_euler, y_euler = metodo_euler(f, X0, Y0, X_FINAL, H)\n",
    "\n",
    "# Calcula a solução exata para comparação\n",
    "x_exato = np.linspace(X0, X_FINAL, 200)\n",
    "y_exato = 4 * np.exp(-2 * x_exato)\n",
    "\n",
    "# Plota os resultados\n",
    "plt.figure(figsize=(10, 6))\n",
    "plt.plot(x_euler, y_euler, 'o-', label=f'Método de Euler (h={H})', color='red')\n",
    "plt.plot(x_exato, y_exato, label='Solução Exata ($y=4e^{-2x}$)', color='blue', linestyle='--')\n",
    "plt.title('Método de Euler vs. Solução Exata')\n",
    "plt.xlabel('x')\n",
    "plt.ylabel('y')\n",
    "plt.grid(True)\n",
    "plt.legend()\n",
    "plt.show()\n",
    "\n",
    "# Imprime alguns valores para comparação direta\n",
    "print(f\"Comparação de resultados para x = {X_FINAL}:\")\n",
    "print(f\"  - Solução de Euler: y({X_FINAL}) ≈ {y_euler[-1]:.4f}\")\n",
    "print(f\"  - Solução Exata:    y({X_FINAL}) = {y_exato[-1]:.4f}\")"
   ]
  },
  {
   "cell_type": "code",
   "execution_count": 2,
   "id": "62b4aba2-bbec-4c60-8090-7f6c19033b18",
   "metadata": {},
   "outputs": [
    {
     "name": "stderr",
     "output_type": "stream",
     "text": [
      "<>:94: DeprecationWarning: invalid escape sequence '\\p'\n",
      "<>:94: DeprecationWarning: invalid escape sequence '\\p'\n",
      "/tmp/ipykernel_26449/2251018999.py:94: DeprecationWarning: invalid escape sequence '\\p'\n",
      "  grafico_final.title(\"Comparação da Convergência de Métodos para Calcular $\\pi$\")\n",
      "/tmp/ipykernel_26449/2251018999.py:94: DeprecationWarning: invalid escape sequence '\\p'\n",
      "  grafico_final.title(\"Comparação da Convergência de Métodos para Calcular $\\pi$\")\n"
     ]
    },
    {
     "ename": "AttributeError",
     "evalue": "'Graphics' object has no attribute 'title'",
     "output_type": "error",
     "traceback": [
      "\u001b[0;31m---------------------------------------------------------------------------\u001b[0m",
      "\u001b[0;31mAttributeError\u001b[0m                            Traceback (most recent call last)",
      "Cell \u001b[0;32mIn[2], line 94\u001b[0m\n\u001b[1;32m     92\u001b[0m grafico_final\u001b[38;5;241m.\u001b[39mset_legend_options(loc\u001b[38;5;241m=\u001b[39m\u001b[38;5;124m'\u001b[39m\u001b[38;5;124mupper right\u001b[39m\u001b[38;5;124m'\u001b[39m)\n\u001b[1;32m     93\u001b[0m grafico_final\u001b[38;5;241m.\u001b[39mset_axes_range(ymin\u001b[38;5;241m=\u001b[39mRealNumber(\u001b[38;5;124m'\u001b[39m\u001b[38;5;124m1e-18\u001b[39m\u001b[38;5;124m'\u001b[39m)) \u001b[38;5;66;03m# Define um limite mínimo para o erro no eixo y\u001b[39;00m\n\u001b[0;32m---> 94\u001b[0m \u001b[43mgrafico_final\u001b[49m\u001b[38;5;241;43m.\u001b[39;49m\u001b[43mtitle\u001b[49m(\u001b[38;5;124m\"\u001b[39m\u001b[38;5;124mComparação da Convergência de Métodos para Calcular $\u001b[39m\u001b[38;5;124m\\\u001b[39m\u001b[38;5;124mpi$\u001b[39m\u001b[38;5;124m\"\u001b[39m)\n\u001b[1;32m     95\u001b[0m grafico_final\u001b[38;5;241m.\u001b[39maxes_labels([\u001b[38;5;124m\"\u001b[39m\u001b[38;5;124mNúmero de Iterações (Termos)\u001b[39m\u001b[38;5;124m\"\u001b[39m, \u001b[38;5;124m\"\u001b[39m\u001b[38;5;124mErro Absoluto (Escala Logarítmica)\u001b[39m\u001b[38;5;124m\"\u001b[39m])\n\u001b[1;32m     96\u001b[0m grafico_final\u001b[38;5;241m.\u001b[39mset_scale(\u001b[38;5;124m'\u001b[39m\u001b[38;5;124msemilogy\u001b[39m\u001b[38;5;124m'\u001b[39m) \u001b[38;5;66;03m# ESSENCIAL: define a escala logarítmica para o eixo y\u001b[39;00m\n",
      "\u001b[0;31mAttributeError\u001b[0m: 'Graphics' object has no attribute 'title'"
     ]
    }
   ],
   "source": [
    "# --- Configurações Iniciais ---\n",
    "# Número de iterações para as séries mais lentas\n",
    "n_iteracoes = 100\n",
    "\n",
    "# Usaremos um número muito pequeno de iterações para Ramanujan, pois converge muito rápido\n",
    "n_iteracoes_ramanujan = 2  # Apenas 3 termos (k=0, 1, 2) já dão uma precisão incrível\n",
    "\n",
    "# Define a precisão dos cálculos para evitar erros de ponto flutuante\n",
    "precisao_bits = 200\n",
    "R = RealField(precisao_bits)\n",
    "pi_real = R(pi)\n",
    "\n",
    "\n",
    "# --- Funções para Calcular as Séries ---\n",
    "\n",
    "def serie_leibniz(n_max):\n",
    "    \"\"\"Calcula a aproximação de Pi usando a série de Leibniz.\"\"\"\n",
    "    soma = R(0)\n",
    "    aproximacoes = []\n",
    "    for k in range(n_max + 1):\n",
    "        termo = R(4 * (-1)^k / (2*k + 1))\n",
    "        soma += termo\n",
    "        aproximacoes.append(soma)\n",
    "    return aproximacoes\n",
    "\n",
    "def serie_nilakantha(n_max):\n",
    "    \"\"\"Calcula a aproximação de Pi usando a série de Nilakantha.\"\"\"\n",
    "    soma = R(3)\n",
    "    aproximacoes = [soma]\n",
    "    for k in range(1, n_max + 1):\n",
    "        termo = R(4 * (-1)^(k+1) / ((2*k) * (2*k+1) * (2*k+2)))\n",
    "        soma += termo\n",
    "        aproximacoes.append(soma)\n",
    "    return aproximacoes\n",
    "\n",
    "def serie_euler_basel(n_max):\n",
    "    \"\"\"Calcula a aproximação de Pi usando a solução de Euler para o Problema de Basel.\"\"\"\n",
    "    soma = R(0)\n",
    "    aproximacoes = []\n",
    "    for k in range(1, n_max + 1):\n",
    "        termo = R(1 / k^2)\n",
    "        soma += termo\n",
    "        # A aproximação de pi é sqrt(6 * soma)\n",
    "        aproximacoes.append(sqrt(6 * soma))\n",
    "    return aproximacoes\n",
    "\n",
    "def serie_ramanujan(n_max):\n",
    "    \"\"\"Calcula a aproximação de Pi usando a série de Ramanujan.\"\"\"\n",
    "    soma = R(0)\n",
    "    constante = R(2 * sqrt(2) / 9801)\n",
    "    aproximacoes = []\n",
    "    for k in range(n_max + 1):\n",
    "        numerador = factorial(4*k) * (1103 + 26390*k)\n",
    "        denominador = factorial(k)^4 * 396^(4*k)\n",
    "        termo = R(numerador) / R(denominador)\n",
    "        soma += termo\n",
    "        # A série calcula 1/pi, então invertemos o resultado\n",
    "        pi_aprox = 1 / (constante * soma)\n",
    "        aproximacoes.append(pi_aprox)\n",
    "    return aproximacoes\n",
    "\n",
    "# --- Geração dos Dados e Cálculo do Erro ---\n",
    "\n",
    "# Calcula as aproximações para cada método\n",
    "aprox_leibniz = serie_leibniz(n_iteracoes)\n",
    "aprox_nilakantha = serie_nilakantha(n_iteracoes)\n",
    "aprox_euler = serie_euler_basel(n_iteracoes)\n",
    "aprox_ramanujan = serie_ramanujan(n_iteracoes_ramanujan)\n",
    "\n",
    "# Calcula o erro absoluto para cada aproximação\n",
    "erros_leibniz = [abs(aprox - pi_real) for aprox in aprox_leibniz]\n",
    "erros_nilakantha = [abs(aprox - pi_real) for aprox in aprox_nilakantha]\n",
    "erros_euler = [abs(aprox - pi_real) for aprox in aprox_euler]\n",
    "erros_ramanujan = [abs(aprox - pi_real) for aprox in aprox_ramanujan]\n",
    "\n",
    "# --- Criação do Gráfico ---\n",
    "\n",
    "# Gráfico para as séries mais lentas\n",
    "p_leibniz = list_plot(erros_leibniz, plotjoined=True, color='red', legend_label='Leibniz')\n",
    "p_nilakantha = list_plot(erros_nilakantha, plotjoined=True, color='green', legend_label='Nilakantha')\n",
    "p_euler = list_plot(erros_euler, plotjoined=True, color='blue', legend_label='Euler (Basel)')\n",
    "\n",
    "# Gráfico para a série de Ramanujan (em um plot separado para clareza visual)\n",
    "# Usamos marker 'o' para ver os pontos, já que são poucos\n",
    "p_ramanujan = list_plot(erros_ramanujan, plotjoined=True, color='orange', marker='o', legend_label='Ramanujan')\n",
    "\n",
    "\n",
    "# Combina todos os gráficos em um só\n",
    "grafico_final = p_leibniz + p_nilakantha + p_euler + p_ramanujan\n",
    "\n",
    "# Configurações finais do gráfico\n",
    "grafico_final.set_legend_options(loc='upper right')\n",
    "grafico_final.set_axes_range(ymin=1e-18) # Define um limite mínimo para o erro no eixo y\n",
    "grafico_final.title(\"Comparação da Convergência de Métodos para Calcular $\\pi$\")\n",
    "grafico_final.axes_labels([\"Número de Iterações (Termos)\", \"Erro Absoluto (Escala Logarítmica)\"])\n",
    "grafico_final.set_scale('semilogy') # ESSENCIAL: define a escala logarítmica para o eixo y\n",
    "\n",
    "# Exibe o gráfico\n",
    "grafico_final.show()"
   ]
  }
 ],
 "metadata": {
  "kernelspec": {
   "display_name": "SageMath 10.6",
   "language": "sage",
   "name": "sagemath"
  },
  "language_info": {
   "codemirror_mode": {
    "name": "ipython",
    "version": 3
   },
   "file_extension": ".py",
   "mimetype": "text/x-python",
   "name": "python",
   "nbconvert_exporter": "python",
   "pygments_lexer": "ipython3",
   "version": "3.11.12"
  }
 },
 "nbformat": 4,
 "nbformat_minor": 5
}
