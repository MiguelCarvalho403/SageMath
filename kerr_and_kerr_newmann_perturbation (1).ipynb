{
 "cells": [
  {
   "cell_type": "code",
   "execution_count": 2,
   "id": "7b0f813d-6c0a-4c7b-bd99-537bb0bb56f8",
   "metadata": {},
   "outputs": [],
   "source": [
    "%display latex"
   ]
  },
  {
   "cell_type": "markdown",
   "id": "abfb76a9-4268-44b9-a1d8-37b8e14674f8",
   "metadata": {},
   "source": [
    "## Definindo o espaço-tempo"
   ]
  },
  {
   "cell_type": "code",
   "execution_count": 5,
   "id": "c5a5c35c-db0f-463b-a3a4-93cec1a13293",
   "metadata": {},
   "outputs": [],
   "source": [
    "var('a m q', domain='positive')\n",
    "M = Manifold(4, 'M', structure='Lorentzian')\n",
    "X.<t, r, th, ph> = M.chart(r\"t r:(0,+oo) th:(0,pi):\\theta ph:(0,2*pi):\\phi:periodic\")\n",
    "g = M.metric()"
   ]
  },
  {
   "cell_type": "markdown",
   "id": "64a53428-9791-46bb-ae05-9dc5537804f1",
   "metadata": {},
   "source": [
    "## Métrica"
   ]
  },
  {
   "cell_type": "code",
   "execution_count": 19,
   "id": "5370c9d4-2285-4ba9-adff-50aac4e86c82",
   "metadata": {},
   "outputs": [
    {
     "data": {
      "text/html": [
       "<html>\\(\\displaystyle g = \\left( \\frac{2 \\, m r}{a^{2} \\cos\\left({\\theta}\\right)^{2} + r^{2}} - 1 \\right) \\mathrm{d} t\\otimes \\mathrm{d} t + \\left( -\\frac{2 \\, a m r \\sin\\left({\\theta}\\right)^{2}}{a^{2} \\cos\\left({\\theta}\\right)^{2} + r^{2}} \\right) \\mathrm{d} t\\otimes \\mathrm{d} {\\phi} + \\left( \\frac{a^{2} \\cos\\left({\\theta}\\right)^{2} + r^{2}}{a^{2} - 2 \\, m r + r^{2}} \\right) \\mathrm{d} r\\otimes \\mathrm{d} r + \\left( a^{2} \\cos\\left({\\theta}\\right)^{2} + r^{2} \\right) \\mathrm{d} {\\theta}\\otimes \\mathrm{d} {\\theta} + \\left( -\\frac{2 \\, a m r \\sin\\left({\\theta}\\right)^{2}}{a^{2} \\cos\\left({\\theta}\\right)^{2} + r^{2}} \\right) \\mathrm{d} {\\phi}\\otimes \\mathrm{d} t + {\\left(\\frac{2 \\, a^{2} m r \\sin\\left({\\theta}\\right)^{2}}{a^{2} \\cos\\left({\\theta}\\right)^{2} + r^{2}} + a^{2} + r^{2}\\right)} \\sin\\left({\\theta}\\right)^{2} \\mathrm{d} {\\phi}\\otimes \\mathrm{d} {\\phi}\\)</html>"
      ],
      "text/latex": [
       "$\\displaystyle g = \\left( \\frac{2 \\, m r}{a^{2} \\cos\\left({\\theta}\\right)^{2} + r^{2}} - 1 \\right) \\mathrm{d} t\\otimes \\mathrm{d} t + \\left( -\\frac{2 \\, a m r \\sin\\left({\\theta}\\right)^{2}}{a^{2} \\cos\\left({\\theta}\\right)^{2} + r^{2}} \\right) \\mathrm{d} t\\otimes \\mathrm{d} {\\phi} + \\left( \\frac{a^{2} \\cos\\left({\\theta}\\right)^{2} + r^{2}}{a^{2} - 2 \\, m r + r^{2}} \\right) \\mathrm{d} r\\otimes \\mathrm{d} r + \\left( a^{2} \\cos\\left({\\theta}\\right)^{2} + r^{2} \\right) \\mathrm{d} {\\theta}\\otimes \\mathrm{d} {\\theta} + \\left( -\\frac{2 \\, a m r \\sin\\left({\\theta}\\right)^{2}}{a^{2} \\cos\\left({\\theta}\\right)^{2} + r^{2}} \\right) \\mathrm{d} {\\phi}\\otimes \\mathrm{d} t + {\\left(\\frac{2 \\, a^{2} m r \\sin\\left({\\theta}\\right)^{2}}{a^{2} \\cos\\left({\\theta}\\right)^{2} + r^{2}} + a^{2} + r^{2}\\right)} \\sin\\left({\\theta}\\right)^{2} \\mathrm{d} {\\phi}\\otimes \\mathrm{d} {\\phi}$"
      ],
      "text/plain": [
       "g = (2*m*r/(a^2*cos(th)^2 + r^2) - 1) dt⊗dt - 2*a*m*r*sin(th)^2/(a^2*cos(th)^2 + r^2) dt⊗dph + (a^2*cos(th)^2 + r^2)/(a^2 - 2*m*r + r^2) dr⊗dr + (a^2*cos(th)^2 + r^2) dth⊗dth - 2*a*m*r*sin(th)^2/(a^2*cos(th)^2 + r^2) dph⊗dt + (2*a^2*m*r*sin(th)^2/(a^2*cos(th)^2 + r^2) + a^2 + r^2)*sin(th)^2 dph⊗dph"
      ]
     },
     "execution_count": 19,
     "metadata": {},
     "output_type": "execute_result"
    }
   ],
   "source": [
    "# Kerr\n",
    "\n",
    "rho2 = r^2 + (a*cos(th))^2\n",
    "Delta = r^2 -2*m*r + a^2\n",
    "g[0,0] = -(1-2*m*r/rho2)\n",
    "g[0,3] = -2*a*m*r*sin(th)^2/rho2\n",
    "g[1,1], g[2,2] = rho2/Delta, rho2\n",
    "g[3,3] = (r^2+a^2+2*m*r*(a*sin(th))^2/rho2)*sin(th)^2\n",
    "g.display()"
   ]
  },
  {
   "cell_type": "code",
   "execution_count": 20,
   "id": "2c58ff6b-2abb-4724-899a-026fcf0599bf",
   "metadata": {},
   "outputs": [],
   "source": [
    "# Kerr-Newman\n",
    "\n",
    "# rho2 = r^2 + (a*cos(th))^2\n",
    "# Delta = r^2 -2*m*r + a^2 + q^2\n",
    "# g[0,0] = -1 + (2*m*r-q^2)/rho2\n",
    "# g[0,3] = -a*sin(th)^2*(2*m*r-q^2)/rho2\n",
    "# g[1,1], g[2,2] = rho2/Delta, rho2\n",
    "# g[3,3] = (r^2 + a^2 + (2*m*r-q^2)*(a*sin(th))^2/rho2)*sin(th)^2\n",
    "# g.display()"
   ]
  },
  {
   "cell_type": "code",
   "execution_count": 21,
   "id": "bc70e9a2-dd5b-4e1f-925f-2060e3bb519a",
   "metadata": {},
   "outputs": [
    {
     "ename": "NameError",
     "evalue": "name 'Scw' is not defined",
     "output_type": "error",
     "traceback": [
      "\u001b[0;31m---------------------------------------------------------------------------\u001b[0m",
      "\u001b[0;31mNameError\u001b[0m                                 Traceback (most recent call last)",
      "Cell \u001b[0;32mIn [21], line 1\u001b[0m\n\u001b[0;32m----> 1\u001b[0m PR \u001b[38;5;241m=\u001b[39m Scw\u001b[38;5;241m.\u001b[39mchart(\u001b[38;5;124mr\u001b[39m\u001b[38;5;124m'\u001b[39m\u001b[38;5;124mt r:(0,oo) χ:[-1,1]:\u001b[39m\u001b[38;5;124m\\\u001b[39m\u001b[38;5;124mchi ϕ:[-pi,pi]:periodic:\u001b[39m\u001b[38;5;124m\\\u001b[39m\u001b[38;5;124mphi\u001b[39m\u001b[38;5;124m'\u001b[39m, names\u001b[38;5;241m=\u001b[39m(\u001b[38;5;124m'\u001b[39m\u001b[38;5;124mt\u001b[39m\u001b[38;5;124m'\u001b[39m, \u001b[38;5;124m'\u001b[39m\u001b[38;5;124mr\u001b[39m\u001b[38;5;124m'\u001b[39m, \u001b[38;5;124m'\u001b[39m\u001b[38;5;124mχ\u001b[39m\u001b[38;5;124m'\u001b[39m, \u001b[38;5;124m'\u001b[39m\u001b[38;5;124mϕ\u001b[39m\u001b[38;5;124m'\u001b[39m,)); (t, r, χ, ϕ,) \u001b[38;5;241m=\u001b[39m PR\u001b[38;5;241m.\u001b[39m_first_ngens(\u001b[38;5;241m4\u001b[39m)\n\u001b[1;32m      2\u001b[0m \u001b[38;5;66;03m# show(PR.coord_range())\u001b[39;00m\n\u001b[1;32m      3\u001b[0m \u001b[38;5;66;03m# SC_to_PR = PR.transition_map(Scw.default_chart(), [t,r,arccos(χ),ϕ])\u001b[39;00m\n\u001b[1;32m      4\u001b[0m \u001b[38;5;66;03m# SC_to_PR.display()\u001b[39;00m\n",
      "\u001b[0;31mNameError\u001b[0m: name 'Scw' is not defined"
     ]
    }
   ],
   "source": [
    "PR.<t,r,χ,ϕ> = Scw.chart(r't r:(0,oo) χ:[-1,1]:\\chi ϕ:[-pi,pi]:periodic:\\phi')\n",
    "# show(PR.coord_range())\n",
    "# SC_to_PR = PR.transition_map(Scw.default_chart(), [t,r,arccos(χ),ϕ])\n",
    "# SC_to_PR.display()"
   ]
  },
  {
   "cell_type": "code",
   "execution_count": 5,
   "id": "4dc9094b-786f-4363-854c-87f29de70937",
   "metadata": {},
   "outputs": [],
   "source": [
    "# Scw.set_default_chart(PR)\n",
    "# Scw.set_default_frame(PR.frame())\n",
    "# g.display()"
   ]
  },
  {
   "cell_type": "markdown",
   "id": "b71a1161-cb64-4986-9cc9-b70ce3fbb044",
   "metadata": {
    "tags": []
   },
   "source": [
    "## Scalar field and Klein-Gordon equation"
   ]
  },
  {
   "cell_type": "markdown",
   "id": "d1a01033-32e3-431e-9296-22b8f89e6286",
   "metadata": {},
   "source": [
    "**Taking into account the axisymmetry and the stationarity of the metric, we intrduce the following ansatz:**"
   ]
  },
  {
   "cell_type": "code",
   "execution_count": 22,
   "id": "f7bd42ca-0aeb-4a12-b49d-1071afccd198",
   "metadata": {},
   "outputs": [
    {
     "data": {
      "text/html": [
       "<html>\\(\\displaystyle \\begin{array}{llcl} \\Phi:& M & \\longrightarrow & \\mathbb{R} \\\\ & \\left(t, r, {\\theta}, {\\phi}\\right) & \\longmapsto & R\\left(r\\right) S\\left({\\theta}, {\\phi}\\right) e^{\\left(-i \\, t ω\\right)} \\end{array}\\)</html>"
      ],
      "text/latex": [
       "$\\displaystyle \\begin{array}{llcl} \\Phi:& M & \\longrightarrow & \\mathbb{R} \\\\ & \\left(t, r, {\\theta}, {\\phi}\\right) & \\longmapsto & R\\left(r\\right) S\\left({\\theta}, {\\phi}\\right) e^{\\left(-i \\, t ω\\right)} \\end{array}$"
      ],
      "text/plain": [
       "M → ℝ\n",
       "(t, r, th, ph) ↦ R(r)*S(th, ph)*e^(-I*t*ω)"
      ]
     },
     "execution_count": 22,
     "metadata": {},
     "output_type": "execute_result"
    }
   ],
   "source": [
    "var('λ', domain='positive') # λ = sep_constant\n",
    "var('ω')\n",
    "R, S = function('R'),function('S')\n",
    "Φ = M.scalar_field(exp(-i*ω*t)*R(r)*S(th,ph),latex_name=r'\\Phi')\n",
    "Φ.display()"
   ]
  },
  {
   "cell_type": "markdown",
   "id": "bee53983-db42-4c75-8553-3bc22aca133f",
   "metadata": {},
   "source": [
    "**Below we calculate the left hand side of the Klein-Gordon equation:**"
   ]
  },
  {
   "cell_type": "code",
   "execution_count": 23,
   "id": "df751aeb-c123-41fa-8569-08e4da6eb577",
   "metadata": {},
   "outputs": [
    {
     "name": "stdout",
     "output_type": "stream",
     "text": [
      "CPU times: user 2min 31s, sys: 616 ms, total: 2min 31s\n",
      "Wall time: 2min 11s\n"
     ]
    },
    {
     "data": {
      "text/html": [
       "<html>\\(\\displaystyle \\frac{{\\left(-4 i \\, a m r ω R\\left(r\\right) \\sin\\left({\\theta}\\right)^{2} \\frac{\\partial}{\\partial {\\phi}}S\\left({\\theta}, {\\phi}\\right) - {\\left(a^{2} - 2 \\, m r + r^{2}\\right)} R\\left(r\\right) \\cos\\left({\\theta}\\right) \\sin\\left({\\theta}\\right) \\frac{\\partial}{\\partial {\\theta}}S\\left({\\theta}, {\\phi}\\right) - {\\left(a^{2} - 2 \\, m r + r^{2}\\right)} R\\left(r\\right) \\sin\\left({\\theta}\\right)^{2} \\frac{\\partial^{2}}{(\\partial {\\theta})^{2}}S\\left({\\theta}, {\\phi}\\right) + {\\left({\\left(a^{4} - 2 \\, a^{2} m r + a^{2} r^{2}\\right)} R\\left(r\\right) \\sin\\left({\\theta}\\right)^{4} - {\\left(a^{4} + 2 \\, a^{2} r^{2} + r^{4}\\right)} R\\left(r\\right) \\sin\\left({\\theta}\\right)^{2}\\right)} ω^{2} S\\left({\\theta}, {\\phi}\\right) + {\\left(2 \\, {\\left(a^{2} m + 3 \\, m r^{2} - r^{3} - {\\left(a^{2} + 2 \\, m^{2}\\right)} r\\right)} \\frac{\\partial}{\\partial r}R\\left(r\\right) - {\\left(a^{4} - 4 \\, a^{2} m r - 4 \\, m r^{3} + r^{4} + 2 \\, {\\left(a^{2} + 2 \\, m^{2}\\right)} r^{2}\\right)} \\frac{\\partial^{2}}{(\\partial r)^{2}}R\\left(r\\right)\\right)} S\\left({\\theta}, {\\phi}\\right) \\sin\\left({\\theta}\\right)^{2} + {\\left(a^{2} R\\left(r\\right) \\sin\\left({\\theta}\\right)^{2} - {\\left(a^{2} - 2 \\, m r + r^{2}\\right)} R\\left(r\\right)\\right)} \\frac{\\partial^{2}}{(\\partial {\\phi})^{2}}S\\left({\\theta}, {\\phi}\\right)\\right)} e^{\\left(-i \\, t ω\\right)}}{{\\left(a^{4} - 2 \\, a^{2} m r + a^{2} r^{2}\\right)} \\cos\\left({\\theta}\\right)^{4} - a^{2} r^{2} + 2 \\, m r^{3} - r^{4} - {\\left(a^{4} - 2 \\, a^{2} m r + 2 \\, m r^{3} - r^{4}\\right)} \\cos\\left({\\theta}\\right)^{2}} = 0\\)</html>"
      ],
      "text/latex": [
       "$\\displaystyle \\frac{{\\left(-4 i \\, a m r ω R\\left(r\\right) \\sin\\left({\\theta}\\right)^{2} \\frac{\\partial}{\\partial {\\phi}}S\\left({\\theta}, {\\phi}\\right) - {\\left(a^{2} - 2 \\, m r + r^{2}\\right)} R\\left(r\\right) \\cos\\left({\\theta}\\right) \\sin\\left({\\theta}\\right) \\frac{\\partial}{\\partial {\\theta}}S\\left({\\theta}, {\\phi}\\right) - {\\left(a^{2} - 2 \\, m r + r^{2}\\right)} R\\left(r\\right) \\sin\\left({\\theta}\\right)^{2} \\frac{\\partial^{2}}{(\\partial {\\theta})^{2}}S\\left({\\theta}, {\\phi}\\right) + {\\left({\\left(a^{4} - 2 \\, a^{2} m r + a^{2} r^{2}\\right)} R\\left(r\\right) \\sin\\left({\\theta}\\right)^{4} - {\\left(a^{4} + 2 \\, a^{2} r^{2} + r^{4}\\right)} R\\left(r\\right) \\sin\\left({\\theta}\\right)^{2}\\right)} ω^{2} S\\left({\\theta}, {\\phi}\\right) + {\\left(2 \\, {\\left(a^{2} m + 3 \\, m r^{2} - r^{3} - {\\left(a^{2} + 2 \\, m^{2}\\right)} r\\right)} \\frac{\\partial}{\\partial r}R\\left(r\\right) - {\\left(a^{4} - 4 \\, a^{2} m r - 4 \\, m r^{3} + r^{4} + 2 \\, {\\left(a^{2} + 2 \\, m^{2}\\right)} r^{2}\\right)} \\frac{\\partial^{2}}{(\\partial r)^{2}}R\\left(r\\right)\\right)} S\\left({\\theta}, {\\phi}\\right) \\sin\\left({\\theta}\\right)^{2} + {\\left(a^{2} R\\left(r\\right) \\sin\\left({\\theta}\\right)^{2} - {\\left(a^{2} - 2 \\, m r + r^{2}\\right)} R\\left(r\\right)\\right)} \\frac{\\partial^{2}}{(\\partial {\\phi})^{2}}S\\left({\\theta}, {\\phi}\\right)\\right)} e^{\\left(-i \\, t ω\\right)}}{{\\left(a^{4} - 2 \\, a^{2} m r + a^{2} r^{2}\\right)} \\cos\\left({\\theta}\\right)^{4} - a^{2} r^{2} + 2 \\, m r^{3} - r^{4} - {\\left(a^{4} - 2 \\, a^{2} m r + 2 \\, m r^{3} - r^{4}\\right)} \\cos\\left({\\theta}\\right)^{2}} = 0$"
      ],
      "text/plain": [
       "(-4*I*a*m*r*ω*R(r)*sin(th)^2*diff(S(th, ph), ph) - (a^2 - 2*m*r + r^2)*R(r)*cos(th)*sin(th)*diff(S(th, ph), th) - (a^2 - 2*m*r + r^2)*R(r)*sin(th)^2*diff(S(th, ph), th, th) + ((a^4 - 2*a^2*m*r + a^2*r^2)*R(r)*sin(th)^4 - (a^4 + 2*a^2*r^2 + r^4)*R(r)*sin(th)^2)*ω^2*S(th, ph) + (2*(a^2*m + 3*m*r^2 - r^3 - (a^2 + 2*m^2)*r)*diff(R(r), r) - (a^4 - 4*a^2*m*r - 4*m*r^3 + r^4 + 2*(a^2 + 2*m^2)*r^2)*diff(R(r), r, r))*S(th, ph)*sin(th)^2 + (a^2*R(r)*sin(th)^2 - (a^2 - 2*m*r + r^2)*R(r))*diff(S(th, ph), ph, ph))*e^(-I*t*ω)/((a^4 - 2*a^2*m*r + a^2*r^2)*cos(th)^4 - a^2*r^2 + 2*m*r^3 - r^4 - (a^4 - 2*a^2*m*r + 2*m*r^3 - r^4)*cos(th)^2) == 0"
      ]
     },
     "execution_count": 23,
     "metadata": {},
     "output_type": "execute_result"
    }
   ],
   "source": [
    "%time KG = Φ.dalembertian().expr() == 0\n",
    "KG"
   ]
  },
  {
   "cell_type": "markdown",
   "id": "0c2957a0-987f-462b-8e7d-5d72f2772fa7",
   "metadata": {},
   "source": [
    "## Separating the equation"
   ]
  },
  {
   "cell_type": "markdown",
   "id": "8c5d0768-ac13-403a-837f-e5076811de88",
   "metadata": {},
   "source": [
    "**Package for separating PDEs**"
   ]
  },
  {
   "cell_type": "code",
   "execution_count": 8,
   "id": "f8e77c02-87ee-4f41-ab36-642d67da4aaa",
   "metadata": {},
   "outputs": [],
   "source": [
    "from de_tools import separate"
   ]
  }
 ],
 "metadata": {
  "kernelspec": {
   "display_name": "SageMath 10.6",
   "language": "sage",
   "name": "sagemath"
  },
  "language_info": {
   "codemirror_mode": {
    "name": "ipython",
    "version": 3
   },
   "file_extension": ".py",
   "mimetype": "text/x-python",
   "name": "python",
   "nbconvert_exporter": "python",
   "pygments_lexer": "ipython3",
   "version": "3.11.12"
  }
 },
 "nbformat": 4,
 "nbformat_minor": 5
}
