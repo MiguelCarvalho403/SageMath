{
 "cells": [
  {
   "cell_type": "markdown",
   "id": "e143c484-c61c-4274-95b2-ea19efe847cb",
   "metadata": {},
   "source": [
    "# Tranformações lineares"
   ]
  },
  {
   "cell_type": "markdown",
   "id": "e92fddb9-3065-4d68-94f7-e766e2b054c2",
   "metadata": {},
   "source": [
    "## Translação"
   ]
  },
  {
   "cell_type": "code",
   "execution_count": null,
   "id": "6d6fe882-552f-498b-b6eb-7589f0e4a2aa",
   "metadata": {},
   "outputs": [],
   "source": [
    "def translacao(objeto, vector):\n",
    "    num_linhas = 0\n",
    "    for i in objeto:\n",
    "        num_linhas +=1\n",
    "    objeto = objeto + matrix([list(vector)]*num_linhas)\n",
    "    return objeto"
   ]
  },
  {
   "cell_type": "markdown",
   "id": "2fb7be62-285a-4d96-b1e5-2377769d0ede",
   "metadata": {},
   "source": [
    "## Matriz de rotação em torno do eixo x"
   ]
  },
  {
   "cell_type": "code",
   "execution_count": null,
   "id": "35baf306-dd46-4ab3-a889-74674eed0ed5",
   "metadata": {},
   "outputs": [],
   "source": [
    "def matriz_rotx(α):\n",
    "    matriz = matrix([[1, 0, 0], [0, cos(α), -sin(α)], [0, sin(α), cos(α)]])\n",
    "    return matriz"
   ]
  },
  {
   "cell_type": "markdown",
   "id": "2f6872cf-6df4-400c-a010-453eb8b5858e",
   "metadata": {},
   "source": [
    "## matriz de rotação em torno do eixo y"
   ]
  },
  {
   "cell_type": "code",
   "execution_count": null,
   "id": "3255da9b-349b-47b5-b61f-448469d8bf51",
   "metadata": {},
   "outputs": [],
   "source": [
    "def matriz_roty(α):\n",
    "    matriz = matrix([[cos(α), 0, sin(α)], [0, 1, 0], [-sin(α), 0, cos(α)]])\n",
    "    return matriz"
   ]
  },
  {
   "cell_type": "markdown",
   "id": "2d5f77dc-5c5d-4acc-853a-604c52452ec6",
   "metadata": {},
   "source": [
    "## Matriz de rotação em torno do eixo z"
   ]
  },
  {
   "cell_type": "code",
   "execution_count": null,
   "id": "e10269d6-dd4a-4a76-9905-1ba364453791",
   "metadata": {},
   "outputs": [],
   "source": [
    "def matriz_rotz(α):\n",
    "    matriz = matrix([[cos(α), -sin(α), 0], [sin(α), cos(α), 0], [0, 0, 1]])\n",
    "    return matriz"
   ]
  },
  {
   "cell_type": "markdown",
   "id": "154c0154-40af-46e2-8f49-1c6f6a05e177",
   "metadata": {},
   "source": [
    "## Matriz de rotação em torno de um eixo arbitrario que passa pela a origem"
   ]
  },
  {
   "cell_type": "code",
   "execution_count": null,
   "id": "308aa621-14f2-43f2-9550-17bcd2bb0317",
   "metadata": {},
   "outputs": [],
   "source": [
    "def matriz_rot(θ, vetor_direcao):\n",
    "    x = vetor_direcao[0]\n",
    "    y = vetor_direcao[1]\n",
    "    z = vetor_direcao[2]\n",
    "    \n",
    "    if x == 0 and y == 0 and z == 0:\n",
    "        print(\"Insira uma direção válida!\")\n",
    "        return None\n",
    "        \n",
    "    #Calculando angulos de rotação \n",
    "    α = arcsin(y / sqrt(x**2 + y**2).n()).n() # Angulo da projeção do vetor no plano xy\n",
    "    β = arcsin( z / sqrt(x**2 + y**2 + z**2).n() ).n() # Angulo da projeção do vetor no plano xz\n",
    "   \n",
    "    # Calculando eixo auxliar para uma rotação vertical\n",
    "    if x == 0 and y == 0:\n",
    "        α = 0\n",
    "        \n",
    "    matriz_rot_horizontal = matrix([[cos(α), -sin(α), 0], [sin(α), cos(α), 0], [0, 0, 1]]) # matriz transformação ao redor do eixo z (rotação horizontal)\n",
    "    matriz_rot_vertical = matriz_roty(-β)\n",
    "\n",
    "    matriz_rot_eixo_arb = matriz_rotx(θ)\n",
    "\n",
    "    matriz_rot_horizontal_ret = matrix([[cos(-α), -sin(-α), 0], [sin(-α), cos(-α), 0], [0, 0, 1]]) # matriz transformação ao redor do eixo z (rotação horizontal)\n",
    "    matriz_rot_vertical_ret = matriz_roty(β)\n",
    "\n",
    "\n",
    "    matriz_rot = matriz_rot_horizontal * matriz_rot_vertical * matriz_rot_eixo_arb * matriz_rot_vertical_ret * matriz_rot_horizontal_ret\n",
    "    \n",
    "    return matriz_rot\n",
    "\n",
    "Polyhedron(cubo * matriz_rot(pi.n(), vector([1,1,1]))).plot() + coordenadas(ax_size=(-5,5))"
   ]
  },
  {
   "cell_type": "markdown",
   "id": "e2f2dbb9-e04a-4d04-98a2-4d531dd8558c",
   "metadata": {},
   "source": [
    "## Matriz de rotação em torno de um eixo arbitrario de origem qualquer (centro de massa ou outro)"
   ]
  },
  {
   "cell_type": "code",
   "execution_count": null,
   "id": "e4d6300c-ad4e-4b1e-851d-1004b3ee44bf",
   "metadata": {},
   "outputs": [],
   "source": [
    "def matriz_roteixo(objeto, θ, vetor_direcao, centro_massa):\n",
    "    objeto = translacao(objeto, (-1)*centro_massa)\n",
    "    objeto = objeto * matriz_rot(θ, vetor_direcao)\n",
    "    objeto = translacao(objeto, centro_massa)\n",
    "    return objeto\n",
    "\n",
    "cubo = matrix(polytopes.cube().vertices()) + matrix([[3,3,1]]*8)\n",
    "frames = [Polyhedron(matriz_roteixo(cubo, k, vector([0,0,1]), centro_massa = vector([3,3,1])), base_ring = QQ).plot() for k in (0, 0.1, ..,pi.n())]\n",
    "plot = animate(frames).interactive()\n",
    "plot + coordenadas(ax_size = (-5,5))"
   ]
  },
  {
   "cell_type": "markdown",
   "id": "1637b716-e237-4d22-9db7-7ec2858c25c1",
   "metadata": {},
   "source": [
    "## Matriz mudança de escala na direção x"
   ]
  },
  {
   "cell_type": "code",
   "execution_count": null,
   "id": "b5413a4a-6d67-4157-bf5d-7c252169bffe",
   "metadata": {},
   "outputs": [],
   "source": [
    "def matriz_escala(γ):\n",
    "    matriz = matrix([[1/γ,0,0],[0,1,0],[0,0,1]])\n",
    "    return matriz"
   ]
  },
  {
   "cell_type": "markdown",
   "id": "f92e60e9-48fd-4df7-82dd-14e1760f4bb9",
   "metadata": {},
   "source": [
    "## Matriz mudança de escala em uma direção genérica"
   ]
  },
  {
   "cell_type": "code",
   "execution_count": null,
   "id": "339a0a1a-917b-45da-ac27-d476cf9f74fd",
   "metadata": {},
   "outputs": [],
   "source": [
    "def matriz_translor(vetor_direcao, γ):\n",
    "    # Coordenadas do vetor_direção, vetor ao qual há movimento e portanto contração\n",
    "    x = vetor_direcao[0]\n",
    "    y = vetor_direcao[1]\n",
    "    z = vetor_direcao[2]\n",
    "    #Calculando angulos de rotação \n",
    "    α = arcsin(y / sqrt(x**2 + y**2).n()).n() # Angulo da projeção do vetor no plano xy\n",
    "    β = arcsin( z / sqrt(x**2 + y**2 + z**2).n() ).n() # Angulo da projeção do vetor no plano xz\n",
    "   \n",
    "    # Calculando eixo auxliar para uma rotação vertical\n",
    "    if x == 0 and y == 0:\n",
    "        α = 0\n",
    "        \n",
    "\n",
    "    # Multiplicando rotação horizontal e vertical\n",
    "    matriz_rot_horizontal = matrix([[cos(α), -sin(α), 0], [sin(α), cos(α), 0], [0, 0, 1]]) # matriz transformação ao redor do eixo z (rotação horizontal)\n",
    "    matriz_rot_vertical = matriz_roty(-β)\n",
    "    \n",
    "    matriz_transf = matriz_rot_horizontal * matriz_rot_vertical # aplicamos a rotação vertical\n",
    "    \n",
    "    # Aplicando a contração de lorentz\n",
    "    matriz_transf = matriz_transf * matrix([[1/γ,0,0],[0,1,0],[0,0,1]])\n",
    "    \n",
    "    # Retornamos o objeto a sua posição inicial\n",
    "    matriz_rot_vertical_retorno = matriz_roty(β)\n",
    "    matriz_rot_horizontal_retorno = matrix([[cos(-α), -sin(-α), 0], [sin(-α), cos(-α), 0], [0, 0, 1]])\n",
    "    \n",
    "    matriz_transf = matriz_transf * matriz_rot_vertical_retorno * matriz_rot_horizontal_retorno\n",
    "    \n",
    "    \n",
    "    return matriz_transf\n",
    "\n",
    "cubo = matrix(polytopes.cube().vertices()) + matrix([[1,1,1]]*8)\n",
    "tetra = matrix(polytopes.tetrahedron().vertices())\n",
    "Polyhedron(tetra).plot() + coordenadas()\n",
    "Polyhedron(cubo * matriz_translor(vector([0,0,1]), 2)).plot() + coordenadas(ax_size = (-5,5))"
   ]
  }
 ],
 "metadata": {
  "kernelspec": {
   "display_name": "Python 3 (ipykernel)",
   "language": "python",
   "name": "python3"
  },
  "language_info": {
   "codemirror_mode": {
    "name": "ipython",
    "version": 3
   },
   "file_extension": ".py",
   "mimetype": "text/x-python",
   "name": "python",
   "nbconvert_exporter": "python",
   "pygments_lexer": "ipython3",
   "version": "3.12.3"
  }
 },
 "nbformat": 4,
 "nbformat_minor": 5
}
