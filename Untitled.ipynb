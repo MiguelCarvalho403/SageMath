{
 "cells": [
  {
   "cell_type": "markdown",
   "id": "a332eb87-5e28-46c0-b3d3-7cfd0a947d38",
   "metadata": {},
   "source": [
    "# Ver funçoes eliminate_commom_factor e partial_common_factor\n",
    "\n",
    "o algoritmo tenta por ultimo usar essas duas funções para eliminar fator comum e tornar a edp trivial, caso falhem e o fator comum ainda for 1, o alg retorna a edp parcialmente separada. Talvez colocar a função de divisão por ultimo antes de partila_commom_factor?\n"
   ]
  },
  {
   "cell_type": "code",
   "execution_count": 109,
   "id": "93f0e8d4-19f5-42f3-81cf-646244352a7e",
   "metadata": {},
   "outputs": [],
   "source": [
    "F = function('F')\n",
    "X,Y,V = function('X')(x), function('Y')(y), function('V')(x)\n",
    "x,y = var('x,y') \n",
    "α,β,λ,k,i,m,h = var('α,β,λ,k,i,m,h')\n",
    "F = X * Y"
   ]
  },
  {
   "cell_type": "code",
   "execution_count": 120,
   "id": "9aae6d31-9495-4208-8c4a-7b00525bef89",
   "metadata": {},
   "outputs": [],
   "source": [
    "eq1 = diff(F, x, 2) + diff(F, y ,2) + k**2 * F == 0 # equac¸ao de Helmholtz em coordenadas cartesianas\n",
    "eq2 = diff(x*diff(F, x), x)/x + diff(F, y, 2)/x**2 + k**2 * F == 0 # equac¸ao de Helmholtz em coordenadas polares\n",
    "\n",
    "eq3 = diff(F, x, 2) + diff(F, y, 2) == 0 # equação de laplace potencial eletrostatico \n",
    "eq4 = diff(F, y) == k*diff(F, x, 2) # eq. do calor\n",
    "eq5 = diff(F, y, 2) == k**2 * diff(F, x, 2) # eq. de onda\n",
    "\n",
    "eq6 = i*h*diff(F, y) == -h**2 * diff(F, x, 2)/(2*m) + V*F # Equação de Schrödinger independente do tempo):\n",
    "eq7 = x*diff(F, y) + y*diff(F, x) == 0\n",
    "\n",
    "eq8 = diff(F, x) + diff(F, y) + x + y == 0 # não separavel pelo método\n",
    "\n",
    " "
   ]
  },
  {
   "cell_type": "code",
   "execution_count": 111,
   "id": "d1b10a9b-097b-47bb-a8a7-70fab58f9bb5",
   "metadata": {},
   "outputs": [
    {
     "data": {
      "text/html": [
       "<html>\\(\\displaystyle \\verb|equation|\\verb| |\\verb|1:|\\verb| |\\verb|\t| k^{2} X\\left(x\\right) Y\\left(y\\right) + Y\\left(y\\right) \\frac{\\partial^{2}}{(\\partial x)^{2}}X\\left(x\\right) + X\\left(x\\right) \\frac{\\partial^{2}}{(\\partial y)^{2}}Y\\left(y\\right) = 0\\)</html>"
      ],
      "text/latex": [
       "$\\displaystyle \\verb|equation|\\verb| |\\verb|1:|\\verb| |\\verb|\t| k^{2} X\\left(x\\right) Y\\left(y\\right) + Y\\left(y\\right) \\frac{\\partial^{2}}{(\\partial x)^{2}}X\\left(x\\right) + X\\left(x\\right) \\frac{\\partial^{2}}{(\\partial y)^{2}}Y\\left(y\\right) = 0$"
      ],
      "text/plain": [
       "'equation 1: \\t' k^2*X(x)*Y(y) + Y(y)*diff(X(x), x, x) + X(x)*diff(Y(y), y, y) == 0"
      ]
     },
     "metadata": {},
     "output_type": "display_data"
    },
    {
     "data": {
      "text/html": [
       "<html>\\(\\displaystyle \\verb|equation|\\verb| |\\verb|2:|\\verb| |\\verb|\t| k^{2} X\\left(x\\right) Y\\left(y\\right) + \\frac{x Y\\left(y\\right) \\frac{\\partial^{2}}{(\\partial x)^{2}}X\\left(x\\right) + Y\\left(y\\right) \\frac{\\partial}{\\partial x}X\\left(x\\right)}{x} + \\frac{X\\left(x\\right) \\frac{\\partial^{2}}{(\\partial y)^{2}}Y\\left(y\\right)}{x^{2}} = 0\\)</html>"
      ],
      "text/latex": [
       "$\\displaystyle \\verb|equation|\\verb| |\\verb|2:|\\verb| |\\verb|\t| k^{2} X\\left(x\\right) Y\\left(y\\right) + \\frac{x Y\\left(y\\right) \\frac{\\partial^{2}}{(\\partial x)^{2}}X\\left(x\\right) + Y\\left(y\\right) \\frac{\\partial}{\\partial x}X\\left(x\\right)}{x} + \\frac{X\\left(x\\right) \\frac{\\partial^{2}}{(\\partial y)^{2}}Y\\left(y\\right)}{x^{2}} = 0$"
      ],
      "text/plain": [
       "'equation 2: \\t' k^2*X(x)*Y(y) + (x*Y(y)*diff(X(x), x, x) + Y(y)*diff(X(x), x))/x + X(x)*diff(Y(y), y, y)/x^2 == 0"
      ]
     },
     "metadata": {},
     "output_type": "display_data"
    },
    {
     "data": {
      "text/html": [
       "<html>\\(\\displaystyle \\verb|equation|\\verb| |\\verb|3:|\\verb| |\\verb|\t| Y\\left(y\\right) \\frac{\\partial^{2}}{(\\partial x)^{2}}X\\left(x\\right) + X\\left(x\\right) \\frac{\\partial^{2}}{(\\partial y)^{2}}Y\\left(y\\right) = 0\\)</html>"
      ],
      "text/latex": [
       "$\\displaystyle \\verb|equation|\\verb| |\\verb|3:|\\verb| |\\verb|\t| Y\\left(y\\right) \\frac{\\partial^{2}}{(\\partial x)^{2}}X\\left(x\\right) + X\\left(x\\right) \\frac{\\partial^{2}}{(\\partial y)^{2}}Y\\left(y\\right) = 0$"
      ],
      "text/plain": [
       "'equation 3: \\t' Y(y)*diff(X(x), x, x) + X(x)*diff(Y(y), y, y) == 0"
      ]
     },
     "metadata": {},
     "output_type": "display_data"
    }
   ],
   "source": [
    "show(\"equation 1: \\t\", eq1)\n",
    "show(\"equation 2: \\t\", eq2)\n",
    "show(\"equation 3: \\t\", eq3)"
   ]
  },
  {
   "cell_type": "code",
   "execution_count": 78,
   "id": "927fa0b5-e8a9-4bfd-af8b-493a10704dcf",
   "metadata": {},
   "outputs": [
    {
     "data": {
      "text/html": [
       "<html>\\(\\displaystyle k^{2} Y\\left(y\\right) + \\frac{Y\\left(y\\right) \\frac{\\partial^{2}}{(\\partial x)^{2}}X\\left(x\\right)}{X\\left(x\\right)} + \\frac{\\partial^{2}}{(\\partial y)^{2}}Y\\left(y\\right) = 0\\)</html>"
      ],
      "text/latex": [
       "$\\displaystyle k^{2} Y\\left(y\\right) + \\frac{Y\\left(y\\right) \\frac{\\partial^{2}}{(\\partial x)^{2}}X\\left(x\\right)}{X\\left(x\\right)} + \\frac{\\partial^{2}}{(\\partial y)^{2}}Y\\left(y\\right) = 0$"
      ],
      "text/plain": [
       "k^2*Y(y) + Y(y)*diff(X(x), x, x)/X(x) + diff(Y(y), y, y) == 0"
      ]
     },
     "metadata": {},
     "output_type": "display_data"
    }
   ],
   "source": [
    "eq = (eq1/X).expand()\n",
    "show(eq)"
   ]
  },
  {
   "cell_type": "code",
   "execution_count": 125,
   "id": "d58dea7d-2ceb-4cb3-92cb-5662d18f4285",
   "metadata": {},
   "outputs": [
    {
     "data": {
      "text/html": [
       "<html>\\(\\displaystyle \\verb|&lt;module|\\verb| |\\verb|'de_tools_copy1'|\\verb| |\\verb|from|\\verb| |\\verb|'/home/carvalho/Jupyter_projects/de_tools_copy1.py'>|\\)</html>"
      ],
      "text/latex": [
       "$\\displaystyle \\verb|<module|\\verb| |\\verb|'de_tools_copy1'|\\verb| |\\verb|from|\\verb| |\\verb|'/home/carvalho/Jupyter_projects/de_tools_copy1.py'>|$"
      ],
      "text/plain": [
       "<module 'de_tools_copy1' from '/home/carvalho/Jupyter_projects/de_tools_copy1.py'>"
      ]
     },
     "execution_count": 125,
     "metadata": {},
     "output_type": "execute_result"
    }
   ],
   "source": [
    "import importlib\n",
    "import de_tools_copy1\n",
    "importlib.reload(de_tools_copy1)"
   ]
  },
  {
   "cell_type": "code",
   "execution_count": 130,
   "id": "624181cb-0854-4727-bb44-5b743c3d4a2c",
   "metadata": {},
   "outputs": [
    {
     "data": {
      "text/html": [
       "<html>\\(\\displaystyle \\frac{Y\\left(y\\right) \\frac{\\partial^{2}}{(\\partial x)^{2}}X\\left(x\\right) + X\\left(x\\right) \\frac{\\partial^{2}}{(\\partial y)^{2}}Y\\left(y\\right)}{X\\left(x\\right) Y\\left(y\\right)} = 0\\)</html>"
      ],
      "text/latex": [
       "$\\displaystyle \\frac{Y\\left(y\\right) \\frac{\\partial^{2}}{(\\partial x)^{2}}X\\left(x\\right) + X\\left(x\\right) \\frac{\\partial^{2}}{(\\partial y)^{2}}Y\\left(y\\right)}{X\\left(x\\right) Y\\left(y\\right)} = 0$"
      ],
      "text/plain": [
       "(Y(y)*diff(X(x), x, x) + X(x)*diff(Y(y), y, y))/(X(x)*Y(y)) == 0"
      ]
     },
     "metadata": {},
     "output_type": "display_data"
    },
    {
     "name": "stdout",
     "output_type": "stream",
     "text": [
      "\u001b[95minitialized\u001b[39m\n",
      "pre_separate test: \u001b[32mpassed!\u001b[39m\n",
      "[diff(X(x), x, x)/X(x), diff(Y(y), y, y)/Y(y)]\n",
      "\u001b[32mis_trivially_separable\u001b[39m\n",
      "canonicalize_de for X(x): \u001b[32mpassed!\u001b[39m\n",
      "initial_de: -λ*X(x) + diff(X(x), x, x) == 0\n",
      "initial_de: -λ*X(x) + diff(X(x), x, x) == 0\n",
      "new_de*coeff_2: -λ*X(x) + diff(X(x), x, x) == 0\n",
      "canonicalize_de for Y(y): \u001b[32mpassed!\u001b[39m\n",
      "initial_de: λ*Y(y) + diff(Y(y), y, y) == 0\n",
      "initial_de: λ*Y(y) + diff(Y(y), y, y) == 0\n",
      "new_de*coeff_2: λ*Y(y) + diff(Y(y), y, y) == 0\n",
      "separate_equations test 1: \u001b[32mpassed!\u001b[39m\n",
      "check_mix_diff test: \u001b[32mpassed!\u001b[39m\n",
      "partially_separated_pde: [diff(X(x), x, x)/X(x), diff(Y(y), y, y)/Y(y)]\n",
      "Equações: [-λ*X(x) + diff(X(x), x, x) == 0, λ*Y(y) + diff(Y(y), y, y) == 0]\n",
      "sep_constant: λ\n",
      "separate_equations test 2: \u001b[32mpassed!\u001b[39m\n"
     ]
    },
    {
     "data": {
      "text/html": [
       "<br>"
      ],
      "text/plain": [
       "<br>"
      ]
     },
     "metadata": {},
     "output_type": "display_data"
    },
    {
     "data": {
      "text/html": [
       "\\(\\large \\color{green}{\\text{Equations separated}}\\)"
      ],
      "text/plain": [
       "\\(\\large \\color{green}{\\text{Equations separated}}\\)"
      ]
     },
     "metadata": {},
     "output_type": "display_data"
    },
    {
     "data": {
      "text/html": [
       " "
      ],
      "text/plain": [
       " "
      ]
     },
     "metadata": {},
     "output_type": "display_data"
    },
    {
     "data": {
      "text/html": [
       "\\(\\text{Parameters:} \\left(x, λ\\right) \\)"
      ],
      "text/plain": [
       "\\(\\text{Parameters:} \\left(x, λ\\right) \\)"
      ]
     },
     "metadata": {},
     "output_type": "display_data"
    },
    {
     "data": {
      "text/html": [
       " "
      ],
      "text/plain": [
       " "
      ]
     },
     "metadata": {},
     "output_type": "display_data"
    },
    {
     "data": {
      "text/html": [
       "\\(\\large -λ X\\left(x\\right) + \\frac{\\partial^2\\,X}{\\partial x ^ 2} = 0 \\)"
      ],
      "text/plain": [
       "\\(\\large -λ X\\left(x\\right) + \\frac{\\partial^2\\,X}{\\partial x ^ 2} = 0 \\)"
      ]
     },
     "metadata": {},
     "output_type": "display_data"
    },
    {
     "data": {
      "text/html": [
       "<br>"
      ],
      "text/plain": [
       "<br>"
      ]
     },
     "metadata": {},
     "output_type": "display_data"
    },
    {
     "data": {
      "text/html": [
       "\\(\\text{Parameters:} \\left(y, λ\\right) \\)"
      ],
      "text/plain": [
       "\\(\\text{Parameters:} \\left(y, λ\\right) \\)"
      ]
     },
     "metadata": {},
     "output_type": "display_data"
    },
    {
     "data": {
      "text/html": [
       " "
      ],
      "text/plain": [
       " "
      ]
     },
     "metadata": {},
     "output_type": "display_data"
    },
    {
     "data": {
      "text/html": [
       "\\(\\large λ Y\\left(y\\right) + \\frac{\\partial^2\\,Y}{\\partial y ^ 2} = 0 \\)"
      ],
      "text/plain": [
       "\\(\\large λ Y\\left(y\\right) + \\frac{\\partial^2\\,Y}{\\partial y ^ 2} = 0 \\)"
      ]
     },
     "metadata": {},
     "output_type": "display_data"
    },
    {
     "data": {
      "text/html": [
       "<br>"
      ],
      "text/plain": [
       "<br>"
      ]
     },
     "metadata": {},
     "output_type": "display_data"
    },
    {
     "data": {
      "text/html": [
       "<html>\\(\\displaystyle \\left[-λ X\\left(x\\right) + \\frac{\\partial^{2}}{(\\partial x)^{2}}X\\left(x\\right) = 0, λ Y\\left(y\\right) + \\frac{\\partial^{2}}{(\\partial y)^{2}}Y\\left(y\\right) = 0\\right]\\)</html>"
      ],
      "text/latex": [
       "$\\displaystyle \\left[-λ X\\left(x\\right) + \\frac{\\partial^{2}}{(\\partial x)^{2}}X\\left(x\\right) = 0, λ Y\\left(y\\right) + \\frac{\\partial^{2}}{(\\partial y)^{2}}Y\\left(y\\right) = 0\\right]$"
      ],
      "text/plain": [
       "[-λ*X(x) + diff(X(x), x, x) == 0, λ*Y(y) + diff(Y(y), y, y) == 0]"
      ]
     },
     "execution_count": 130,
     "metadata": {},
     "output_type": "execute_result"
    }
   ],
   "source": [
    "from de_tools_copy1 import separate_pde\n",
    "eqt = eq3 / (X*Y)\n",
    "show(eqt)\n",
    "separate_pde(eqt, (X,Y),\n",
    "                 (x,y),\n",
    "                 λ,\n",
    "                 is_list = False,\n",
    "                 factor=1,\n",
    "                 check=True,\n",
    "                 show_log=True,\n",
    "                 show_eqs=True,\n",
    "                 initial_pde=None)"
   ]
  },
  {
   "cell_type": "markdown",
   "id": "00b5a25e-1a35-4798-aa06-063e206d8e4c",
   "metadata": {
    "jp-MarkdownHeadingCollapsed": true
   },
   "source": [
    "## list to pde"
   ]
  },
  {
   "cell_type": "code",
   "execution_count": 5,
   "id": "e1e0b91e-4cac-4979-b826-05cc699f7ee4",
   "metadata": {},
   "outputs": [
    {
     "data": {
      "text/html": [
       "<html>\\(\\displaystyle {\\left(k^{2} X\\left(x\\right) + \\frac{\\partial^{2}}{(\\partial x)^{2}}X\\left(x\\right)\\right)} Y\\left(y\\right) + X\\left(x\\right) \\frac{\\partial^{2}}{(\\partial y)^{2}}Y\\left(y\\right)\\)</html>"
      ],
      "text/latex": [
       "$\\displaystyle {\\left(k^{2} X\\left(x\\right) + \\frac{\\partial^{2}}{(\\partial x)^{2}}X\\left(x\\right)\\right)} Y\\left(y\\right) + X\\left(x\\right) \\frac{\\partial^{2}}{(\\partial y)^{2}}Y\\left(y\\right)$"
      ],
      "text/plain": [
       "(k^2*X(x) + diff(X(x), x, x))*Y(y) + X(x)*diff(Y(y), y, y)"
      ]
     },
     "execution_count": 5,
     "metadata": {},
     "output_type": "execute_result"
    }
   ],
   "source": [
    "from de_tools_copy1 import list_to_pde\n",
    "\n",
    "list_to_pde(eq1.operands(), 1)"
   ]
  },
  {
   "cell_type": "markdown",
   "id": "14d4ef8f-8fdd-4165-a400-8008dab838f7",
   "metadata": {
    "jp-MarkdownHeadingCollapsed": true
   },
   "source": [
    "## Partial_separate()"
   ]
  },
  {
   "cell_type": "code",
   "execution_count": 96,
   "id": "28c135dd-8997-42b3-b2e4-272a1f77b95e",
   "metadata": {},
   "outputs": [
    {
     "data": {
      "text/html": [
       "<html>\\(\\displaystyle k^{2} X\\left(x\\right) Y\\left(y\\right) + Y\\left(y\\right) \\frac{\\partial^{2}}{(\\partial x)^{2}}X\\left(x\\right) + X\\left(x\\right) \\frac{\\partial^{2}}{(\\partial y)^{2}}Y\\left(y\\right) = 0\\)</html>"
      ],
      "text/latex": [
       "$\\displaystyle k^{2} X\\left(x\\right) Y\\left(y\\right) + Y\\left(y\\right) \\frac{\\partial^{2}}{(\\partial x)^{2}}X\\left(x\\right) + X\\left(x\\right) \\frac{\\partial^{2}}{(\\partial y)^{2}}Y\\left(y\\right) = 0$"
      ],
      "text/plain": [
       "k^2*X(x)*Y(y) + Y(y)*diff(X(x), x, x) + X(x)*diff(Y(y), y, y) == 0"
      ]
     },
     "metadata": {},
     "output_type": "display_data"
    },
    {
     "name": "stdout",
     "output_type": "stream",
     "text": [
      "pre_separate test: \u001b[32mpassed!\u001b[39m\n",
      "work!!\n",
      "pre_separate test: \u001b[32mpassed!\u001b[39m\n",
      "[k^2*X(x)*Y(y) + Y(y)*diff(X(x), x, x) + X(x)*diff(Y(y), y, y), 0, 0]\n",
      "[k^2*X(x)*Y(y) + Y(y)*diff(X(x), x, x) + X(x)*diff(Y(y), y, y), 0, 0]\n",
      "partial_separate test: \u001b[32mpassed!\u001b[39m\n"
     ]
    },
    {
     "data": {
      "text/html": [
       "<html>\\(\\displaystyle \\left[k^{2} X\\left(x\\right) Y\\left(y\\right) + Y\\left(y\\right) \\frac{\\partial^{2}}{(\\partial x)^{2}}X\\left(x\\right) + X\\left(x\\right) \\frac{\\partial^{2}}{(\\partial y)^{2}}Y\\left(y\\right), 0, 0\\right]\\)</html>"
      ],
      "text/latex": [
       "$\\displaystyle \\left[k^{2} X\\left(x\\right) Y\\left(y\\right) + Y\\left(y\\right) \\frac{\\partial^{2}}{(\\partial x)^{2}}X\\left(x\\right) + X\\left(x\\right) \\frac{\\partial^{2}}{(\\partial y)^{2}}Y\\left(y\\right), 0, 0\\right]$"
      ],
      "text/plain": [
       "[k^2*X(x)*Y(y) + Y(y)*diff(X(x), x, x) + X(x)*diff(Y(y), y, y), 0, 0]"
      ]
     },
     "metadata": {},
     "output_type": "display_data"
    }
   ],
   "source": [
    "from de_tools_copy1 import partial_separate\n",
    "\n",
    "# Está apagando termos independentes\n",
    "\n",
    "eqt = eq1\n",
    "show(eqt)\n",
    "partially_separated_pde = partial_separate(pde=eqt, sep_variables=(x,y), check=True, show_log=True) # Decompose the PDE into a list of terms, each involving only one variable\n",
    "\n",
    "show(partially_separated_pde)"
   ]
  },
  {
   "cell_type": "markdown",
   "id": "ed3d0bb5-59c2-45ae-87c0-f09262b96b6b",
   "metadata": {
    "jp-MarkdownHeadingCollapsed": true
   },
   "source": [
    "## Pre_separate()"
   ]
  },
  {
   "cell_type": "code",
   "execution_count": 57,
   "id": "f866c0df-6206-47ad-849c-69f6c143e179",
   "metadata": {},
   "outputs": [
    {
     "name": "stdout",
     "output_type": "stream",
     "text": [
      "pre_separate test: \u001b[32mpassed!\u001b[39m\n"
     ]
    },
    {
     "data": {
      "text/html": [
       "<html>\\(\\displaystyle \\left[k^{2} X\\left(x\\right) Y\\left(y\\right) + Y\\left(y\\right) \\frac{\\partial^{2}}{(\\partial x)^{2}}X\\left(x\\right) + X\\left(x\\right) \\frac{\\partial^{2}}{(\\partial y)^{2}}Y\\left(y\\right), 0, 0\\right]\\)</html>"
      ],
      "text/latex": [
       "$\\displaystyle \\left[k^{2} X\\left(x\\right) Y\\left(y\\right) + Y\\left(y\\right) \\frac{\\partial^{2}}{(\\partial x)^{2}}X\\left(x\\right) + X\\left(x\\right) \\frac{\\partial^{2}}{(\\partial y)^{2}}Y\\left(y\\right), 0, 0\\right]$"
      ],
      "text/plain": [
       "[k^2*X(x)*Y(y) + Y(y)*diff(X(x), x, x) + X(x)*diff(Y(y), y, y), 0, 0]"
      ]
     },
     "execution_count": 57,
     "metadata": {},
     "output_type": "execute_result"
    }
   ],
   "source": [
    "from de_tools_copy1 import pre_separate\n",
    "eqt = eq1\n",
    "pre_separate(pde=eqt, sep_variables=(x,y), check=True, show_log=True)"
   ]
  },
  {
   "cell_type": "markdown",
   "id": "1df0bd4d-5d69-4540-bc20-0595fa78c30a",
   "metadata": {
    "jp-MarkdownHeadingCollapsed": true
   },
   "source": [
    "## is_trivially_separable()"
   ]
  },
  {
   "cell_type": "code",
   "execution_count": 7,
   "id": "3e63f34b-f9e6-4868-9d6f-b15978e1f0aa",
   "metadata": {},
   "outputs": [
    {
     "data": {
      "text/html": [
       "<html>\\(\\displaystyle \\left[k^{2} X\\left(x\\right) Y\\left(y\\right) + Y\\left(y\\right) \\frac{\\partial^{2}}{(\\partial x)^{2}}X\\left(x\\right) + X\\left(x\\right) \\frac{\\partial^{2}}{(\\partial y)^{2}}Y\\left(y\\right), 0, 0\\right]\\)</html>"
      ],
      "text/latex": [
       "$\\displaystyle \\left[k^{2} X\\left(x\\right) Y\\left(y\\right) + Y\\left(y\\right) \\frac{\\partial^{2}}{(\\partial x)^{2}}X\\left(x\\right) + X\\left(x\\right) \\frac{\\partial^{2}}{(\\partial y)^{2}}Y\\left(y\\right), 0, 0\\right]$"
      ],
      "text/plain": [
       "[k^2*X(x)*Y(y) + Y(y)*diff(X(x), x, x) + X(x)*diff(Y(y), y, y), 0, 0]"
      ]
     },
     "metadata": {},
     "output_type": "display_data"
    },
    {
     "data": {
      "text/html": [
       "<html>\\(\\displaystyle \\mathrm{False}\\)</html>"
      ],
      "text/latex": [
       "$\\displaystyle \\mathrm{False}$"
      ],
      "text/plain": [
       "False"
      ]
     },
     "execution_count": 7,
     "metadata": {},
     "output_type": "execute_result"
    }
   ],
   "source": [
    "from de_tools_copy1 import  is_trivially_separable\n",
    "show(partially_separated_pde)\n",
    "is_trivially_separable(partially_separated_pde, sep_variables=(x,y), show_log=True)"
   ]
  },
  {
   "cell_type": "markdown",
   "id": "ad5788c6-74ed-4b51-bb5f-46c037f31b25",
   "metadata": {
    "jp-MarkdownHeadingCollapsed": true
   },
   "source": [
    "## is_sum_separable()"
   ]
  },
  {
   "cell_type": "code",
   "execution_count": 8,
   "id": "99e89d68-dbdd-4a8e-8bce-d2e47a0c7929",
   "metadata": {},
   "outputs": [
    {
     "data": {
      "text/html": [
       "<html>\\(\\displaystyle k^{2} X\\left(x\\right) Y\\left(y\\right) + Y\\left(y\\right) \\frac{\\partial^{2}}{(\\partial x)^{2}}X\\left(x\\right) + X\\left(x\\right) \\frac{\\partial^{2}}{(\\partial y)^{2}}Y\\left(y\\right)\\)</html>"
      ],
      "text/latex": [
       "$\\displaystyle k^{2} X\\left(x\\right) Y\\left(y\\right) + Y\\left(y\\right) \\frac{\\partial^{2}}{(\\partial x)^{2}}X\\left(x\\right) + X\\left(x\\right) \\frac{\\partial^{2}}{(\\partial y)^{2}}Y\\left(y\\right)$"
      ],
      "text/plain": [
       "k^2*X(x)*Y(y) + Y(y)*diff(X(x), x, x) + X(x)*diff(Y(y), y, y)"
      ]
     },
     "metadata": {},
     "output_type": "display_data"
    },
    {
     "data": {
      "text/html": [
       "<html>\\(\\displaystyle \\mathrm{False}\\)</html>"
      ],
      "text/latex": [
       "$\\displaystyle \\mathrm{False}$"
      ],
      "text/plain": [
       "False"
      ]
     },
     "execution_count": 8,
     "metadata": {},
     "output_type": "execute_result"
    }
   ],
   "source": [
    "from de_tools_copy1 import  is_sum_separable\n",
    "show(partially_separated_pde[0])\n",
    "is_sum_separable(partially_separated_pde[0], sep_variables=(x,y))"
   ]
  },
  {
   "cell_type": "markdown",
   "id": "240eee24-fda1-4590-89d1-e11f899538de",
   "metadata": {
    "jp-MarkdownHeadingCollapsed": true
   },
   "source": [
    "## eliminate_common_factor()"
   ]
  },
  {
   "cell_type": "code",
   "execution_count": 9,
   "id": "5bdbe231-8d1b-4923-beea-0c4ebf0246af",
   "metadata": {},
   "outputs": [
    {
     "data": {
      "text/html": [
       "<html>\\(\\displaystyle \\left[k^{2} X\\left(x\\right) Y\\left(y\\right) + Y\\left(y\\right) \\frac{\\partial^{2}}{(\\partial x)^{2}}X\\left(x\\right) + X\\left(x\\right) \\frac{\\partial^{2}}{(\\partial y)^{2}}Y\\left(y\\right), 0, 0\\right]\\)</html>"
      ],
      "text/latex": [
       "$\\displaystyle \\left[k^{2} X\\left(x\\right) Y\\left(y\\right) + Y\\left(y\\right) \\frac{\\partial^{2}}{(\\partial x)^{2}}X\\left(x\\right) + X\\left(x\\right) \\frac{\\partial^{2}}{(\\partial y)^{2}}Y\\left(y\\right), 0, 0\\right]$"
      ],
      "text/plain": [
       "[k^2*X(x)*Y(y) + Y(y)*diff(X(x), x, x) + X(x)*diff(Y(y), y, y), 0, 0]"
      ]
     },
     "metadata": {},
     "output_type": "display_data"
    },
    {
     "name": "stdout",
     "output_type": "stream",
     "text": [
      "\u001b[94mfactor 1 eliminated\u001b[39m\n",
      "eliminate_common_factor test: \u001b[32mpassed!\u001b[39m\n"
     ]
    },
    {
     "data": {
      "text/html": [
       "<html>\\(\\displaystyle \\left(1, \\left[k^{2} X\\left(x\\right) Y\\left(y\\right) + Y\\left(y\\right) \\frac{\\partial^{2}}{(\\partial x)^{2}}X\\left(x\\right) + X\\left(x\\right) \\frac{\\partial^{2}}{(\\partial y)^{2}}Y\\left(y\\right), 0, 0\\right]\\right)\\)</html>"
      ],
      "text/latex": [
       "$\\displaystyle \\left(1, \\left[k^{2} X\\left(x\\right) Y\\left(y\\right) + Y\\left(y\\right) \\frac{\\partial^{2}}{(\\partial x)^{2}}X\\left(x\\right) + X\\left(x\\right) \\frac{\\partial^{2}}{(\\partial y)^{2}}Y\\left(y\\right), 0, 0\\right]\\right)$"
      ],
      "text/plain": [
       "(1, [k^2*X(x)*Y(y) + Y(y)*diff(X(x), x, x) + X(x)*diff(Y(y), y, y), 0, 0])"
      ]
     },
     "execution_count": 9,
     "metadata": {},
     "output_type": "execute_result"
    }
   ],
   "source": [
    "from de_tools_copy1 import eliminate_common_factor\n",
    "show(partially_separated_pde)\n",
    "eliminate_common_factor(partially_separated_pde, return_factor = True, check=True, show_log=True)"
   ]
  },
  {
   "cell_type": "markdown",
   "id": "5be27bba-4eb3-405f-8efe-b9b7c2435d92",
   "metadata": {
    "jp-MarkdownHeadingCollapsed": true
   },
   "source": [
    "## partial_common_factor()"
   ]
  },
  {
   "cell_type": "code",
   "execution_count": 28,
   "id": "de2feebd-face-4bc0-8513-c0c0ed3e0706",
   "metadata": {},
   "outputs": [
    {
     "data": {
      "text/html": [
       "<html>\\(\\displaystyle \\left[k^{2} X\\left(x\\right) Y\\left(y\\right) + Y\\left(y\\right) \\frac{\\partial^{2}}{(\\partial x)^{2}}X\\left(x\\right) + X\\left(x\\right) \\frac{\\partial^{2}}{(\\partial y)^{2}}Y\\left(y\\right), 0, 0\\right]\\)</html>"
      ],
      "text/latex": [
       "$\\displaystyle \\left[k^{2} X\\left(x\\right) Y\\left(y\\right) + Y\\left(y\\right) \\frac{\\partial^{2}}{(\\partial x)^{2}}X\\left(x\\right) + X\\left(x\\right) \\frac{\\partial^{2}}{(\\partial y)^{2}}Y\\left(y\\right), 0, 0\\right]$"
      ],
      "text/plain": [
       "[k^2*X(x)*Y(y) + Y(y)*diff(X(x), x, x) + X(x)*diff(Y(y), y, y), 0, 0]"
      ]
     },
     "metadata": {},
     "output_type": "display_data"
    },
    {
     "name": "stdout",
     "output_type": "stream",
     "text": [
      "common factor: 1\n",
      "common factor is rational expression [k^2*X(x)*Y(y) + Y(y)*diff(X(x), x, x) + X(x)*diff(Y(y), y, y), 0, 0]\n",
      "[0, 1]\n",
      "\u001b[33mcommon factor 1 ignored\u001b[39m\n",
      "partial_common_factor test: \u001b[32mpassed!\u001b[39m\n"
     ]
    },
    {
     "data": {
      "text/html": [
       "<html>\\(\\displaystyle \\left(1, \\left[k^{2} X\\left(x\\right) Y\\left(y\\right) + Y\\left(y\\right) \\frac{\\partial^{2}}{(\\partial x)^{2}}X\\left(x\\right) + X\\left(x\\right) \\frac{\\partial^{2}}{(\\partial y)^{2}}Y\\left(y\\right), 0, 0\\right]\\right)\\)</html>"
      ],
      "text/latex": [
       "$\\displaystyle \\left(1, \\left[k^{2} X\\left(x\\right) Y\\left(y\\right) + Y\\left(y\\right) \\frac{\\partial^{2}}{(\\partial x)^{2}}X\\left(x\\right) + X\\left(x\\right) \\frac{\\partial^{2}}{(\\partial y)^{2}}Y\\left(y\\right), 0, 0\\right]\\right)$"
      ],
      "text/plain": [
       "(1, [k^2*X(x)*Y(y) + Y(y)*diff(X(x), x, x) + X(x)*diff(Y(y), y, y), 0, 0])"
      ]
     },
     "execution_count": 28,
     "metadata": {},
     "output_type": "execute_result"
    }
   ],
   "source": [
    "from de_tools_copy1 import partial_common_factor\n",
    "show(partially_separated_pde)\n",
    "partial_common_factor(partially_separated_pde, sep_variables=(x,y), check=True, show_log=True)"
   ]
  },
  {
   "cell_type": "markdown",
   "id": "89a0180a-e701-4b05-bce5-d1a4f7e4818f",
   "metadata": {
    "jp-MarkdownHeadingCollapsed": true
   },
   "source": [
    "## List_of_terms"
   ]
  },
  {
   "cell_type": "code",
   "execution_count": 30,
   "id": "9c81b219-ffc3-44cb-9bbb-9a361d05ae72",
   "metadata": {},
   "outputs": [
    {
     "data": {
      "text/html": [
       "<html>\\(\\displaystyle \\left[k^{2} X\\left(x\\right) Y\\left(y\\right) + Y\\left(y\\right) \\frac{\\partial^{2}}{(\\partial x)^{2}}X\\left(x\\right) + X\\left(x\\right) \\frac{\\partial^{2}}{(\\partial y)^{2}}Y\\left(y\\right), k^{2} X\\left(x\\right) Y\\left(y\\right) + Y\\left(y\\right) \\frac{\\partial^{2}}{(\\partial x)^{2}}X\\left(x\\right) + X\\left(x\\right) \\frac{\\partial^{2}}{(\\partial y)^{2}}Y\\left(y\\right)\\right]\\)</html>"
      ],
      "text/latex": [
       "$\\displaystyle \\left[k^{2} X\\left(x\\right) Y\\left(y\\right) + Y\\left(y\\right) \\frac{\\partial^{2}}{(\\partial x)^{2}}X\\left(x\\right) + X\\left(x\\right) \\frac{\\partial^{2}}{(\\partial y)^{2}}Y\\left(y\\right), k^{2} X\\left(x\\right) Y\\left(y\\right) + Y\\left(y\\right) \\frac{\\partial^{2}}{(\\partial x)^{2}}X\\left(x\\right) + X\\left(x\\right) \\frac{\\partial^{2}}{(\\partial y)^{2}}Y\\left(y\\right)\\right]$"
      ],
      "text/plain": [
       "[k^2*X(x)*Y(y) + Y(y)*diff(X(x), x, x) + X(x)*diff(Y(y), y, y),\n",
       " k^2*X(x)*Y(y) + Y(y)*diff(X(x), x, x) + X(x)*diff(Y(y), y, y)]"
      ]
     },
     "execution_count": 30,
     "metadata": {},
     "output_type": "execute_result"
    }
   ],
   "source": [
    "from de_tools_copy1 import list_of_terms\n",
    "eqt = eq1\n",
    "list_of_terms(splitted_pde = eqt.operands(), sep_variables = (x,y)) # this function is ignoring constant independent terms"
   ]
  },
  {
   "cell_type": "markdown",
   "id": "5ee8f4ee-b2d6-4e8c-92ce-6bb9c0bbcd14",
   "metadata": {},
   "source": [
    "Can be used only if the equation is trivially separated"
   ]
  },
  {
   "cell_type": "markdown",
   "id": "222cac9f-43d4-4d9a-ab8c-6b9651ac9bed",
   "metadata": {
    "jp-MarkdownHeadingCollapsed": true
   },
   "source": [
    "## Partial separate"
   ]
  },
  {
   "cell_type": "code",
   "execution_count": 13,
   "id": "a0f74149-35e6-46da-891d-f8003c007eac",
   "metadata": {},
   "outputs": [
    {
     "name": "stdout",
     "output_type": "stream",
     "text": [
      "pre_separate test: \u001b[32mpassed!\u001b[39m\n",
      "partial_separate test: \u001b[32mpassed!\u001b[39m\n"
     ]
    },
    {
     "data": {
      "text/html": [
       "<html>\\(\\displaystyle \\left[k^{2} X\\left(x\\right) Y\\left(y\\right) + Y\\left(y\\right) \\frac{\\partial^{2}}{(\\partial x)^{2}}X\\left(x\\right) + X\\left(x\\right) \\frac{\\partial^{2}}{(\\partial y)^{2}}Y\\left(y\\right), 0, 0\\right]\\)</html>"
      ],
      "text/latex": [
       "$\\displaystyle \\left[k^{2} X\\left(x\\right) Y\\left(y\\right) + Y\\left(y\\right) \\frac{\\partial^{2}}{(\\partial x)^{2}}X\\left(x\\right) + X\\left(x\\right) \\frac{\\partial^{2}}{(\\partial y)^{2}}Y\\left(y\\right), 0, 0\\right]$"
      ],
      "text/plain": [
       "[k^2*X(x)*Y(y) + Y(y)*diff(X(x), x, x) + X(x)*diff(Y(y), y, y), 0, 0]"
      ]
     },
     "execution_count": 13,
     "metadata": {},
     "output_type": "execute_result"
    }
   ],
   "source": [
    "from de_tools_copy1 import partial_separate\n",
    "\n",
    "partial_separate(eq1, (x,y), check=True, show_log=True)"
   ]
  },
  {
   "cell_type": "code",
   "execution_count": 14,
   "id": "262538cc-f223-459e-9cc7-4d3aac791b96",
   "metadata": {},
   "outputs": [],
   "source": [
    "partial_pde = [0]*3\n",
    "separated = False\n",
    "while not separated  and (partial_pde[1] or partial_pde[2]):\n",
    "    print(1)\n",
    "    separated = True"
   ]
  },
  {
   "cell_type": "markdown",
   "id": "3c02128c-f9c1-4edf-95bf-25ee727a4256",
   "metadata": {},
   "source": [
    "## separate_equations()"
   ]
  },
  {
   "cell_type": "code",
   "execution_count": 134,
   "id": "8f462811-b80e-474d-9261-ed62ca71296a",
   "metadata": {},
   "outputs": [
    {
     "name": "stdout",
     "output_type": "stream",
     "text": [
      "pre_separate test: \u001b[32mpassed!\u001b[39m\n"
     ]
    },
    {
     "data": {
      "text/html": [
       "<html>\\(\\displaystyle \\left[\\frac{\\frac{\\partial^{2}}{(\\partial x)^{2}}X\\left(x\\right)}{X\\left(x\\right)}, \\frac{\\frac{\\partial^{2}}{(\\partial y)^{2}}Y\\left(y\\right)}{Y\\left(y\\right)}\\right]\\)</html>"
      ],
      "text/latex": [
       "$\\displaystyle \\left[\\frac{\\frac{\\partial^{2}}{(\\partial x)^{2}}X\\left(x\\right)}{X\\left(x\\right)}, \\frac{\\frac{\\partial^{2}}{(\\partial y)^{2}}Y\\left(y\\right)}{Y\\left(y\\right)}\\right]$"
      ],
      "text/plain": [
       "[diff(X(x), x, x)/X(x), diff(Y(y), y, y)/Y(y)]"
      ]
     },
     "metadata": {},
     "output_type": "display_data"
    },
    {
     "name": "stdout",
     "output_type": "stream",
     "text": [
      "canonicalize_de for X(x): \u001b[32mpassed!\u001b[39m\n",
      "initial_de: -λ*X(x) + diff(X(x), x, x) == 0\n",
      "initial_de: -λ*X(x) + diff(X(x), x, x) == 0\n",
      "new_de*coeff_2: -λ*X(x) + diff(X(x), x, x) == 0\n",
      "canonicalize_de for Y(y): \u001b[32mpassed!\u001b[39m\n",
      "initial_de: λ*Y(y) + diff(Y(y), y, y) == 0\n",
      "initial_de: λ*Y(y) + diff(Y(y), y, y) == 0\n",
      "new_de*coeff_2: λ*Y(y) + diff(Y(y), y, y) == 0\n",
      "separate_equations test 1: \u001b[32mpassed!\u001b[39m\n",
      "check_mix_diff test: \u001b[32mpassed!\u001b[39m\n",
      "partially_separated_pde: [diff(X(x), x, x)/X(x), diff(Y(y), y, y)/Y(y)]\n",
      "Equações: [-λ*X(x) + diff(X(x), x, x) == 0, λ*Y(y) + diff(Y(y), y, y) == 0]\n",
      "sep_constant: λ\n",
      "separate_equations test 2: \u001b[32mpassed!\u001b[39m\n"
     ]
    },
    {
     "data": {
      "text/html": [
       "<html>\\(\\displaystyle \\left[-λ X\\left(x\\right) + \\frac{\\partial^{2}}{(\\partial x)^{2}}X\\left(x\\right) = 0, λ Y\\left(y\\right) + \\frac{\\partial^{2}}{(\\partial y)^{2}}Y\\left(y\\right) = 0\\right]\\)</html>"
      ],
      "text/latex": [
       "$\\displaystyle \\left[-λ X\\left(x\\right) + \\frac{\\partial^{2}}{(\\partial x)^{2}}X\\left(x\\right) = 0, λ Y\\left(y\\right) + \\frac{\\partial^{2}}{(\\partial y)^{2}}Y\\left(y\\right) = 0\\right]$"
      ],
      "text/plain": [
       "[-λ*X(x) + diff(X(x), x, x) == 0, λ*Y(y) + diff(Y(y), y, y) == 0]"
      ]
     },
     "metadata": {},
     "output_type": "display_data"
    }
   ],
   "source": [
    "from de_tools_copy1 import separate_equations\n",
    "eqt = eq3/(X*Y)\n",
    "eqt = partial_separate(pde = eqt, sep_variables=(x,y), check=True, show_log=True)\n",
    "show(eqt)\n",
    "show(separate_equations(partially_separated_pde=eqt, funcs=(X,Y), sep_variables=(x,y), sep_constant=λ, check=True, show_log=True))"
   ]
  },
  {
   "cell_type": "markdown",
   "id": "4d8b1690-9a6b-4073-9aa2-339d2ee29c3f",
   "metadata": {
    "jp-MarkdownHeadingCollapsed": true
   },
   "source": [
    "## get_de_coefficients()"
   ]
  },
  {
   "cell_type": "code",
   "execution_count": 114,
   "id": "c1bdef7b-14c9-417c-ac00-98f920936f53",
   "metadata": {},
   "outputs": [
    {
     "ename": "TypeError",
     "evalue": "unable to convert (X(x), Y(y)) to a symbolic expression",
     "output_type": "error",
     "traceback": [
      "\u001b[0;31m---------------------------------------------------------------------------\u001b[0m",
      "\u001b[0;31mTypeError\u001b[0m                                 Traceback (most recent call last)",
      "Cell \u001b[0;32mIn[114], line 3\u001b[0m\n\u001b[1;32m      1\u001b[0m \u001b[38;5;28;01mfrom\u001b[39;00m\u001b[38;5;250m \u001b[39m\u001b[38;5;21;01mde_tools_copy1\u001b[39;00m\u001b[38;5;250m \u001b[39m\u001b[38;5;28;01mimport\u001b[39;00m get_de_coefficients\n\u001b[1;32m      2\u001b[0m eqt \u001b[38;5;241m=\u001b[39m eq7\n\u001b[0;32m----> 3\u001b[0m show(\u001b[43mget_de_coefficients\u001b[49m\u001b[43m(\u001b[49m\u001b[43minitial_de\u001b[49m\u001b[43m \u001b[49m\u001b[38;5;241;43m=\u001b[39;49m\u001b[43m \u001b[49m\u001b[43meqt\u001b[49m\u001b[43m,\u001b[49m\u001b[43m \u001b[49m\u001b[43mfun\u001b[49m\u001b[38;5;241;43m=\u001b[39;49m\u001b[43m(\u001b[49m\u001b[43mX\u001b[49m\u001b[43m,\u001b[49m\u001b[43mY\u001b[49m\u001b[43m)\u001b[49m\u001b[43m,\u001b[49m\u001b[43m \u001b[49m\u001b[43mvariable\u001b[49m\u001b[38;5;241;43m=\u001b[39;49m\u001b[43m(\u001b[49m\u001b[43mx\u001b[49m\u001b[43m,\u001b[49m\u001b[43my\u001b[49m\u001b[43m)\u001b[49m\u001b[43m)\u001b[49m)\n",
      "File \u001b[0;32m~/Jupyter_projects/de_tools_copy1.py:274\u001b[0m, in \u001b[0;36mget_de_coefficients\u001b[0;34m(initial_de, fun, variable)\u001b[0m\n\u001b[1;32m    272\u001b[0m     de \u001b[38;5;241m=\u001b[39m initial_de\u001b[38;5;241m.\u001b[39mlhs()\u001b[38;5;241m-\u001b[39minitial_de\u001b[38;5;241m.\u001b[39mrhs()\n\u001b[1;32m    273\u001b[0m \u001b[38;5;28;01melse\u001b[39;00m: de \u001b[38;5;241m=\u001b[39m initial_de  \n\u001b[0;32m--> 274\u001b[0m \u001b[38;5;28;01mreturn\u001b[39;00m \u001b[43m{\u001b[49m\u001b[43mk\u001b[49m\u001b[43m:\u001b[49m\u001b[43mformal_diff\u001b[49m\u001b[43m(\u001b[49m\u001b[43mde\u001b[49m\u001b[43m,\u001b[49m\u001b[43mdiff\u001b[49m\u001b[43m(\u001b[49m\u001b[43mfun\u001b[49m\u001b[43m,\u001b[49m\u001b[43m \u001b[49m\u001b[43mvariable\u001b[49m\u001b[43m,\u001b[49m\u001b[43m \u001b[49m\u001b[43mk\u001b[49m\u001b[43m)\u001b[49m\u001b[43m)\u001b[49m\u001b[38;5;241;43m.\u001b[39;49m\u001b[43mexpand\u001b[49m\u001b[43m(\u001b[49m\u001b[43m)\u001b[49m\u001b[38;5;241;43m.\u001b[39;49m\u001b[43mfactor\u001b[49m\u001b[43m(\u001b[49m\u001b[43m)\u001b[49m\u001b[43m \u001b[49m\u001b[38;5;28;43;01mfor\u001b[39;49;00m\u001b[43m \u001b[49m\u001b[43mk\u001b[49m\u001b[43m \u001b[49m\u001b[38;5;129;43;01min\u001b[39;49;00m\u001b[43m \u001b[49m\u001b[38;5;28;43mrange\u001b[39;49m\u001b[43m(\u001b[49m\u001b[38;5;241;43m3\u001b[39;49m\u001b[43m)\u001b[49m\u001b[43m}\u001b[49m\n",
      "File \u001b[0;32m~/Jupyter_projects/de_tools_copy1.py:274\u001b[0m, in \u001b[0;36m<dictcomp>\u001b[0;34m(.0)\u001b[0m\n\u001b[1;32m    272\u001b[0m     de \u001b[38;5;241m=\u001b[39m initial_de\u001b[38;5;241m.\u001b[39mlhs()\u001b[38;5;241m-\u001b[39minitial_de\u001b[38;5;241m.\u001b[39mrhs()\n\u001b[1;32m    273\u001b[0m \u001b[38;5;28;01melse\u001b[39;00m: de \u001b[38;5;241m=\u001b[39m initial_de  \n\u001b[0;32m--> 274\u001b[0m \u001b[38;5;28;01mreturn\u001b[39;00m {k:formal_diff(de,\u001b[43mdiff\u001b[49m\u001b[43m(\u001b[49m\u001b[43mfun\u001b[49m\u001b[43m,\u001b[49m\u001b[43m \u001b[49m\u001b[43mvariable\u001b[49m\u001b[43m,\u001b[49m\u001b[43m \u001b[49m\u001b[43mk\u001b[49m\u001b[43m)\u001b[49m)\u001b[38;5;241m.\u001b[39mexpand()\u001b[38;5;241m.\u001b[39mfactor() \u001b[38;5;28;01mfor\u001b[39;00m k \u001b[38;5;129;01min\u001b[39;00m \u001b[38;5;28mrange\u001b[39m(\u001b[38;5;241m3\u001b[39m)}\n",
      "File \u001b[0;32m~/miniforge3/envs/sage/lib/python3.11/site-packages/sage/calculus/functional.py:168\u001b[0m, in \u001b[0;36mderivative\u001b[0;34m(f, *args, **kwds)\u001b[0m\n\u001b[1;32m    166\u001b[0m \u001b[38;5;28;01mif\u001b[39;00m \u001b[38;5;129;01mnot\u001b[39;00m \u001b[38;5;28misinstance\u001b[39m(f, Expression):\n\u001b[1;32m    167\u001b[0m     \u001b[38;5;28;01mfrom\u001b[39;00m\u001b[38;5;250m \u001b[39m\u001b[38;5;21;01msage\u001b[39;00m\u001b[38;5;21;01m.\u001b[39;00m\u001b[38;5;21;01msymbolic\u001b[39;00m\u001b[38;5;21;01m.\u001b[39;00m\u001b[38;5;21;01mring\u001b[39;00m\u001b[38;5;250m \u001b[39m\u001b[38;5;28;01mimport\u001b[39;00m SR\n\u001b[0;32m--> 168\u001b[0m     f \u001b[38;5;241m=\u001b[39m \u001b[43mSR\u001b[49m\u001b[43m(\u001b[49m\u001b[43mf\u001b[49m\u001b[43m)\u001b[49m\n\u001b[1;32m    169\u001b[0m \u001b[38;5;28;01mreturn\u001b[39;00m f\u001b[38;5;241m.\u001b[39mderivative(\u001b[38;5;241m*\u001b[39margs, \u001b[38;5;241m*\u001b[39m\u001b[38;5;241m*\u001b[39mkwds)\n",
      "File \u001b[0;32m~/miniforge3/envs/sage/lib/python3.11/site-packages/sage/structure/parent.pyx:900\u001b[0m, in \u001b[0;36msage.structure.parent.Parent.__call__ (build/cythonized/sage/structure/parent.c:12762)\u001b[0;34m()\u001b[0m\n\u001b[1;32m    898\u001b[0m if mor is not None:\n\u001b[1;32m    899\u001b[0m     if no_extra_args:\n\u001b[0;32m--> 900\u001b[0m         return mor._call_(x)\n\u001b[1;32m    901\u001b[0m     else:\n\u001b[1;32m    902\u001b[0m         return mor._call_with_args(x, args, kwds)\n",
      "File \u001b[0;32m~/miniforge3/envs/sage/lib/python3.11/site-packages/sage/structure/coerce_maps.pyx:164\u001b[0m, in \u001b[0;36msage.structure.coerce_maps.DefaultConvertMap_unique._call_ (build/cythonized/sage/structure/coerce_maps.c:6979)\u001b[0;34m()\u001b[0m\n\u001b[1;32m    162\u001b[0m             print(type(C), C)\n\u001b[1;32m    163\u001b[0m             print(type(C._element_constructor), C._element_constructor)\n\u001b[0;32m--> 164\u001b[0m         raise\n\u001b[1;32m    165\u001b[0m \n\u001b[1;32m    166\u001b[0m cpdef Element _call_with_args(self, x, args=(), kwds={}):\n",
      "File \u001b[0;32m~/miniforge3/envs/sage/lib/python3.11/site-packages/sage/structure/coerce_maps.pyx:159\u001b[0m, in \u001b[0;36msage.structure.coerce_maps.DefaultConvertMap_unique._call_ (build/cythonized/sage/structure/coerce_maps.c:6871)\u001b[0;34m()\u001b[0m\n\u001b[1;32m    157\u001b[0m cdef Parent C = self._codomain\n\u001b[1;32m    158\u001b[0m try:\n\u001b[0;32m--> 159\u001b[0m     return C._element_constructor(x)\n\u001b[1;32m    160\u001b[0m except Exception:\n\u001b[1;32m    161\u001b[0m     if print_warnings:\n",
      "File \u001b[0;32m~/miniforge3/envs/sage/lib/python3.11/site-packages/sage/symbolic/ring.pyx:378\u001b[0m, in \u001b[0;36msage.symbolic.ring.SymbolicRing._element_constructor_ (build/cythonized/sage/symbolic/ring.c:8475)\u001b[0;34m()\u001b[0m\n\u001b[1;32m    376\u001b[0m         TypeError: Malformed expression: λ + * !!!  1\n\u001b[1;32m    377\u001b[0m     \"\"\"\n\u001b[0;32m--> 378\u001b[0m     return new_Expression(self, x)\n\u001b[1;32m    379\u001b[0m \n\u001b[1;32m    380\u001b[0m def _force_pyobject(self, x, bint force=False, bint recursive=True):\n",
      "File \u001b[0;32m~/miniforge3/envs/sage/lib/python3.11/site-packages/sage/symbolic/expression.pyx:13781\u001b[0m, in \u001b[0;36msage.symbolic.expression.new_Expression (build/cythonized/sage/symbolic/expression.cpp:126496)\u001b[0;34m()\u001b[0m\n\u001b[1;32m  13779\u001b[0m         raise TypeError(f\"unable to convert {x!r} to a symbolic expression\")\n\u001b[1;32m  13780\u001b[0m else:\n\u001b[0;32m> 13781\u001b[0m     raise TypeError(f\"unable to convert {x!r} to a symbolic expression\")\n\u001b[1;32m  13782\u001b[0m \n\u001b[1;32m  13783\u001b[0m return new_Expression_from_GEx(parent, exp)\n",
      "\u001b[0;31mTypeError\u001b[0m: unable to convert (X(x), Y(y)) to a symbolic expression"
     ]
    }
   ],
   "source": [
    "from de_tools_copy1 import get_de_coefficients\n",
    "eqt = eq7\n",
    "show(get_de_coefficients(initial_de = eqt, fun=(X,Y), variable=(x,y)))"
   ]
  },
  {
   "cell_type": "code",
   "execution_count": 15,
   "id": "1e08dd01-1f5b-4bcd-be6e-1d46cde794f2",
   "metadata": {},
   "outputs": [
    {
     "data": {
      "text/html": [
       "<html>\\(\\displaystyle \\mathrm{True}\\)</html>"
      ],
      "text/latex": [
       "$\\displaystyle \\mathrm{True}$"
      ],
      "text/plain": [
       "True"
      ]
     },
     "execution_count": 15,
     "metadata": {},
     "output_type": "execute_result"
    }
   ],
   "source": [
    "isinstance(eqt, sage.symbolic.expression.Expression) and eqt.is_relational()"
   ]
  },
  {
   "cell_type": "markdown",
   "id": "ada32869-a509-42a7-b74f-3e13d952cd01",
   "metadata": {
    "jp-MarkdownHeadingCollapsed": true
   },
   "source": [
    "## Duvidas"
   ]
  },
  {
   "cell_type": "code",
   "execution_count": 16,
   "id": "336bab9d-7195-445c-b051-2952d67d0db8",
   "metadata": {},
   "outputs": [],
   "source": [
    "def formal_diff(f, x):\n",
    "    \"\"\"The formal derivative of `f` with respect to the symbolic function `x`.\n",
    "\n",
    "    Arguments:\n",
    "        f {[type]} -- [description]\n",
    "        x {[type]} -- [description]\n",
    "\n",
    "    Returns:\n",
    "        [type] -- [description]\n",
    "    \"\"\"    \n",
    "    tempX = SR.symbol()\n",
    "    return f.subs({x: tempX}).diff(tempX).subs({tempX: x})"
   ]
  },
  {
   "cell_type": "code",
   "execution_count": 24,
   "id": "e795cec5-fece-4a05-929a-4c3675325d75",
   "metadata": {},
   "outputs": [],
   "source": [
    "if not x:\n",
    "    print(1)"
   ]
  },
  {
   "cell_type": "code",
   "execution_count": 18,
   "id": "75868089-d5ca-4c1b-bb9e-46662e9cb17b",
   "metadata": {},
   "outputs": [
    {
     "name": "stdout",
     "output_type": "stream",
     "text": [
      "<class 'sage.symbolic.expression.Expression'>\n"
     ]
    },
    {
     "data": {
      "text/html": [
       "<html>\\(\\displaystyle \\verb|&lt;class|\\verb| |\\verb|'sage.symbolic.expression.Expression'>|\\)</html>"
      ],
      "text/latex": [
       "$\\displaystyle \\verb|<class|\\verb| |\\verb|'sage.symbolic.expression.Expression'>|$"
      ],
      "text/plain": [
       "<class 'sage.symbolic.expression.Expression'>"
      ]
     },
     "execution_count": 18,
     "metadata": {},
     "output_type": "execute_result"
    }
   ],
   "source": [
    "eq1.is_relational()\n",
    "print(type(eq1))\n",
    "sage.symbolic.expression.Expression"
   ]
  },
  {
   "cell_type": "code",
   "execution_count": 20,
   "id": "5a69f56f-f99c-4e73-b8ca-a6c7777d48e5",
   "metadata": {},
   "outputs": [
    {
     "name": "stdout",
     "output_type": "stream",
     "text": [
      "(k^2*X(x) + diff(X(x), x, x))*Y(y) + X(x)*diff(Y(y), y, y)\n"
     ]
    }
   ],
   "source": [
    "ert = partially_separated_pde[0].canonicalize_radical()\n",
    "if ert:\n",
    "    print(ert)"
   ]
  },
  {
   "cell_type": "markdown",
   "id": "03093862-df81-4261-8c2b-e3d600e6567f",
   "metadata": {},
   "source": [
    "Por que não diferenciar por x de uma vez?"
   ]
  }
 ],
 "metadata": {
  "kernelspec": {
   "display_name": "SageMath 10.6",
   "language": "sage",
   "name": "sagemath"
  },
  "language_info": {
   "codemirror_mode": {
    "name": "ipython",
    "version": 3
   },
   "file_extension": ".py",
   "mimetype": "text/x-python",
   "name": "python",
   "nbconvert_exporter": "python",
   "pygments_lexer": "ipython3",
   "version": "3.11.12"
  }
 },
 "nbformat": 4,
 "nbformat_minor": 5
}
