{
 "cells": [
  {
   "cell_type": "markdown",
   "id": "281bcf22-4036-4755-bc8d-868ab105e004",
   "metadata": {
    "jp-MarkdownHeadingCollapsed": true
   },
   "source": [
    "# Funções"
   ]
  },
  {
   "cell_type": "code",
   "execution_count": 8,
   "id": "a9ef042f-1156-4f73-b05d-7aa779457335",
   "metadata": {},
   "outputs": [],
   "source": [
    "def coordenadas(ax_size = (-2,2), plane = False, opacity = 0.7):\n",
    "    u, v = var('y, z')\n",
    "    size = (ax_size[1] - ax_size[0])\n",
    "    u_ = (u, ax_size[0], ax_size[1]) # dimensão dos eixos / planos\n",
    "    v_ = (v, ax_size[0], ax_size[1]) # dimensão dos eixos / planos\n",
    "\n",
    "    x = parametric_plot((u, 0, 0), u_,  opacity=1, color='red')\n",
    "    x += vector([ax_size[1],0,0]).plot(color = 'red')\n",
    "    labels = text3d('x',1.1*vector([ax_size[1],0,0]),fontsize= str(10*size)+'%')\n",
    "    \n",
    "    y = parametric_plot((0, u, 0), u_,  opacity=1, color='yellow')\n",
    "    y += vector([0,ax_size[1],0]).plot(color = 'yellow')\n",
    "    labels += text3d('y',1.1*vector([0,ax_size[1],0]),fontsize= str(10*size)+'%')\n",
    "    \n",
    "    z = parametric_plot((0, 0, u), u_,  opacity=1) # Blue\n",
    "    z += vector([0,0,ax_size[1]]).plot(color = 'blue')\n",
    "    labels += text3d('z',1.1*vector([0,0,ax_size[1]]),fontsize= str(10*size)+'%')\n",
    "    \n",
    "    if plane == True:\n",
    "        \n",
    "        cont = ax_size[0]\n",
    "        xy = parametric_plot((u, cont, 0), u_, opacity=opacity, color='black')\n",
    "        xy += parametric_plot((cont, u, 0), u_, opacity=opacity, color='black')\n",
    "        while cont != ax_size[1]:\n",
    "\n",
    "            cont += size/10\n",
    "            xy += parametric_plot((u, cont, 0), u_, opacity=opacity, color='black')\n",
    "            xy += parametric_plot((cont, u, 0), u_, opacity=opacity, color='black')\n",
    "        return xy + x + y + z + labels # planos\n",
    "\n",
    "    return x + y + z + labels #eixos"
   ]
  },
  {
   "cell_type": "markdown",
   "id": "50b89ca2-faae-471c-91ec-0dae6c45741e",
   "metadata": {},
   "source": [
    "# Polytopes"
   ]
  },
  {
   "cell_type": "markdown",
   "id": "77c40d40-57c0-45a9-a8d8-830b8b2d211b",
   "metadata": {},
   "source": [
    "Para invocar um polytope usar: polytopes. e apertar tab"
   ]
  },
  {
   "cell_type": "code",
   "execution_count": 2,
   "id": "7d7dc8ed-5143-4c80-8cbf-36588ff8f5af",
   "metadata": {},
   "outputs": [
    {
     "data": {
      "text/plain": [
       "A 3-dimensional polyhedron in ZZ^3 defined as the convex hull of 8 vertices (use the .plot() method to plot)"
      ]
     },
     "execution_count": 2,
     "metadata": {},
     "output_type": "execute_result"
    }
   ],
   "source": [
    "polytopes.cube()"
   ]
  },
  {
   "cell_type": "markdown",
   "id": "8c4bd87d-8497-407d-9878-cf9f2aa7dbb2",
   "metadata": {},
   "source": [
    "## Transformando polytopes em tuplas, listas e matrizes"
   ]
  },
  {
   "cell_type": "markdown",
   "id": "dd8e35f8-90cf-41f1-b92c-95c95cd40580",
   "metadata": {},
   "source": [
    "Tupla"
   ]
  },
  {
   "cell_type": "code",
   "execution_count": 7,
   "id": "fc95fbc4-3729-4de7-84c8-9de5dd02d0e5",
   "metadata": {},
   "outputs": [
    {
     "data": {
      "text/plain": [
       "(A vertex at (1, -1, -1),\n",
       " A vertex at (1, 1, -1),\n",
       " A vertex at (1, 1, 1),\n",
       " A vertex at (1, -1, 1),\n",
       " A vertex at (-1, -1, 1),\n",
       " A vertex at (-1, -1, -1),\n",
       " A vertex at (-1, 1, -1),\n",
       " A vertex at (-1, 1, 1))"
      ]
     },
     "execution_count": 7,
     "metadata": {},
     "output_type": "execute_result"
    }
   ],
   "source": [
    "polytopes.cube().vertices()"
   ]
  },
  {
   "cell_type": "code",
   "execution_count": null,
   "id": "8fa2687d-d99e-4255-8899-6a53207e0484",
   "metadata": {},
   "outputs": [],
   "source": [
    "type(polytopes.cube.vertices())"
   ]
  },
  {
   "cell_type": "markdown",
   "id": "37f1b57c-3f85-47b6-a610-1839e98d0451",
   "metadata": {},
   "source": [
    "Lista"
   ]
  },
  {
   "cell_type": "code",
   "execution_count": 6,
   "id": "95170a4c-69e2-46f6-b065-b716b161ddf1",
   "metadata": {},
   "outputs": [
    {
     "data": {
      "text/plain": [
       "[A vertex at (1, -1, -1),\n",
       " A vertex at (1, 1, -1),\n",
       " A vertex at (1, 1, 1),\n",
       " A vertex at (1, -1, 1),\n",
       " A vertex at (-1, -1, 1),\n",
       " A vertex at (-1, -1, -1),\n",
       " A vertex at (-1, 1, -1),\n",
       " A vertex at (-1, 1, 1)]"
      ]
     },
     "execution_count": 6,
     "metadata": {},
     "output_type": "execute_result"
    }
   ],
   "source": [
    "list(polytopes.cube().vertices())"
   ]
  },
  {
   "cell_type": "code",
   "execution_count": 5,
   "id": "af9e519f-f527-4678-863c-63328c8dc8ef",
   "metadata": {},
   "outputs": [
    {
     "data": {
      "text/plain": [
       "<class 'list'>"
      ]
     },
     "execution_count": 5,
     "metadata": {},
     "output_type": "execute_result"
    }
   ],
   "source": [
    "type(list(polytopes.cube().vertices()))"
   ]
  },
  {
   "cell_type": "markdown",
   "id": "f65bd539-9128-4e0f-a0d8-ff0b0a897889",
   "metadata": {},
   "source": [
    "Matriz"
   ]
  },
  {
   "cell_type": "code",
   "execution_count": 4,
   "id": "36eec375-62d1-412b-9474-b62f26bb0cc9",
   "metadata": {},
   "outputs": [
    {
     "data": {
      "text/plain": [
       "[ 1 -1 -1]\n",
       "[ 1  1 -1]\n",
       "[ 1  1  1]\n",
       "[ 1 -1  1]\n",
       "[-1 -1  1]\n",
       "[-1 -1 -1]\n",
       "[-1  1 -1]\n",
       "[-1  1  1]"
      ]
     },
     "execution_count": 4,
     "metadata": {},
     "output_type": "execute_result"
    }
   ],
   "source": [
    "matrix(list(polytopes.cube().vertices()))"
   ]
  },
  {
   "cell_type": "code",
   "execution_count": 3,
   "id": "2256b806-35e2-4ae2-aa68-9a4e828ab433",
   "metadata": {},
   "outputs": [
    {
     "data": {
      "text/plain": [
       "<class 'list'>"
      ]
     },
     "execution_count": 3,
     "metadata": {},
     "output_type": "execute_result"
    }
   ],
   "source": [
    "type(list(polytopes.cube().vertices()))"
   ]
  },
  {
   "cell_type": "code",
   "execution_count": 11,
   "id": "cb830d2b-8a9a-4dc0-b4c8-d3d5ca55f2a8",
   "metadata": {},
   "outputs": [],
   "source": [
    "cubo = matrix(list(polytopes.cube().vertices()))"
   ]
  },
  {
   "cell_type": "code",
   "execution_count": 10,
   "id": "7d4deff8-c275-4ff9-9dce-f5521ec8328b",
   "metadata": {},
   "outputs": [
    {
     "ename": "TypeError",
     "evalue": "unsupported operand parent(s) for +: 'Polyhedra in ZZ^3' and 'Full MatrixSpace of 8 by 3 dense matrices over Integer Ring'",
     "output_type": "error",
     "traceback": [
      "\u001b[0;31m---------------------------------------------------------------------------\u001b[0m",
      "\u001b[0;31mTypeError\u001b[0m                                 Traceback (most recent call last)",
      "Cell \u001b[0;32mIn [10], line 1\u001b[0m\n\u001b[0;32m----> 1\u001b[0m (matrix(\u001b[43mPolyhedron\u001b[49m\u001b[43m(\u001b[49m\u001b[38;5;28;43mlist\u001b[39;49m\u001b[43m(\u001b[49m\u001b[43mpolytopes\u001b[49m\u001b[38;5;241;43m.\u001b[39;49m\u001b[43mcube\u001b[49m\u001b[43m(\u001b[49m\u001b[43m)\u001b[49m\u001b[38;5;241;43m.\u001b[39;49m\u001b[43mvertices\u001b[49m\u001b[43m(\u001b[49m\u001b[43m)\u001b[49m\u001b[43m)\u001b[49m\u001b[43m)\u001b[49m\u001b[43m \u001b[49m\u001b[38;5;241;43m+\u001b[39;49m\u001b[43m \u001b[49m\u001b[43mmatrix\u001b[49m\u001b[43m(\u001b[49m\u001b[43m[\u001b[49m\u001b[43m[\u001b[49m\u001b[43mInteger\u001b[49m\u001b[43m(\u001b[49m\u001b[38;5;241;43m1\u001b[39;49m\u001b[43m)\u001b[49m\u001b[43m,\u001b[49m\u001b[43mInteger\u001b[49m\u001b[43m(\u001b[49m\u001b[38;5;241;43m1\u001b[39;49m\u001b[43m)\u001b[49m\u001b[43m,\u001b[49m\u001b[43mInteger\u001b[49m\u001b[43m(\u001b[49m\u001b[38;5;241;43m1\u001b[39;49m\u001b[43m)\u001b[49m\u001b[43m]\u001b[49m\u001b[43m]\u001b[49m\u001b[38;5;241;43m*\u001b[39;49m\u001b[43mInteger\u001b[49m\u001b[43m(\u001b[49m\u001b[38;5;241;43m8\u001b[39;49m\u001b[43m)\u001b[49m\u001b[43m)\u001b[49m))\u001b[38;5;241m.\u001b[39mplot() \u001b[38;5;241m+\u001b[39m coordenadas(plane\u001b[38;5;241m=\u001b[39m\u001b[38;5;28;01mTrue\u001b[39;00m)\n",
      "File \u001b[0;32m/usr/lib/python3/dist-packages/sage/structure/element.pyx:1233\u001b[0m, in \u001b[0;36msage.structure.element.Element.__add__ (build/cythonized/sage/structure/element.c:11188)\u001b[0;34m()\u001b[0m\n\u001b[1;32m   1231\u001b[0m # Left and right are Sage elements => use coercion model\n\u001b[1;32m   1232\u001b[0m if BOTH_ARE_ELEMENT(cl):\n\u001b[0;32m-> 1233\u001b[0m     return coercion_model.bin_op(left, right, add)\n\u001b[1;32m   1234\u001b[0m \n\u001b[1;32m   1235\u001b[0m cdef long value\n",
      "File \u001b[0;32m/usr/lib/python3/dist-packages/sage/structure/coerce.pyx:1248\u001b[0m, in \u001b[0;36msage.structure.coerce.CoercionModel.bin_op (build/cythonized/sage/structure/coerce.c:11885)\u001b[0;34m()\u001b[0m\n\u001b[1;32m   1246\u001b[0m     # We should really include the underlying error.\n\u001b[1;32m   1247\u001b[0m     # This causes so much headache.\n\u001b[0;32m-> 1248\u001b[0m     raise bin_op_exception(op, x, y)\n\u001b[1;32m   1249\u001b[0m \n\u001b[1;32m   1250\u001b[0m cpdef canonical_coercion(self, x, y):\n",
      "\u001b[0;31mTypeError\u001b[0m: unsupported operand parent(s) for +: 'Polyhedra in ZZ^3' and 'Full MatrixSpace of 8 by 3 dense matrices over Integer Ring'"
     ]
    }
   ],
   "source": [
    "Polyhedron(cu + matrix([[1,1,1]]*8)).plot() + coordenadas(plane=True)"
   ]
  },
  {
   "cell_type": "code",
   "execution_count": null,
   "id": "b9d1f4ec-d37e-456d-ae72-13b4824a44d6",
   "metadata": {},
   "outputs": [],
   "source": []
  }
 ],
 "metadata": {
  "kernelspec": {
   "display_name": "SageMath 9.5",
   "language": "sage",
   "name": "sagemath"
  },
  "language_info": {
   "codemirror_mode": {
    "name": "ipython",
    "version": 3
   },
   "file_extension": ".py",
   "mimetype": "text/x-python",
   "name": "python",
   "nbconvert_exporter": "python",
   "pygments_lexer": "ipython3",
   "version": "3.11.2"
  }
 },
 "nbformat": 4,
 "nbformat_minor": 5
}
